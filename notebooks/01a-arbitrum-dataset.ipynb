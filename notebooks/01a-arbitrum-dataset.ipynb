{
 "cells": [
  {
   "cell_type": "markdown",
   "metadata": {},
   "source": [
    "## Arbitrum Data Collection\n",
    "**[Johnnatan Messias](https://johnnatan-messias.github.io/), March 2025**\n",
    "\n",
    "This notebook file is useful for retrieving Arbitrum data from the [Nansen Query API](https://query.nansen.ai)."
   ]
  },
  {
   "cell_type": "code",
   "execution_count": null,
   "metadata": {},
   "outputs": [],
   "source": [
    "import pandas as pd\n",
    "from tqdm.notebook import tqdm\n",
    "import pandas_gbq\n",
    "from google.cloud import bigquery\n",
    "%load_ext google.cloud.bigquery\n"
   ]
  },
  {
   "cell_type": "code",
   "execution_count": null,
   "metadata": {},
   "outputs": [],
   "source": [
    "progress_bar_type = 'tqdm_notebook'\n",
    "project_id = 'proof-time-prediction'"
   ]
  },
  {
   "cell_type": "code",
   "execution_count": null,
   "metadata": {},
   "outputs": [],
   "source": [
    "import sys\n",
    "import os\n",
    "data_dir = os.path.realpath(os.path.join(\n",
    "    os.getcwd(), \"..\", \"data\", \"arbitrum\")) + os.sep\n",
    "\n",
    "print(data_dir)"
   ]
  },
  {
   "cell_type": "code",
   "execution_count": null,
   "metadata": {},
   "outputs": [],
   "source": [
    "# There are 1,208,286 logs for the contract \"0x67a24ce4321ab3af51c2d0a4801c3e111d88c9d9\"\n",
    "# There are 65,674,747 logs for the contract \"0x912ce59144191c1204e64559fe8253a0e49e6548\"\n",
    "\n",
    "arbitrum_airdrop_contract_address = \"0x67a24ce4321ab3af51c2d0a4801c3e111d88c9d9\"\n",
    "arb_token_contract_address = \"0x912ce59144191c1204e64559fe8253a0e49e6548\""
   ]
  },
  {
   "cell_type": "code",
   "execution_count": null,
   "metadata": {},
   "outputs": [],
   "source": [
    "sql = \"\"\"\n",
    "SELECT *\n",
    "FROM `nansen-query.raw_arbitrum.logs`\n",
    "WHERE address = '{contract_address}'\n",
    "\"\"\""
   ]
  },
  {
   "cell_type": "code",
   "execution_count": null,
   "metadata": {},
   "outputs": [],
   "source": [
    "sql_2 = \"\"\"\n",
    "SELECT *\n",
    "FROM `nansen-query.raw_arbitrum.logs`\n",
    "WHERE address = '{contract_address}' AND block_timestamp >= '{start_date}' AND block_timestamp < '{end_date}'\n",
    "\"\"\""
   ]
  },
  {
   "cell_type": "code",
   "execution_count": null,
   "metadata": {},
   "outputs": [],
   "source": [
    "query = sql.format(contract_address=arbitrum_airdrop_contract_address)\n",
    "df = pandas_gbq.read_gbq(query, project_id=project_id,\n",
    "                         progress_bar_type=progress_bar_type)\n",
    "filename = 'arbitrum_logs.csv.gz'\n",
    "df.to_csv(data_dir + filename, index=False, compression='gzip')"
   ]
  },
  {
   "cell_type": "code",
   "execution_count": null,
   "metadata": {},
   "outputs": [],
   "source": [
    "start_date, end_date = '2023-03-01', 'today'\n",
    "dates = list(map(lambda x: x.date(), pd.date_range(\n",
    "    start=start_date, end=end_date, freq='7D')))\n",
    "\n",
    "for end_date in dates[1:]:\n",
    "    print(\"Fetching logs for the contract {} between {} and {}\".format(\n",
    "        arb_token_contract_address, str(start_date), str(end_date))\n",
    "    )\n",
    "    query = sql_2.format(\n",
    "        contract_address=arb_token_contract_address,\n",
    "        start_date=str(start_date),\n",
    "        end_date=str(end_date)\n",
    "    )\n",
    "    df = pandas_gbq.read_gbq(query, project_id=project_id,\n",
    "                             progress_bar_type=progress_bar_type)\n",
    "    print(\"There are {} logs for the contract {} between {} and {}\".format(\n",
    "        df.shape[0], arb_token_contract_address, str(start_date), str(end_date))\n",
    "    )\n",
    "    filename = \"arb_{}_{}.csv.gz\".format(str(start_date), str(end_date))\n",
    "    df.to_csv(data_dir+filename, index=False, compression='gzip')\n",
    "    start_date = end_date\n",
    "    print(\"Saved logs to {}\".format(data_dir+filename))"
   ]
  }
 ],
 "metadata": {
  "kernelspec": {
   "display_name": "Python 3",
   "language": "python",
   "name": "python3"
  },
  "language_info": {
   "codemirror_mode": {
    "name": "ipython",
    "version": 3
   },
   "file_extension": ".py",
   "mimetype": "text/x-python",
   "name": "python",
   "nbconvert_exporter": "python",
   "pygments_lexer": "ipython3",
   "version": "3.11.7"
  }
 },
 "nbformat": 4,
 "nbformat_minor": 2
}

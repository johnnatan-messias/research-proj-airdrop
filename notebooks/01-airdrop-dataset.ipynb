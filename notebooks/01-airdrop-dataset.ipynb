{
 "cells": [
  {
   "cell_type": "markdown",
   "metadata": {},
   "source": [
    "# Data collection\n",
    "\n",
    "**[Johnnatan Messias](https://johnnatan-messias.github.io/), March 2025**\n",
    "\n",
    "This notebook is used to gathered data from dYdX, 1inch, Compound, Uniswap, SushiSwap, ENS, and others from the Ethereum Mainnet.\n",
    "See also the two repositories below\n",
    "\n",
    "1. https://github.com/johnnatan-messias/ethereum-crawler/blob/main/1-dataset.ipynb\n",
    "1. https://github.com/johnnatan-messias/chainlink-data-feed-crawler\n"
   ]
  },
  {
   "cell_type": "code",
   "execution_count": 1,
   "metadata": {},
   "outputs": [],
   "source": [
    "import gzip\n",
    "import pickle\n",
    "from tqdm import tqdm\n",
    "import requests as re"
   ]
  },
  {
   "cell_type": "code",
   "execution_count": 2,
   "metadata": {},
   "outputs": [],
   "source": [
    "import sys\n",
    "import os\n",
    "code_dir = os.path.realpath(os.path.join(os.getcwd(), \"..\", \"src\"))\n",
    "\n",
    "sys.path.append(code_dir)"
   ]
  },
  {
   "cell_type": "code",
   "execution_count": 3,
   "metadata": {},
   "outputs": [],
   "source": [
    "from ethereum import (get_contract,\n",
    "                      get_all_events_from_contract,\n",
    "                      get_batch_intervals, get_transactions)\n",
    "from utils import Utils"
   ]
  },
  {
   "cell_type": "code",
   "execution_count": 4,
   "metadata": {},
   "outputs": [
    {
     "name": "stdout",
     "output_type": "stream",
     "text": [
      "dict_keys(['ens', 'ens_register', 'dydx', 'dydx-merkle-distributor', 'compound', 'uniswap', 'sushi', '1inch', 'tornadocash', 'worldcoin', 'lido', 'lido-token', 'arkham-token', 'arkham-airdrop'])\n"
     ]
    }
   ],
   "source": [
    "contract_settings = Utils.load_contract_settings(chain=\"mainnet\")\n",
    "print(contract_settings.keys())"
   ]
  },
  {
   "cell_type": "code",
   "execution_count": 5,
   "metadata": {},
   "outputs": [
    {
     "name": "stdout",
     "output_type": "stream",
     "text": [
      "/Users/johnnatanmessias/research-projects/data/\n"
     ]
    }
   ],
   "source": [
    "data_dir = os.path.realpath(os.path.join(\n",
    "    os.getcwd(), \"..\", '..', \"data\")) + os.sep\n",
    "\n",
    "print(data_dir)"
   ]
  },
  {
   "cell_type": "code",
   "execution_count": 6,
   "metadata": {},
   "outputs": [],
   "source": [
    "path_dir = '../data/'\n",
    "path_plots = '../plots/'\n",
    "os.makedirs(path_dir, exist_ok=True)\n",
    "os.makedirs(path_plots, exist_ok=True)"
   ]
  },
  {
   "cell_type": "code",
   "execution_count": 7,
   "metadata": {},
   "outputs": [],
   "source": [
    "last_block = 21_800_000"
   ]
  },
  {
   "cell_type": "markdown",
   "metadata": {},
   "source": [
    "# Data gathering from archive node\n"
   ]
  },
  {
   "cell_type": "code",
   "execution_count": 8,
   "metadata": {},
   "outputs": [],
   "source": [
    "from web3 import Web3"
   ]
  },
  {
   "cell_type": "code",
   "execution_count": 9,
   "metadata": {},
   "outputs": [
    {
     "name": "stdout",
     "output_type": "stream",
     "text": [
      "Is connected to Ethereum node:  True\n",
      "The most recent block is:  22174062\n"
     ]
    }
   ],
   "source": [
    "eth_node = os.environ['ETHEREUM_NODE_URL']\n",
    "etherscan_api_key = os.environ[\"ETHERSCAN_API_KEY\"]\n",
    "\n",
    "adapter = re.adapters.HTTPAdapter(pool_connections=20, pool_maxsize=20)\n",
    "session = re.Session()\n",
    "session.mount('http://', adapter)\n",
    "session.mount('https://', adapter)\n",
    "\n",
    "w3 = Web3(Web3.HTTPProvider(eth_node, session=session,\n",
    "          request_kwargs={'timeout': 60}))\n",
    "\n",
    "print(\"Is connected to Ethereum node: \", w3.is_connected())\n",
    "print(\"The most recent block is: \", w3.eth.block_number)"
   ]
  },
  {
   "cell_type": "code",
   "execution_count": 10,
   "metadata": {},
   "outputs": [],
   "source": [
    "contracts = {}\n",
    "for contract in contract_settings:\n",
    "    abi_contract = contract_settings[contract].get('abi-proxy')\n",
    "    contracts[contract] = get_contract(\n",
    "        w3, contract_settings[contract]['address'], abi_contract_address=abi_contract)"
   ]
  },
  {
   "cell_type": "code",
   "execution_count": 11,
   "metadata": {},
   "outputs": [
    {
     "name": "stdout",
     "output_type": "stream",
     "text": [
      "ens\n",
      "\t Approval\n",
      "\t Claim\n",
      "\t DelegateChanged\n",
      "\t DelegateVotesChanged\n",
      "\t MerkleRootChanged\n",
      "\t OwnershipTransferred\n",
      "\t Transfer\n",
      "ens_register\n",
      "\t NameRegistered\n",
      "\t NameRenewed\n",
      "\t OwnershipTransferred\n",
      "dydx\n",
      "\t Approval\n",
      "\t DelegateChanged\n",
      "\t DelegatedPowerChanged\n",
      "\t OwnershipTransferred\n",
      "\t Transfer\n",
      "\t TransferAllowlistUpdated\n",
      "\t TransfersRestrictedBeforeUpdated\n",
      "dydx-merkle-distributor\n",
      "\t AlwaysAllowClaimForUpdated\n",
      "\t EpochScheduleUpdated\n",
      "\t IpfsUpdatePeriodUpdated\n",
      "\t IpnsNameUpdated\n",
      "\t RewardsClaimed\n",
      "\t RewardsOracleChanged\n",
      "\t RewardsParametersUpdated\n",
      "\t RoleAdminChanged\n",
      "\t RoleGranted\n",
      "\t RoleRevoked\n",
      "\t RootProposed\n",
      "\t RootUpdated\n",
      "\t RootUpdatesPaused\n",
      "\t RootUpdatesUnpaused\n",
      "compound\n",
      "\t Approval\n",
      "\t DelegateChanged\n",
      "\t DelegateVotesChanged\n",
      "\t Transfer\n",
      "uniswap\n",
      "\t Approval\n",
      "\t DelegateChanged\n",
      "\t DelegateVotesChanged\n",
      "\t MinterChanged\n",
      "\t Transfer\n",
      "sushi\n",
      "\t Approval\n",
      "\t DelegateChanged\n",
      "\t DelegateVotesChanged\n",
      "\t OwnershipTransferred\n",
      "\t Transfer\n",
      "1inch\n",
      "\t Approval\n",
      "\t OwnershipTransferred\n",
      "\t Transfer\n",
      "tornadocash\n",
      "\t Allowed\n",
      "\t Approval\n",
      "\t Disallowed\n",
      "\t Paused\n",
      "\t Transfer\n",
      "\t Unpaused\n",
      "worldcoin\n",
      "\t Approval\n",
      "\t InflationTokensMinted\n",
      "\t OwnershipTransferStarted\n",
      "\t OwnershipTransferred\n",
      "\t TokenUpdated\n",
      "\t TokensMinted\n",
      "\t Transfer\n",
      "lido\n",
      "\t Claimed\n",
      "lido-token\n",
      "\t Approval\n",
      "\t ClaimedTokens\n",
      "\t NewCloneToken\n",
      "\t Transfer\n",
      "arkham-token\n",
      "\t AdminChanged\n",
      "\t Approval\n",
      "\t BeaconUpgraded\n",
      "\t Initialized\n",
      "\t OwnershipTransferred\n",
      "\t Paused\n",
      "\t Transfer\n",
      "\t Unpaused\n",
      "\t Upgraded\n",
      "arkham-airdrop\n",
      "\t Claimed\n",
      "\t OwnershipTransferred\n"
     ]
    }
   ],
   "source": [
    "for contract in contracts:\n",
    "    print(contract)\n",
    "    for event in contracts[contract].events:\n",
    "        print('\\t', event.event_name)"
   ]
  },
  {
   "cell_type": "code",
   "execution_count": null,
   "metadata": {},
   "outputs": [],
   "source": [
    "batch_size = 1000\n",
    "max_workers = 10\n",
    "for contract_name in contract_settings:\n",
    "    print(contract_name)\n",
    "    events = get_all_events_from_contract(contracts[contract_name],\n",
    "                                          start_block=contract_settings[contract_name]['start'],\n",
    "                                          end_block=last_block,\n",
    "                                          batch_size=batch_size,\n",
    "                                          max_workers=max_workers,\n",
    "                                          events=None)\n",
    "    with gzip.open(path_dir + 'events_' + contract_name + '.pkl.gz', 'wb') as f:\n",
    "        pickle.dump(events, f)"
   ]
  },
  {
   "cell_type": "code",
   "execution_count": 10,
   "metadata": {},
   "outputs": [
    {
     "name": "stdout",
     "output_type": "stream",
     "text": [
      "The min block and max block are:  9601359 21800000\n"
     ]
    }
   ],
   "source": [
    "block_min = float('inf')\n",
    "block_max = 0\n",
    "for contract_name in contract_settings:\n",
    "    block_min = min(block_min, contract_settings[contract_name]['start'])\n",
    "    block_max = max(block_max, last_block)\n",
    "print(\"The min block and max block are: \", block_min, block_max)"
   ]
  },
  {
   "cell_type": "code",
   "execution_count": 24,
   "metadata": {},
   "outputs": [
    {
     "data": {
      "text/plain": [
       "['1inch',\n",
       " 'compound',\n",
       " 'dydx',\n",
       " 'ens',\n",
       " 'ens_register',\n",
       " 'lido',\n",
       " 'lido-token',\n",
       " 'sushi',\n",
       " 'tornadocash',\n",
       " 'uniswap',\n",
       " 'worldcoin']"
      ]
     },
     "execution_count": 24,
     "metadata": {},
     "output_type": "execute_result"
    }
   ],
   "source": [
    "contract_names = sorted(['_'.join(filename.split('_')[1:])[:-7] for filename in os.listdir(\n",
    "    path_dir) if filename.startswith(\"events_\") and filename.endswith(\".pkl.gz\")])\n",
    "contract_names"
   ]
  },
  {
   "cell_type": "code",
   "execution_count": 25,
   "metadata": {},
   "outputs": [],
   "source": [
    "def load_dataset(contract_name):\n",
    "    with gzip.open(path_dir + 'events_' + contract_name + '.pkl.gz', 'rb') as f:\n",
    "        events = pickle.load(f)\n",
    "    return events"
   ]
  },
  {
   "cell_type": "code",
   "execution_count": 26,
   "metadata": {},
   "outputs": [
    {
     "name": "stderr",
     "output_type": "stream",
     "text": [
      "100%|██████████| 11/11 [03:37<00:00, 19.81s/it]\n"
     ]
    },
    {
     "name": "stdout",
     "output_type": "stream",
     "text": [
      "There are 26311951 transactions\n",
      "There are 16440146 unique transactions\n"
     ]
    }
   ],
   "source": [
    "txs = list()\n",
    "for contract_name in tqdm(contract_settings):\n",
    "    events = load_dataset(contract_name)\n",
    "    for event in events:\n",
    "        txs += list(map(lambda tx: tx['transactionHash'].hex().lower(), events[event]))\n",
    "print(\"There are {} transactions\".format(len(txs)))\n",
    "txs = set(txs)\n",
    "print(\"There are {} unique transactions\".format(len(txs)))"
   ]
  },
  {
   "cell_type": "code",
   "execution_count": null,
   "metadata": {},
   "outputs": [],
   "source": [
    "# c = 1\n",
    "# for index, thumb in tqdm(get_batch_intervals(0, len(txs), 200_000)):\n",
    "#     txs_data = get_transactions(w3, txs[index:thumb])\n",
    "#     with gzip.open(path_dir + 'txs/txs_' + str(c) + '.pkl.gz', 'wb') as f:\n",
    "#         pickle.dump(txs_data, f)\n",
    "#     c += 1"
   ]
  }
 ],
 "metadata": {
  "kernelspec": {
   "display_name": "base",
   "language": "python",
   "name": "python3"
  },
  "language_info": {
   "codemirror_mode": {
    "name": "ipython",
    "version": 3
   },
   "file_extension": ".py",
   "mimetype": "text/x-python",
   "name": "python",
   "nbconvert_exporter": "python",
   "pygments_lexer": "ipython3",
   "version": "3.12.9"
  },
  "orig_nbformat": 4
 },
 "nbformat": 4,
 "nbformat_minor": 2
}

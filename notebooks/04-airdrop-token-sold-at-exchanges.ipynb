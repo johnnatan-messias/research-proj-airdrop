{
 "cells": [
  {
   "cell_type": "markdown",
   "metadata": {},
   "source": [
    "# Airdrops -- Exploratory Data Analysis\n",
    "\n",
    "**[Johnnatan Messias](https://johnnatan-messias.github.io/), May 2025**.\n"
   ]
  },
  {
   "cell_type": "code",
   "execution_count": 60,
   "metadata": {},
   "outputs": [],
   "source": [
    "# Standard Library Imports\n",
    "import os\n",
    "\n",
    "# Third-Party Libraries\n",
    "import polars as pl\n",
    "from tqdm.notebook import tqdm\n",
    "\n",
    "# Polars Configuration\n",
    "pl.Config.set_float_precision(18)\n",
    "\n",
    "from utils_plot import percentiles"
   ]
  },
  {
   "cell_type": "code",
   "execution_count": 2,
   "metadata": {},
   "outputs": [],
   "source": [
    "import sys\n",
    "code_dir = os.path.realpath(os.path.join(os.getcwd(), \"..\", \"src\"))\n",
    "\n",
    "sys.path.append(code_dir)"
   ]
  },
  {
   "cell_type": "code",
   "execution_count": 3,
   "metadata": {},
   "outputs": [],
   "source": [
    "protocols = [\"ens\", \"dydx\", \"1inch\", \"gemstone\", \"arbitrum\",\n",
    "             \"optimism\", \"uniswap\", \"arkham\", \"lido\", \"tornado\"]"
   ]
  },
  {
   "cell_type": "code",
   "execution_count": 4,
   "metadata": {},
   "outputs": [],
   "source": [
    "data_dir = os.path.realpath(os.path.join(os.getcwd(), \"..\", \"data\"))\n",
    "\n",
    "os.makedirs(data_dir, exist_ok=True)"
   ]
  },
  {
   "cell_type": "code",
   "execution_count": 5,
   "metadata": {},
   "outputs": [],
   "source": [
    "# Loading dead/null addresses\n",
    "dead_addresses = pl.read_csv(os.path.join(\n",
    "    data_dir, \"dead_addresses.csv\"))['address']"
   ]
  },
  {
   "cell_type": "code",
   "execution_count": 6,
   "metadata": {},
   "outputs": [],
   "source": [
    "decimals = 1e18"
   ]
  },
  {
   "cell_type": "markdown",
   "metadata": {},
   "source": [
    "# Loading data\n"
   ]
  },
  {
   "cell_type": "code",
   "execution_count": 7,
   "metadata": {},
   "outputs": [],
   "source": [
    "from pathlib import Path\n",
    "\n",
    "\n",
    "def load_dataset(protocols):\n",
    "    # Define base data directory\n",
    "    base_path = Path(data_dir)\n",
    "\n",
    "    # Load datasets using dictionary comprehension\n",
    "    return {\n",
    "        protocol: {\n",
    "            'transfer': pl.scan_parquet(base_path / f\"{protocol}_transfer.parquet\"),\n",
    "            'claim': pl.scan_parquet(base_path / f\"{protocol}_claim.parquet\")\n",
    "        }\n",
    "        for protocol in tqdm(protocols)\n",
    "    }"
   ]
  },
  {
   "cell_type": "code",
   "execution_count": 8,
   "metadata": {},
   "outputs": [
    {
     "data": {
      "application/vnd.jupyter.widget-view+json": {
       "model_id": "5bafa03b0d0246e681fff7dacf0ec136",
       "version_major": 2,
       "version_minor": 0
      },
      "text/plain": [
       "  0%|          | 0/10 [00:00<?, ?it/s]"
      ]
     },
     "metadata": {},
     "output_type": "display_data"
    },
    {
     "name": "stdout",
     "output_type": "stream",
     "text": [
      "ens\n",
      "dydx\n",
      "1inch\n",
      "gemstone\n",
      "arbitrum\n",
      "optimism\n",
      "uniswap\n",
      "arkham\n",
      "lido\n",
      "tornado\n"
     ]
    }
   ],
   "source": [
    "# Load the dataset once\n",
    "dfs = load_dataset(protocols)\n",
    "\n",
    "# Define protocols with 'to' as receiver in claim\n",
    "to_receiver_protocols = {\"1inch\", \"uniswap\", \"lido\", \"tornado\", \"optimism\"}\n",
    "\n",
    "for protocol, data in dfs.items():\n",
    "    print(protocol)\n",
    "\n",
    "    # Rename for 'transfer'\n",
    "    data['transfer'] = data['transfer'].rename(\n",
    "        {\"from\": \"sender\", \"to\": \"receiver\"})\n",
    "\n",
    "    # Determine claim renaming based on protocol\n",
    "    claim_rename = {\"to\": \"receiver\"} if protocol in to_receiver_protocols else {\n",
    "        \"account\": \"receiver\"}\n",
    "\n",
    "    # Apply renaming for 'claim'\n",
    "    data['claim'] = data['claim'].rename(claim_rename)"
   ]
  },
  {
   "cell_type": "code",
   "execution_count": 9,
   "metadata": {},
   "outputs": [
    {
     "name": "stdout",
     "output_type": "stream",
     "text": [
      "There are 3011 CEX addresses and 558 DEX addresses.\n",
      "There are 3569 exchange addresses in total.\n"
     ]
    }
   ],
   "source": [
    "# Loading exchange addresses\n",
    "# Define data paths\n",
    "cex_path = os.path.join(data_dir, \"cex_addresses.csv\")\n",
    "dex_path = os.path.join(data_dir, \"dex_addresses.csv\")\n",
    "\n",
    "# Load data\n",
    "exchange_cex_addresses_df = pl.read_csv(cex_path)\n",
    "exchange_dex_addresses_df = pl.read_csv(dex_path)\n",
    "\n",
    "# Union set of the exchanges\n",
    "exchange_addresses_set = set(exchange_cex_addresses_df['address'].to_list(\n",
    ") + exchange_dex_addresses_df['address'].to_list())\n",
    "\n",
    "# Output the number of addresses\n",
    "print(\n",
    "    f\"There are {exchange_cex_addresses_df['address'].unique().len()} CEX addresses and {exchange_dex_addresses_df['address'].unique().len()} DEX addresses.\")\n",
    "\n",
    "print(f\"There are {len(exchange_addresses_set)} exchange addresses in total.\")\n",
    "\n",
    "# Adding fake exchange created during the Gemstone airdrop attack.\n",
    "exchange_addresses_set.add('0x7aa1ed8fb5e820e38c86cf3dd0a9eb0169a149ad')"
   ]
  },
  {
   "cell_type": "markdown",
   "metadata": {},
   "source": [
    "# Tokens sold at exchanges\n"
   ]
  },
  {
   "cell_type": "code",
   "execution_count": 10,
   "metadata": {},
   "outputs": [],
   "source": [
    "def initialize_account(balances_dict, address):\n",
    "    if address not in balances_dict:\n",
    "        balances_dict[address] = {\n",
    "            'current': 0, 'history': [], 'n_sender': 0, 'n_receiver': 0\n",
    "        }\n",
    "\n",
    "\n",
    "def update_balance_history(balances_dict, address, block_number, timestamp, balance_before, balance_after):\n",
    "    balances_dict[address]['history'].append({\n",
    "        'block_number': block_number,\n",
    "        'timestamp': timestamp,\n",
    "        'balance_before': balance_before,\n",
    "        'balance_after': balance_after\n",
    "    })\n",
    "\n",
    "\n",
    "def compute_account_balances(transfer_df):\n",
    "    balances_history_dict = {}\n",
    "    # Collecting data lazily\n",
    "    data = transfer_df.select([\n",
    "        pl.col(\"sender\"),\n",
    "        pl.col(\"receiver\"),\n",
    "        pl.col(\"amount\"),\n",
    "        pl.col(\"blockNumber\"),\n",
    "        pl.col(\"timestamp\")\n",
    "    ]).collect()\n",
    "    for row in tqdm(data.iter_rows(named=True), desc='Loading balances', total=len(data)):\n",
    "        sender, receiver = row['sender'], row['receiver']\n",
    "        balance = float(row['amount'])\n",
    "        block_number, timestamp = row['blockNumber'], row['timestamp']\n",
    "\n",
    "        # Initialize sender and receiver accounts\n",
    "        initialize_account(balances_history_dict, sender)\n",
    "        initialize_account(balances_history_dict, receiver)\n",
    "\n",
    "        # Update balance history\n",
    "        sender_before = balances_history_dict[sender]['current']\n",
    "        receiver_before = balances_history_dict[receiver]['current']\n",
    "        update_balance_history(balances_history_dict, sender, block_number,\n",
    "                               timestamp, sender_before, sender_before - balance)\n",
    "        update_balance_history(balances_history_dict, receiver, block_number,\n",
    "                               timestamp, receiver_before, receiver_before + balance)\n",
    "\n",
    "        # Update transaction counts\n",
    "        # update_transaction_counts(balances_history_dict, sender, receiver)\n",
    "        balances_history_dict[sender]['n_sender'] += 1\n",
    "        balances_history_dict[receiver]['n_receiver'] += 1\n",
    "\n",
    "        # Update current balances\n",
    "        balances_history_dict[sender]['current'] -= balance\n",
    "        balances_history_dict[receiver]['current'] += balance\n",
    "\n",
    "    print(f\"Total unique addresses: {len(balances_history_dict)}\")\n",
    "    return balances_history_dict"
   ]
  },
  {
   "cell_type": "code",
   "execution_count": 11,
   "metadata": {},
   "outputs": [
    {
     "name": "stdout",
     "output_type": "stream",
     "text": [
      "ens\n"
     ]
    },
    {
     "data": {
      "application/vnd.jupyter.widget-view+json": {
       "model_id": "b6a5f7334ea345c590eba3e091bbb6fd",
       "version_major": 2,
       "version_minor": 0
      },
      "text/plain": [
       "Loading balances:   0%|          | 0/998619 [00:00<?, ?it/s]"
      ]
     },
     "metadata": {},
     "output_type": "display_data"
    },
    {
     "name": "stdout",
     "output_type": "stream",
     "text": [
      "Total unique addresses: 238936\n",
      "dydx\n"
     ]
    },
    {
     "data": {
      "application/vnd.jupyter.widget-view+json": {
       "model_id": "a79a1c9a2a034d0d817689b0dd6c7a9e",
       "version_major": 2,
       "version_minor": 0
      },
      "text/plain": [
       "Loading balances:   0%|          | 0/747372 [00:00<?, ?it/s]"
      ]
     },
     "metadata": {},
     "output_type": "display_data"
    },
    {
     "name": "stdout",
     "output_type": "stream",
     "text": [
      "Total unique addresses: 182159\n",
      "1inch\n"
     ]
    },
    {
     "data": {
      "application/vnd.jupyter.widget-view+json": {
       "model_id": "4ef49d1fdc384dd3bc77972a7dfd811b",
       "version_major": 2,
       "version_minor": 0
      },
      "text/plain": [
       "Loading balances:   0%|          | 0/1782998 [00:00<?, ?it/s]"
      ]
     },
     "metadata": {},
     "output_type": "display_data"
    },
    {
     "name": "stdout",
     "output_type": "stream",
     "text": [
      "Total unique addresses: 371378\n",
      "gemstone\n"
     ]
    },
    {
     "data": {
      "application/vnd.jupyter.widget-view+json": {
       "model_id": "f7c31a1167ae42fe818c5dc2c154002b",
       "version_major": 2,
       "version_minor": 0
      },
      "text/plain": [
       "Loading balances:   0%|          | 0/261896 [00:00<?, ?it/s]"
      ]
     },
     "metadata": {},
     "output_type": "display_data"
    },
    {
     "name": "stdout",
     "output_type": "stream",
     "text": [
      "Total unique addresses: 20020\n",
      "arbitrum\n"
     ]
    },
    {
     "data": {
      "application/vnd.jupyter.widget-view+json": {
       "model_id": "e42eb3cebb3e4b18b21892a18c942c86",
       "version_major": 2,
       "version_minor": 0
      },
      "text/plain": [
       "Loading balances:   0%|          | 0/47330340 [00:00<?, ?it/s]"
      ]
     },
     "metadata": {},
     "output_type": "display_data"
    },
    {
     "name": "stdout",
     "output_type": "stream",
     "text": [
      "Total unique addresses: 2800826\n",
      "optimism\n"
     ]
    },
    {
     "data": {
      "application/vnd.jupyter.widget-view+json": {
       "model_id": "72ad0f4c5b5e47a78d728f63d581b631",
       "version_major": 2,
       "version_minor": 0
      },
      "text/plain": [
       "Loading balances:   0%|          | 0/43990557 [00:00<?, ?it/s]"
      ]
     },
     "metadata": {},
     "output_type": "display_data"
    },
    {
     "name": "stdout",
     "output_type": "stream",
     "text": [
      "Total unique addresses: 1994406\n",
      "uniswap\n"
     ]
    },
    {
     "data": {
      "application/vnd.jupyter.widget-view+json": {
       "model_id": "05384038dc614169b6000a858d7f778c",
       "version_major": 2,
       "version_minor": 0
      },
      "text/plain": [
       "Loading balances:   0%|          | 0/4872925 [00:00<?, ?it/s]"
      ]
     },
     "metadata": {},
     "output_type": "display_data"
    },
    {
     "name": "stdout",
     "output_type": "stream",
     "text": [
      "Total unique addresses: 1358791\n",
      "arkham\n"
     ]
    },
    {
     "data": {
      "application/vnd.jupyter.widget-view+json": {
       "model_id": "3167a602311a4291988301badc96d629",
       "version_major": 2,
       "version_minor": 0
      },
      "text/plain": [
       "Loading balances:   0%|          | 0/283775 [00:00<?, ?it/s]"
      ]
     },
     "metadata": {},
     "output_type": "display_data"
    },
    {
     "name": "stdout",
     "output_type": "stream",
     "text": [
      "Total unique addresses: 129695\n",
      "lido\n"
     ]
    },
    {
     "data": {
      "application/vnd.jupyter.widget-view+json": {
       "model_id": "ba5718e53243429dbe53a9964de47d7a",
       "version_major": 2,
       "version_minor": 0
      },
      "text/plain": [
       "Loading balances:   0%|          | 0/1107586 [00:00<?, ?it/s]"
      ]
     },
     "metadata": {},
     "output_type": "display_data"
    },
    {
     "name": "stdout",
     "output_type": "stream",
     "text": [
      "Total unique addresses: 127786\n",
      "tornado\n"
     ]
    },
    {
     "data": {
      "application/vnd.jupyter.widget-view+json": {
       "model_id": "2e34a8dee5524ae981beafd0c1117315",
       "version_major": 2,
       "version_minor": 0
      },
      "text/plain": [
       "Loading balances:   0%|          | 0/278455 [00:00<?, ?it/s]"
      ]
     },
     "metadata": {},
     "output_type": "display_data"
    },
    {
     "name": "stdout",
     "output_type": "stream",
     "text": [
      "Total unique addresses: 34968\n"
     ]
    }
   ],
   "source": [
    "balances = dict()\n",
    "for protocol in protocols:\n",
    "    print(protocol)\n",
    "    balances[protocol] = compute_account_balances(dfs[protocol]['transfer'])"
   ]
  },
  {
   "cell_type": "code",
   "execution_count": 12,
   "metadata": {},
   "outputs": [
    {
     "data": {
      "application/vnd.jupyter.widget-view+json": {
       "model_id": "f847d7c32f204361b8fa52c84d93f15d",
       "version_major": 2,
       "version_minor": 0
      },
      "text/plain": [
       "Adding exchange balances:   0%|          | 0/10 [00:00<?, ?it/s]"
      ]
     },
     "metadata": {},
     "output_type": "display_data"
    },
    {
     "name": "stdout",
     "output_type": "stream",
     "text": [
      "The exchange balance for ens is 10710927.815547844\n",
      "The exchange balance for dydx is 116277337.90959203\n",
      "The exchange balance for 1inch is 557717062.2673182\n",
      "The exchange balance for gemstone is 291997156478789.5\n",
      "The exchange balance for arbitrum is 852070646.5485425\n",
      "The exchange balance for optimism is 242895481.68695223\n",
      "The exchange balance for uniswap is 79325697.70988524\n",
      "The exchange balance for arkham is 143835350.31371495\n",
      "The exchange balance for lido is 155404705.4528674\n",
      "The exchange balance for tornado is 669218.6397018762\n"
     ]
    }
   ],
   "source": [
    "exchange_balances = dict()\n",
    "for protocol in tqdm(protocols, desc='Adding exchange balances'):\n",
    "    balance = 0\n",
    "    for exchange in exchange_addresses_set:\n",
    "        if exchange in balances[protocol]:\n",
    "            balance += balances[protocol][exchange]['current']\n",
    "    exchange_balances[protocol] = balance\n",
    "for exchange_balance in exchange_balances:\n",
    "    print(\"The exchange balance for {} is {}\".format(\n",
    "        exchange_balance, exchange_balances[exchange_balance]))"
   ]
  },
  {
   "cell_type": "code",
   "execution_count": 13,
   "metadata": {},
   "outputs": [
    {
     "name": "stdout",
     "output_type": "stream",
     "text": [
      "ens 54.55725354924501\n",
      "dydx 69.41434878805683\n",
      "1inch 666.7841259258995\n",
      "gemstone 0.5794195062460137\n",
      "arbitrum 77.970505119002\n",
      "optimism 146.1007389776537\n",
      "uniswap 57.884857489868445\n",
      "arkham 489.3271375646676\n",
      "lido 3913.4462938739816\n",
      "tornado 133.84372794037523\n"
     ]
    }
   ],
   "source": [
    "for protocol in protocols:\n",
    "    protocol_exchange_balance = exchange_balances[protocol]\n",
    "    protocol_airdrop_supply = dfs[protocol]['claim'].select(\n",
    "        pl.col('amount')).sum().collect().item()\n",
    "    print(protocol, 100 *\n",
    "          protocol_exchange_balance/protocol_airdrop_supply)"
   ]
  },
  {
   "cell_type": "code",
   "execution_count": 14,
   "metadata": {},
   "outputs": [
    {
     "data": {
      "text/plain": [
       "{'ens': 10710927.815547844,\n",
       " 'dydx': 116277337.90959203,\n",
       " '1inch': 557717062.2673182,\n",
       " 'gemstone': 291997156478789.5,\n",
       " 'arbitrum': 852070646.5485425,\n",
       " 'optimism': 242895481.68695223,\n",
       " 'uniswap': 79325697.70988524,\n",
       " 'arkham': 143835350.31371495,\n",
       " 'lido': 155404705.4528674,\n",
       " 'tornado': 669218.6397018762}"
      ]
     },
     "execution_count": 14,
     "metadata": {},
     "output_type": "execute_result"
    }
   ],
   "source": [
    "exchange_balances"
   ]
  },
  {
   "cell_type": "code",
   "execution_count": 15,
   "metadata": {},
   "outputs": [
    {
     "name": "stdout",
     "output_type": "stream",
     "text": [
      "ens: 46.74% | Balance: 9175886.608028274 | Total Claimed: 19632454.199476592\n",
      "dydx: 13.56% | Balance: 22708853.8403148 | Total Claimed: 167511962.49729607\n",
      "1inch: 58.67% | Balance: 49077174.96056065 | Total Claimed: 83642822.40415813\n",
      "gemstone: 95.01% | Balance: 4.788090624878638e+16 | Total Claimed: 5.0394775e+16\n",
      "arbitrum: 28.64% | Balance: 312937356.20131445 | Total Claimed: 1092811500.0\n",
      "optimism: 48.21% | Balance: 80151352.8915 | Total Claimed: 166252055.5245812\n",
      "uniswap: 43.69% | Balance: 59878693.30759989 | Total Claimed: 137040499.276982\n",
      "arkham: 19.79% | Balance: 5818423.308377024 | Total Claimed: 29394517.342645075\n",
      "lido: 65.75% | Balance: 2610834.1729569724 | Total Claimed: 3971044.797424059\n",
      "tornado: 33.71% | Balance: 168571.8594565302 | Total Claimed: 500000.00000000006\n"
     ]
    }
   ],
   "source": [
    "def compute_distribution_stats(protocol, dfs, exchange_addresses_set):\n",
    "    # Extract unique claimants using lazy operations\n",
    "    claimant_df = dfs[protocol]['claim'].select('receiver').unique().collect()\n",
    "\n",
    "    # Filter and aggregate data using lazy operations\n",
    "    data = (\n",
    "        dfs[protocol]['transfer']\n",
    "        .filter(\n",
    "            (pl.col('sender').is_in(claimant_df['receiver'])) &\n",
    "            (pl.col('receiver').is_in(exchange_addresses_set))\n",
    "        )\n",
    "        .sort(by=['blockNumber', 'transactionIndex', 'logIndex'])\n",
    "    )\n",
    "\n",
    "    # Compute balance using only Polars operations\n",
    "    balance = (\n",
    "        data\n",
    "        .select(['sender', 'amount'])\n",
    "        # Ensure each sender is counted once\n",
    "        .unique(subset=['sender'], keep='first', maintain_order=True)\n",
    "        .select(pl.col('amount').cast(pl.Float64)).sum()\n",
    "        .collect()\n",
    "        .item()\n",
    "    )\n",
    "\n",
    "    # Calculate the total claim amount using lazy evaluation\n",
    "    total_claim_amount = dfs[protocol]['claim'].select(\n",
    "        pl.col('amount').sum()).collect().item()\n",
    "\n",
    "    # Calculate percentage balance\n",
    "    percentage_balance = (balance / total_claim_amount) * \\\n",
    "        100 if total_claim_amount != 0 else 0\n",
    "\n",
    "    # Output\n",
    "    print(f\"{protocol}: {percentage_balance:.2f}% | Balance: {balance} | Total Claimed: {total_claim_amount}\")\n",
    "\n",
    "\n",
    "for protocol in protocols:\n",
    "    compute_distribution_stats(protocol, dfs, exchange_addresses_set)"
   ]
  }
 ],
 "metadata": {
  "kernelspec": {
   "display_name": "base",
   "language": "python",
   "name": "python3"
  },
  "language_info": {
   "codemirror_mode": {
    "name": "ipython",
    "version": 3
   },
   "file_extension": ".py",
   "mimetype": "text/x-python",
   "name": "python",
   "nbconvert_exporter": "python",
   "pygments_lexer": "ipython3",
   "version": "3.12.2"
  },
  "orig_nbformat": 4
 },
 "nbformat": 4,
 "nbformat_minor": 2
}

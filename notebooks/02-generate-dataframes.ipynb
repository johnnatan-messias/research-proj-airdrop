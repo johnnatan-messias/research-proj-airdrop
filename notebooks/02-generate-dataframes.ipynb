{
 "cells": [
  {
   "cell_type": "markdown",
   "metadata": {},
   "source": [
    "# Parse raw data into Dataframes\n",
    "\n",
    "**[Johnnatan Messias](https://johnnatan-messias.github.io), May 2025**\n"
   ]
  },
  {
   "cell_type": "code",
   "execution_count": 1,
   "metadata": {},
   "outputs": [
    {
     "data": {
      "text/plain": [
       "polars.config.Config"
      ]
     },
     "execution_count": 1,
     "metadata": {},
     "output_type": "execute_result"
    }
   ],
   "source": [
    "# Standard Library Imports\n",
    "import gzip\n",
    "import pickle\n",
    "\n",
    "# Third-Party Libraries\n",
    "from tqdm.notebook import tqdm\n",
    "import pandas as pd\n",
    "import polars as pl\n",
    "\n",
    "# Polars Configuration\n",
    "pl.Config.set_float_precision(18)"
   ]
  },
  {
   "cell_type": "code",
   "execution_count": 2,
   "metadata": {},
   "outputs": [],
   "source": [
    "import sys\n",
    "import os\n",
    "code_dir = os.path.realpath(os.path.join(os.getcwd(), \"..\", \"src\"))\n",
    "\n",
    "sys.path.append(code_dir)"
   ]
  },
  {
   "cell_type": "code",
   "execution_count": 3,
   "metadata": {},
   "outputs": [
    {
     "name": "stdout",
     "output_type": "stream",
     "text": [
      "dict_keys(['ens', 'ens_register', 'dydx', 'dydx-merkle-distributor', 'compound', 'uniswap', 'sushi', '1inch', 'tornadocash', 'worldcoin', 'lido', 'lido-token', 'arkham-token', 'arkham-airdrop'])\n"
     ]
    }
   ],
   "source": [
    "from utils import Utils\n",
    "contract_settings = Utils.load_contract_settings(chain=\"mainnet\")\n",
    "print(contract_settings.keys())"
   ]
  },
  {
   "cell_type": "code",
   "execution_count": 4,
   "metadata": {},
   "outputs": [],
   "source": [
    "path_data = os.path.realpath(os.path.join(os.getcwd(), \"..\", \"data\"))\n",
    "path_plots = os.path.realpath(os.path.join(os.getcwd(), \"..\", \"plots\"))\n",
    "os.makedirs(path_data, exist_ok=True)\n",
    "os.makedirs(path_plots, exist_ok=True)"
   ]
  },
  {
   "cell_type": "markdown",
   "metadata": {},
   "source": [
    "# Data parsing\n"
   ]
  },
  {
   "cell_type": "code",
   "execution_count": 5,
   "metadata": {},
   "outputs": [
    {
     "data": {
      "text/plain": [
       "['1inch',\n",
       " 'arkham-airdrop',\n",
       " 'arkham-token',\n",
       " 'compound',\n",
       " 'dydx',\n",
       " 'dydx-merkle-distributor',\n",
       " 'ens',\n",
       " 'ens_register',\n",
       " 'lido',\n",
       " 'lido-token',\n",
       " 'sushi',\n",
       " 'tornadocash',\n",
       " 'uniswap',\n",
       " 'worldcoin']"
      ]
     },
     "execution_count": 5,
     "metadata": {},
     "output_type": "execute_result"
    }
   ],
   "source": [
    "contract_names = sorted(['_'.join(filename.split('_')[1:])[:-7] for filename in os.listdir(\n",
    "    path_data) if filename.startswith(\"events_\") and filename.endswith(\".pkl.gz\")])\n",
    "contract_names"
   ]
  },
  {
   "cell_type": "code",
   "execution_count": 6,
   "metadata": {},
   "outputs": [],
   "source": [
    "def load_dataset(contract_name):\n",
    "    file_path = os.path.realpath(os.path.join(\n",
    "        path_data, 'events_{}.pkl.gz'.format(contract_name)))\n",
    "    with gzip.open(file_path, 'rb') as f:\n",
    "        events = pickle.load(f)\n",
    "    return events\n",
    "\n",
    "\n",
    "def load_transfer(protocol_name, amount_column=\"amount\", sender=\"from\", receiver=\"to\"):\n",
    "    data = load_dataset(protocol_name)\n",
    "    transfer_pl = Utils.transfer_to_dataframe(\n",
    "        data['Transfer'], amount_colum=amount_column, sender=sender, receiver=receiver)\n",
    "    file_path = os.path.realpath(os.path.join(path_data, \"blocks.parquet.gz\"))\n",
    "    blocks_pl = (pl.scan_parquet(file_path)\n",
    "                 .select(['number', 'timestamp'])).collect()\n",
    "    transfer_pl = (transfer_pl\n",
    "                   .join(blocks_pl, left_on='blockNumber', right_on='number')\n",
    "                   .sort(['blockNumber', 'transactionIndex', 'logIndex'])\n",
    "                   )\n",
    "    return transfer_pl\n",
    "\n",
    "\n",
    "def load_claim(protocol_name, amount_column=\"amount\", event_claim=\"Claim\", account_column=\"account\"):\n",
    "    data = load_dataset(protocol_name)\n",
    "    claim_pl = Utils.claim_to_dataframe(\n",
    "        data[event_claim], amount_colum=amount_column, account_column=account_column)\n",
    "    file_path = os.path.realpath(os.path.join(path_data, \"blocks.parquet.gz\"))\n",
    "    blocks_pl = (pl.scan_parquet(file_path)\n",
    "                 .select(['number', 'timestamp'])).collect()\n",
    "    claim_pl = (claim_pl\n",
    "                .join(blocks_pl, left_on='blockNumber', right_on='number')\n",
    "                .sort(['blockNumber', 'transactionIndex', 'logIndex'])\n",
    "                )\n",
    "    return claim_pl"
   ]
  },
  {
   "cell_type": "markdown",
   "metadata": {},
   "source": [
    "### Parsing blocks\n"
   ]
  },
  {
   "cell_type": "code",
   "execution_count": 7,
   "metadata": {},
   "outputs": [],
   "source": [
    "file_path = os.path.realpath(os.path.join(path_data, \"blocks.parquet.gz\"))\n",
    "blocks_pl = (pl.scan_parquet(file_path)\n",
    "             .select(['number', 'timestamp'])).collect()"
   ]
  },
  {
   "cell_type": "markdown",
   "metadata": {},
   "source": [
    "## 1inch\n"
   ]
  },
  {
   "cell_type": "code",
   "execution_count": 8,
   "metadata": {},
   "outputs": [
    {
     "name": "stderr",
     "output_type": "stream",
     "text": [
      "Loading Transfer events: 100%|██████████| 1870426/1870426 [00:02<00:00, 671232.62it/s]\n"
     ]
    },
    {
     "name": "stdout",
     "output_type": "stream",
     "text": [
      "There are 1782998 Transfer events\n"
     ]
    },
    {
     "data": {
      "text/html": [
       "<div><style>\n",
       ".dataframe > thead > tr,\n",
       ".dataframe > tbody > tr {\n",
       "  text-align: right;\n",
       "  white-space: pre-wrap;\n",
       "}\n",
       "</style>\n",
       "<small>shape: (5, 11)</small><table border=\"1\" class=\"dataframe\"><thead><tr><th>blockNumber</th><th>transactionHash</th><th>blockHash</th><th>address</th><th>transactionIndex</th><th>logIndex</th><th>event</th><th>from</th><th>to</th><th>amount</th><th>timestamp</th></tr><tr><td>i64</td><td>str</td><td>str</td><td>str</td><td>i64</td><td>i64</td><td>str</td><td>str</td><td>str</td><td>f64</td><td>datetime[ns]</td></tr></thead><tbody><tr><td>11511393</td><td>&quot;9825b9f083ba43112afd66dbcfbbf7…</td><td>&quot;e6fcb64146f00803f902a8d6b42a6d…</td><td>&quot;0x111111111117dc0aa78b770fa6a7…</td><td>2</td><td>3</td><td>&quot;Transfer&quot;</td><td>&quot;0x0000000000000000000000000000…</td><td>&quot;0x5e89f8d81c74e311458277ea1be3…</td><td>1.500000000000000000e9</td><td>2020-12-23 18:13:31</td></tr><tr><td>11519469</td><td>&quot;27a7d7804d4d3062624df2497ca7ca…</td><td>&quot;cdfc2690772d031aef1716916672f0…</td><td>&quot;0x111111111117dc0aa78b770fa6a7…</td><td>137</td><td>330</td><td>&quot;Transfer&quot;</td><td>&quot;0x5e89f8d81c74e311458277ea1be3…</td><td>&quot;0xe295ad71242373c37c5fda7b57f2…</td><td>9.000000000000001490e7</td><td>2020-12-25 00:05:12</td></tr><tr><td>11519481</td><td>&quot;a93bd3f64439263ac24e790eb11555…</td><td>&quot;03341cc7ac7f0882bfa830ce7b43fa…</td><td>&quot;0x111111111117dc0aa78b770fa6a7…</td><td>166</td><td>315</td><td>&quot;Transfer&quot;</td><td>&quot;0xe295ad71242373c37c5fda7b57f2…</td><td>&quot;0x68a17b587caf4f9329f0e372e3a7…</td><td>3.101095064658825868e4</td><td>2020-12-25 00:08:54</td></tr><tr><td>11519484</td><td>&quot;5a5320dc7763c45a2eeed15e17da31…</td><td>&quot;9bfc017f196151209b4e5bbbf2c69e…</td><td>&quot;0x111111111117dc0aa78b770fa6a7…</td><td>93</td><td>213</td><td>&quot;Transfer&quot;</td><td>&quot;0x68a17b587caf4f9329f0e372e3a7…</td><td>&quot;0xa09d1afae21bda81c06fd6de9bbd…</td><td>1.000000000000000114e3</td><td>2020-12-25 00:09:35</td></tr><tr><td>11519486</td><td>&quot;6183751977a20377add8cf002a5888…</td><td>&quot;1fb78c77aa46ba205bbcb166231e53…</td><td>&quot;0x111111111117dc0aa78b770fa6a7…</td><td>220</td><td>281</td><td>&quot;Transfer&quot;</td><td>&quot;0xe295ad71242373c37c5fda7b57f2…</td><td>&quot;0xaa9e20bab58d013220d632874e9f…</td><td>1.824738794374177814e3</td><td>2020-12-25 00:10:05</td></tr></tbody></table></div>"
      ],
      "text/plain": [
       "shape: (5, 11)\n",
       "┌───────────┬───────────┬───────────┬───────────┬───┬───────────┬───────────┬───────────┬──────────┐\n",
       "│ blockNumb ┆ transacti ┆ blockHash ┆ address   ┆ … ┆ from      ┆ to        ┆ amount    ┆ timestam │\n",
       "│ er        ┆ onHash    ┆ ---       ┆ ---       ┆   ┆ ---       ┆ ---       ┆ ---       ┆ p        │\n",
       "│ ---       ┆ ---       ┆ str       ┆ str       ┆   ┆ str       ┆ str       ┆ f64       ┆ ---      │\n",
       "│ i64       ┆ str       ┆           ┆           ┆   ┆           ┆           ┆           ┆ datetime │\n",
       "│           ┆           ┆           ┆           ┆   ┆           ┆           ┆           ┆ [ns]     │\n",
       "╞═══════════╪═══════════╪═══════════╪═══════════╪═══╪═══════════╪═══════════╪═══════════╪══════════╡\n",
       "│ 11511393  ┆ 9825b9f08 ┆ e6fcb6414 ┆ 0x1111111 ┆ … ┆ 0x0000000 ┆ 0x5e89f8d ┆ 1.5000000 ┆ 2020-12- │\n",
       "│           ┆ 3ba43112a ┆ 6f00803f9 ┆ 11117dc0a ┆   ┆ 000000000 ┆ 81c74e311 ┆ 000000000 ┆ 23       │\n",
       "│           ┆ fd66dbcfb ┆ 02a8d6b42 ┆ a78b770fa ┆   ┆ 000000000 ┆ 458277ea1 ┆ 00e9      ┆ 18:13:31 │\n",
       "│           ┆ bf7…      ┆ a6d…      ┆ 6a7…      ┆   ┆ 000…      ┆ be3…      ┆           ┆          │\n",
       "│ 11519469  ┆ 27a7d7804 ┆ cdfc26907 ┆ 0x1111111 ┆ … ┆ 0x5e89f8d ┆ 0xe295ad7 ┆ 9.0000000 ┆ 2020-12- │\n",
       "│           ┆ d4d306262 ┆ 72d031aef ┆ 11117dc0a ┆   ┆ 81c74e311 ┆ 1242373c3 ┆ 000000014 ┆ 25       │\n",
       "│           ┆ 4df2497ca ┆ 171691667 ┆ a78b770fa ┆   ┆ 458277ea1 ┆ 7c5fda7b5 ┆ 90e7      ┆ 00:05:12 │\n",
       "│           ┆ 7ca…      ┆ 2f0…      ┆ 6a7…      ┆   ┆ be3…      ┆ 7f2…      ┆           ┆          │\n",
       "│ 11519481  ┆ a93bd3f64 ┆ 03341cc7a ┆ 0x1111111 ┆ … ┆ 0xe295ad7 ┆ 0x68a17b5 ┆ 3.1010950 ┆ 2020-12- │\n",
       "│           ┆ 439263ac2 ┆ c7f0882bf ┆ 11117dc0a ┆   ┆ 1242373c3 ┆ 87caf4f93 ┆ 646588258 ┆ 25       │\n",
       "│           ┆ 4e790eb11 ┆ a830ce7b4 ┆ a78b770fa ┆   ┆ 7c5fda7b5 ┆ 29f0e372e ┆ 68e4      ┆ 00:08:54 │\n",
       "│           ┆ 555…      ┆ 3fa…      ┆ 6a7…      ┆   ┆ 7f2…      ┆ 3a7…      ┆           ┆          │\n",
       "│ 11519484  ┆ 5a5320dc7 ┆ 9bfc017f1 ┆ 0x1111111 ┆ … ┆ 0x68a17b5 ┆ 0xa09d1af ┆ 1.0000000 ┆ 2020-12- │\n",
       "│           ┆ 763c45a2e ┆ 96151209b ┆ 11117dc0a ┆   ┆ 87caf4f93 ┆ ae21bda81 ┆ 000000001 ┆ 25       │\n",
       "│           ┆ eed15e17d ┆ 4e5bbbf2c ┆ a78b770fa ┆   ┆ 29f0e372e ┆ c06fd6de9 ┆ 14e3      ┆ 00:09:35 │\n",
       "│           ┆ a31…      ┆ 69e…      ┆ 6a7…      ┆   ┆ 3a7…      ┆ bbd…      ┆           ┆          │\n",
       "│ 11519486  ┆ 618375197 ┆ 1fb78c77a ┆ 0x1111111 ┆ … ┆ 0xe295ad7 ┆ 0xaa9e20b ┆ 1.8247387 ┆ 2020-12- │\n",
       "│           ┆ 7a20377ad ┆ a46ba205b ┆ 11117dc0a ┆   ┆ 1242373c3 ┆ ab58d0132 ┆ 943741778 ┆ 25       │\n",
       "│           ┆ d8cf002a5 ┆ bcb166231 ┆ a78b770fa ┆   ┆ 7c5fda7b5 ┆ 20d632874 ┆ 14e3      ┆ 00:10:05 │\n",
       "│           ┆ 888…      ┆ e53…      ┆ 6a7…      ┆   ┆ 7f2…      ┆ e9f…      ┆           ┆          │\n",
       "└───────────┴───────────┴───────────┴───────────┴───┴───────────┴───────────┴───────────┴──────────┘"
      ]
     },
     "execution_count": 8,
     "metadata": {},
     "output_type": "execute_result"
    }
   ],
   "source": [
    "protocol_name = \"1inch\"\n",
    "one_inch_transfer_pl = load_transfer(protocol_name, amount_column=\"value\")\n",
    "one_inch_transfer_pl = one_inch_transfer_pl.with_columns(pl.col('amount').truediv(\n",
    "    10**contract_settings[protocol_name]['decimals']).alias('amount'))\n",
    "print('There are {} Transfer events'.format(len(one_inch_transfer_pl)))\n",
    "one_inch_transfer_pl.head()"
   ]
  },
  {
   "cell_type": "code",
   "execution_count": 9,
   "metadata": {},
   "outputs": [
    {
     "name": "stdout",
     "output_type": "stream",
     "text": [
      "There are 43806 Claim events\n"
     ]
    },
    {
     "data": {
      "text/html": [
       "<div><style>\n",
       ".dataframe > thead > tr,\n",
       ".dataframe > tbody > tr {\n",
       "  text-align: right;\n",
       "  white-space: pre-wrap;\n",
       "}\n",
       "</style>\n",
       "<small>shape: (5, 11)</small><table border=\"1\" class=\"dataframe\"><thead><tr><th>blockNumber</th><th>transactionHash</th><th>blockHash</th><th>address</th><th>transactionIndex</th><th>logIndex</th><th>event</th><th>from</th><th>to</th><th>amount</th><th>timestamp</th></tr><tr><td>i64</td><td>str</td><td>str</td><td>str</td><td>i64</td><td>i64</td><td>str</td><td>str</td><td>str</td><td>f64</td><td>datetime[ns]</td></tr></thead><tbody><tr><td>11519481</td><td>&quot;a93bd3f64439263ac24e790eb11555…</td><td>&quot;03341cc7ac7f0882bfa830ce7b43fa…</td><td>&quot;0x111111111117dc0aa78b770fa6a7…</td><td>166</td><td>315</td><td>&quot;Transfer&quot;</td><td>&quot;0xe295ad71242373c37c5fda7b57f2…</td><td>&quot;0x68a17b587caf4f9329f0e372e3a7…</td><td>3.101095064658825868e4</td><td>2020-12-25 00:08:54</td></tr><tr><td>11519486</td><td>&quot;6183751977a20377add8cf002a5888…</td><td>&quot;1fb78c77aa46ba205bbcb166231e53…</td><td>&quot;0x111111111117dc0aa78b770fa6a7…</td><td>220</td><td>281</td><td>&quot;Transfer&quot;</td><td>&quot;0xe295ad71242373c37c5fda7b57f2…</td><td>&quot;0xaa9e20bab58d013220d632874e9f…</td><td>1.824738794374177814e3</td><td>2020-12-25 00:10:05</td></tr><tr><td>11519493</td><td>&quot;05b2208f9399abd73b6760653f45c8…</td><td>&quot;308d8b54560fb193ab2097d5a6ccc3…</td><td>&quot;0x111111111117dc0aa78b770fa6a7…</td><td>81</td><td>157</td><td>&quot;Transfer&quot;</td><td>&quot;0xe295ad71242373c37c5fda7b57f2…</td><td>&quot;0xaaa3bfb53d5d5116faedc5dd4575…</td><td>2.570116004920753767e3</td><td>2020-12-25 00:11:52</td></tr><tr><td>11519496</td><td>&quot;a74fab4006d9b4e815a2e9407111df…</td><td>&quot;bb45238736aab3481f08916eef126a…</td><td>&quot;0x111111111117dc0aa78b770fa6a7…</td><td>26</td><td>38</td><td>&quot;Transfer&quot;</td><td>&quot;0xe295ad71242373c37c5fda7b57f2…</td><td>&quot;0x93dd644468b5351bc419ddf3a5bb…</td><td>6.245036586325297776e2</td><td>2020-12-25 00:12:29</td></tr><tr><td>11519499</td><td>&quot;3f3d2b343db6adf818b030db0ff6e3…</td><td>&quot;91b517978063121fdc81898fd574b2…</td><td>&quot;0x111111111117dc0aa78b770fa6a7…</td><td>0</td><td>0</td><td>&quot;Transfer&quot;</td><td>&quot;0xe295ad71242373c37c5fda7b57f2…</td><td>&quot;0xa793c481125d93abad899e4fdb75…</td><td>1.387886718790358600e3</td><td>2020-12-25 00:12:53</td></tr></tbody></table></div>"
      ],
      "text/plain": [
       "shape: (5, 11)\n",
       "┌───────────┬───────────┬───────────┬───────────┬───┬───────────┬───────────┬───────────┬──────────┐\n",
       "│ blockNumb ┆ transacti ┆ blockHash ┆ address   ┆ … ┆ from      ┆ to        ┆ amount    ┆ timestam │\n",
       "│ er        ┆ onHash    ┆ ---       ┆ ---       ┆   ┆ ---       ┆ ---       ┆ ---       ┆ p        │\n",
       "│ ---       ┆ ---       ┆ str       ┆ str       ┆   ┆ str       ┆ str       ┆ f64       ┆ ---      │\n",
       "│ i64       ┆ str       ┆           ┆           ┆   ┆           ┆           ┆           ┆ datetime │\n",
       "│           ┆           ┆           ┆           ┆   ┆           ┆           ┆           ┆ [ns]     │\n",
       "╞═══════════╪═══════════╪═══════════╪═══════════╪═══╪═══════════╪═══════════╪═══════════╪══════════╡\n",
       "│ 11519481  ┆ a93bd3f64 ┆ 03341cc7a ┆ 0x1111111 ┆ … ┆ 0xe295ad7 ┆ 0x68a17b5 ┆ 3.1010950 ┆ 2020-12- │\n",
       "│           ┆ 439263ac2 ┆ c7f0882bf ┆ 11117dc0a ┆   ┆ 1242373c3 ┆ 87caf4f93 ┆ 646588258 ┆ 25       │\n",
       "│           ┆ 4e790eb11 ┆ a830ce7b4 ┆ a78b770fa ┆   ┆ 7c5fda7b5 ┆ 29f0e372e ┆ 68e4      ┆ 00:08:54 │\n",
       "│           ┆ 555…      ┆ 3fa…      ┆ 6a7…      ┆   ┆ 7f2…      ┆ 3a7…      ┆           ┆          │\n",
       "│ 11519486  ┆ 618375197 ┆ 1fb78c77a ┆ 0x1111111 ┆ … ┆ 0xe295ad7 ┆ 0xaa9e20b ┆ 1.8247387 ┆ 2020-12- │\n",
       "│           ┆ 7a20377ad ┆ a46ba205b ┆ 11117dc0a ┆   ┆ 1242373c3 ┆ ab58d0132 ┆ 943741778 ┆ 25       │\n",
       "│           ┆ d8cf002a5 ┆ bcb166231 ┆ a78b770fa ┆   ┆ 7c5fda7b5 ┆ 20d632874 ┆ 14e3      ┆ 00:10:05 │\n",
       "│           ┆ 888…      ┆ e53…      ┆ 6a7…      ┆   ┆ 7f2…      ┆ e9f…      ┆           ┆          │\n",
       "│ 11519493  ┆ 05b2208f9 ┆ 308d8b545 ┆ 0x1111111 ┆ … ┆ 0xe295ad7 ┆ 0xaaa3bfb ┆ 2.5701160 ┆ 2020-12- │\n",
       "│           ┆ 399abd73b ┆ 60fb193ab ┆ 11117dc0a ┆   ┆ 1242373c3 ┆ 53d5d5116 ┆ 049207537 ┆ 25       │\n",
       "│           ┆ 6760653f4 ┆ 2097d5a6c ┆ a78b770fa ┆   ┆ 7c5fda7b5 ┆ faedc5dd4 ┆ 67e3      ┆ 00:11:52 │\n",
       "│           ┆ 5c8…      ┆ cc3…      ┆ 6a7…      ┆   ┆ 7f2…      ┆ 575…      ┆           ┆          │\n",
       "│ 11519496  ┆ a74fab400 ┆ bb4523873 ┆ 0x1111111 ┆ … ┆ 0xe295ad7 ┆ 0x93dd644 ┆ 6.2450365 ┆ 2020-12- │\n",
       "│           ┆ 6d9b4e815 ┆ 6aab3481f ┆ 11117dc0a ┆   ┆ 1242373c3 ┆ 468b5351b ┆ 863252977 ┆ 25       │\n",
       "│           ┆ a2e940711 ┆ 08916eef1 ┆ a78b770fa ┆   ┆ 7c5fda7b5 ┆ c419ddf3a ┆ 76e2      ┆ 00:12:29 │\n",
       "│           ┆ 1df…      ┆ 26a…      ┆ 6a7…      ┆   ┆ 7f2…      ┆ 5bb…      ┆           ┆          │\n",
       "│ 11519499  ┆ 3f3d2b343 ┆ 91b517978 ┆ 0x1111111 ┆ … ┆ 0xe295ad7 ┆ 0xa793c48 ┆ 1.3878867 ┆ 2020-12- │\n",
       "│           ┆ db6adf818 ┆ 063121fdc ┆ 11117dc0a ┆   ┆ 1242373c3 ┆ 1125d93ab ┆ 187903586 ┆ 25       │\n",
       "│           ┆ b030db0ff ┆ 81898fd57 ┆ a78b770fa ┆   ┆ 7c5fda7b5 ┆ ad899e4fd ┆ 00e3      ┆ 00:12:53 │\n",
       "│           ┆ 6e3…      ┆ 4b2…      ┆ 6a7…      ┆   ┆ 7f2…      ┆ b75…      ┆           ┆          │\n",
       "└───────────┴───────────┴───────────┴───────────┴───┴───────────┴───────────┴───────────┴──────────┘"
      ]
     },
     "execution_count": 9,
     "metadata": {},
     "output_type": "execute_result"
    }
   ],
   "source": [
    "one_inch_claiming_address = \"0xe295ad71242373c37c5fda7b57f26f9ea1088afe\"\n",
    "one_inch_claim_pl = one_inch_transfer_pl.filter(\n",
    "    pl.col(\"from\").eq(one_inch_claiming_address))\n",
    "print('There are {} Claim events'.format(len(one_inch_claim_pl)))\n",
    "one_inch_claim_pl.head()"
   ]
  },
  {
   "cell_type": "code",
   "execution_count": 10,
   "metadata": {},
   "outputs": [],
   "source": [
    "file_path = os.path.realpath(os.path.join(path_data, \"1inch_transfer.parquet\"))\n",
    "one_inch_transfer_pl.write_parquet(file_path, compression=\"gzip\")\n",
    "\n",
    "file_path = os.path.realpath(os.path.join(path_data, \"1inch_claim.parquet\"))\n",
    "one_inch_claim_pl.write_parquet(file_path, compression=\"gzip\")"
   ]
  },
  {
   "cell_type": "code",
   "execution_count": null,
   "metadata": {},
   "outputs": [],
   "source": [
    "del (one_inch_transfer_pl)\n",
    "del (one_inch_claim_pl)"
   ]
  },
  {
   "cell_type": "markdown",
   "metadata": {},
   "source": [
    "## Arkham\n"
   ]
  },
  {
   "cell_type": "code",
   "execution_count": 11,
   "metadata": {},
   "outputs": [
    {
     "name": "stderr",
     "output_type": "stream",
     "text": [
      "Loading Transfer events: 100%|██████████| 341500/341500 [00:00<00:00, 767861.39it/s]\n"
     ]
    },
    {
     "name": "stdout",
     "output_type": "stream",
     "text": [
      "There are 283775 Transfer events\n"
     ]
    },
    {
     "data": {
      "text/html": [
       "<div><style>\n",
       ".dataframe > thead > tr,\n",
       ".dataframe > tbody > tr {\n",
       "  text-align: right;\n",
       "  white-space: pre-wrap;\n",
       "}\n",
       "</style>\n",
       "<small>shape: (5, 11)</small><table border=\"1\" class=\"dataframe\"><thead><tr><th>blockNumber</th><th>transactionHash</th><th>blockHash</th><th>address</th><th>transactionIndex</th><th>logIndex</th><th>event</th><th>from</th><th>to</th><th>amount</th><th>timestamp</th></tr><tr><td>i64</td><td>str</td><td>str</td><td>str</td><td>i64</td><td>i64</td><td>str</td><td>str</td><td>str</td><td>f64</td><td>datetime[ns]</td></tr></thead><tbody><tr><td>17628655</td><td>&quot;996484eb3697465c24b8bce79cf917…</td><td>&quot;a9e0d87c7e297b17f181d6bb5f181d…</td><td>&quot;0x6e2a43be0b1d33b726f0ca3b8de6…</td><td>17</td><td>90</td><td>&quot;Transfer&quot;</td><td>&quot;0x0000000000000000000000000000…</td><td>&quot;0x818f0dff37015c77cfe5686c35ed…</td><td>1.000000000000000119e9</td><td>2023-07-05 15:44:59</td></tr><tr><td>17634265</td><td>&quot;884edef75b78b122f21e800b70406e…</td><td>&quot;f581920a4a381c1a2fa16fd1f1d1a4…</td><td>&quot;0x6e2a43be0b1d33b726f0ca3b8de6…</td><td>56</td><td>171</td><td>&quot;Transfer&quot;</td><td>&quot;0x818f0dff37015c77cfe5686c35ed…</td><td>&quot;0xcd5e3ccd9594a70dc6669a9b7715…</td><td>8.990485369333630800e7</td><td>2023-07-06 10:38:23</td></tr><tr><td>17634266</td><td>&quot;9fe84eceb14a15f95f84ef63a84947…</td><td>&quot;1d7f11357679c6c8dbbfdb3c2c6b12…</td><td>&quot;0x6e2a43be0b1d33b726f0ca3b8de6…</td><td>39</td><td>74</td><td>&quot;Transfer&quot;</td><td>&quot;0x818f0dff37015c77cfe5686c35ed…</td><td>&quot;0x9aed8c8a5313f1c57ab4ba73bef6…</td><td>8.990485369333630800e7</td><td>2023-07-06 10:38:35</td></tr><tr><td>17634267</td><td>&quot;fecca57de38519e1ccbde506f7e3ce…</td><td>&quot;01327d6dc0589bb76b5f43c7bea54c…</td><td>&quot;0x6e2a43be0b1d33b726f0ca3b8de6…</td><td>58</td><td>159</td><td>&quot;Transfer&quot;</td><td>&quot;0x818f0dff37015c77cfe5686c35ed…</td><td>&quot;0x2c09dbfa73fed7c4820f96136d72…</td><td>8.670823667312880978e6</td><td>2023-07-06 10:38:47</td></tr><tr><td>17634268</td><td>&quot;476f72d2ba6ab257dae0176fd51474…</td><td>&quot;21e3bac88b45d3e372a22a7aab8dad…</td><td>&quot;0x6e2a43be0b1d33b726f0ca3b8de6…</td><td>67</td><td>127</td><td>&quot;Transfer&quot;</td><td>&quot;0x818f0dff37015c77cfe5686c35ed…</td><td>&quot;0xb3b5e085b45f8c423d3231b4a718…</td><td>2.155219131593040191e6</td><td>2023-07-06 10:38:59</td></tr></tbody></table></div>"
      ],
      "text/plain": [
       "shape: (5, 11)\n",
       "┌───────────┬───────────┬───────────┬───────────┬───┬───────────┬───────────┬───────────┬──────────┐\n",
       "│ blockNumb ┆ transacti ┆ blockHash ┆ address   ┆ … ┆ from      ┆ to        ┆ amount    ┆ timestam │\n",
       "│ er        ┆ onHash    ┆ ---       ┆ ---       ┆   ┆ ---       ┆ ---       ┆ ---       ┆ p        │\n",
       "│ ---       ┆ ---       ┆ str       ┆ str       ┆   ┆ str       ┆ str       ┆ f64       ┆ ---      │\n",
       "│ i64       ┆ str       ┆           ┆           ┆   ┆           ┆           ┆           ┆ datetime │\n",
       "│           ┆           ┆           ┆           ┆   ┆           ┆           ┆           ┆ [ns]     │\n",
       "╞═══════════╪═══════════╪═══════════╪═══════════╪═══╪═══════════╪═══════════╪═══════════╪══════════╡\n",
       "│ 17628655  ┆ 996484eb3 ┆ a9e0d87c7 ┆ 0x6e2a43b ┆ … ┆ 0x0000000 ┆ 0x818f0df ┆ 1.0000000 ┆ 2023-07- │\n",
       "│           ┆ 697465c24 ┆ e297b17f1 ┆ e0b1d33b7 ┆   ┆ 000000000 ┆ f37015c77 ┆ 000000001 ┆ 05       │\n",
       "│           ┆ b8bce79cf ┆ 81d6bb5f1 ┆ 26f0ca3b8 ┆   ┆ 000000000 ┆ cfe5686c3 ┆ 19e9      ┆ 15:44:59 │\n",
       "│           ┆ 917…      ┆ 81d…      ┆ de6…      ┆   ┆ 000…      ┆ 5ed…      ┆           ┆          │\n",
       "│ 17634265  ┆ 884edef75 ┆ f581920a4 ┆ 0x6e2a43b ┆ … ┆ 0x818f0df ┆ 0xcd5e3cc ┆ 8.9904853 ┆ 2023-07- │\n",
       "│           ┆ b78b122f2 ┆ a381c1a2f ┆ e0b1d33b7 ┆   ┆ f37015c77 ┆ d9594a70d ┆ 693336308 ┆ 06       │\n",
       "│           ┆ 1e800b704 ┆ a16fd1f1d ┆ 26f0ca3b8 ┆   ┆ cfe5686c3 ┆ c6669a9b7 ┆ 00e7      ┆ 10:38:23 │\n",
       "│           ┆ 06e…      ┆ 1a4…      ┆ de6…      ┆   ┆ 5ed…      ┆ 715…      ┆           ┆          │\n",
       "│ 17634266  ┆ 9fe84eceb ┆ 1d7f11357 ┆ 0x6e2a43b ┆ … ┆ 0x818f0df ┆ 0x9aed8c8 ┆ 8.9904853 ┆ 2023-07- │\n",
       "│           ┆ 14a15f95f ┆ 679c6c8db ┆ e0b1d33b7 ┆   ┆ f37015c77 ┆ a5313f1c5 ┆ 693336308 ┆ 06       │\n",
       "│           ┆ 84ef63a84 ┆ bfdb3c2c6 ┆ 26f0ca3b8 ┆   ┆ cfe5686c3 ┆ 7ab4ba73b ┆ 00e7      ┆ 10:38:35 │\n",
       "│           ┆ 947…      ┆ b12…      ┆ de6…      ┆   ┆ 5ed…      ┆ ef6…      ┆           ┆          │\n",
       "│ 17634267  ┆ fecca57de ┆ 01327d6dc ┆ 0x6e2a43b ┆ … ┆ 0x818f0df ┆ 0x2c09dbf ┆ 8.6708236 ┆ 2023-07- │\n",
       "│           ┆ 38519e1cc ┆ 0589bb76b ┆ e0b1d33b7 ┆   ┆ f37015c77 ┆ a73fed7c4 ┆ 673128809 ┆ 06       │\n",
       "│           ┆ bde506f7e ┆ 5f43c7bea ┆ 26f0ca3b8 ┆   ┆ cfe5686c3 ┆ 820f96136 ┆ 78e6      ┆ 10:38:47 │\n",
       "│           ┆ 3ce…      ┆ 54c…      ┆ de6…      ┆   ┆ 5ed…      ┆ d72…      ┆           ┆          │\n",
       "│ 17634268  ┆ 476f72d2b ┆ 21e3bac88 ┆ 0x6e2a43b ┆ … ┆ 0x818f0df ┆ 0xb3b5e08 ┆ 2.1552191 ┆ 2023-07- │\n",
       "│           ┆ a6ab257da ┆ b45d3e372 ┆ e0b1d33b7 ┆   ┆ f37015c77 ┆ 5b45f8c42 ┆ 315930401 ┆ 06       │\n",
       "│           ┆ e0176fd51 ┆ a22a7aab8 ┆ 26f0ca3b8 ┆   ┆ cfe5686c3 ┆ 3d3231b4a ┆ 91e6      ┆ 10:38:59 │\n",
       "│           ┆ 474…      ┆ dad…      ┆ de6…      ┆   ┆ 5ed…      ┆ 718…      ┆           ┆          │\n",
       "└───────────┴───────────┴───────────┴───────────┴───┴───────────┴───────────┴───────────┴──────────┘"
      ]
     },
     "execution_count": 11,
     "metadata": {},
     "output_type": "execute_result"
    }
   ],
   "source": [
    "protocol_name = 'arkham-token'\n",
    "arkham_transfer_pl = load_transfer(protocol_name, amount_column=\"value\")\n",
    "arkham_transfer_pl = arkham_transfer_pl.with_columns(pl.col('amount').truediv(\n",
    "    10**contract_settings[protocol_name]['decimals']).alias('amount'))\n",
    "print('There are {} Transfer events'.format(len(arkham_transfer_pl)))\n",
    "arkham_transfer_pl.head()"
   ]
  },
  {
   "cell_type": "code",
   "execution_count": 12,
   "metadata": {},
   "outputs": [
    {
     "name": "stderr",
     "output_type": "stream",
     "text": [
      "Loading Claim events: 100%|██████████| 64732/64732 [00:00<00:00, 894369.99it/s]"
     ]
    },
    {
     "name": "stdout",
     "output_type": "stream",
     "text": [
      "There are 64724 Claimed events\n"
     ]
    },
    {
     "name": "stderr",
     "output_type": "stream",
     "text": [
      "\n"
     ]
    },
    {
     "data": {
      "text/html": [
       "<div><style>\n",
       ".dataframe > thead > tr,\n",
       ".dataframe > tbody > tr {\n",
       "  text-align: right;\n",
       "  white-space: pre-wrap;\n",
       "}\n",
       "</style>\n",
       "<small>shape: (5, 10)</small><table border=\"1\" class=\"dataframe\"><thead><tr><th>blockNumber</th><th>transactionHash</th><th>blockHash</th><th>address</th><th>transactionIndex</th><th>logIndex</th><th>event</th><th>account</th><th>amount</th><th>timestamp</th></tr><tr><td>i64</td><td>str</td><td>str</td><td>str</td><td>i64</td><td>i64</td><td>str</td><td>str</td><td>f64</td><td>datetime[ns]</td></tr></thead><tbody><tr><td>17718694</td><td>&quot;0470a8b26c76a982004f888bc32146…</td><td>&quot;c40220b81ee0ae287cc5ead6ce4bb0…</td><td>&quot;0x08c7676680f187a31241e83e6d44…</td><td>24</td><td>28</td><td>&quot;Claimed&quot;</td><td>&quot;0x67c1bb9d5408655bacd89773f553…</td><td>1.974294553296443553e2</td><td>2023-07-18 07:41:35</td></tr><tr><td>17718695</td><td>&quot;d9ce2b189ee75199f235f6d49b51c7…</td><td>&quot;c19bfaa69b21e8f0a3fd9a61c36226…</td><td>&quot;0x08c7676680f187a31241e83e6d44…</td><td>29</td><td>121</td><td>&quot;Claimed&quot;</td><td>&quot;0x98527d130586a646ebbd29c94244…</td><td>1.776865097966799112e3</td><td>2023-07-18 07:41:47</td></tr><tr><td>17718695</td><td>&quot;be996117f6db5ef0909184fcb2d904…</td><td>&quot;c19bfaa69b21e8f0a3fd9a61c36226…</td><td>&quot;0x08c7676680f187a31241e83e6d44…</td><td>30</td><td>123</td><td>&quot;Claimed&quot;</td><td>&quot;0x18b5f3724e02762db2698949bfb5…</td><td>4.146018561922531262e3</td><td>2023-07-18 07:41:47</td></tr><tr><td>17718695</td><td>&quot;a680b0b4902b86ae44dac05edcc6b2…</td><td>&quot;c19bfaa69b21e8f0a3fd9a61c36226…</td><td>&quot;0x08c7676680f187a31241e83e6d44…</td><td>31</td><td>125</td><td>&quot;Claimed&quot;</td><td>&quot;0x431ccb866a7aa303097e87297340…</td><td>1.974294553296443553e2</td><td>2023-07-18 07:41:47</td></tr><tr><td>17718696</td><td>&quot;f46b1ae575444ea02f54ae79343ee8…</td><td>&quot;1fd7bd6d7cb413170c4336b64b7d08…</td><td>&quot;0x08c7676680f187a31241e83e6d44…</td><td>38</td><td>105</td><td>&quot;Claimed&quot;</td><td>&quot;0x14a130d2fcc0c2a453b0e7d3be75…</td><td>2.171724008626088107e3</td><td>2023-07-18 07:41:59</td></tr></tbody></table></div>"
      ],
      "text/plain": [
       "shape: (5, 10)\n",
       "┌────────────┬───────────┬───────────┬───────────┬───┬─────────┬───────────┬───────────┬───────────┐\n",
       "│ blockNumbe ┆ transacti ┆ blockHash ┆ address   ┆ … ┆ event   ┆ account   ┆ amount    ┆ timestamp │\n",
       "│ r          ┆ onHash    ┆ ---       ┆ ---       ┆   ┆ ---     ┆ ---       ┆ ---       ┆ ---       │\n",
       "│ ---        ┆ ---       ┆ str       ┆ str       ┆   ┆ str     ┆ str       ┆ f64       ┆ datetime[ │\n",
       "│ i64        ┆ str       ┆           ┆           ┆   ┆         ┆           ┆           ┆ ns]       │\n",
       "╞════════════╪═══════════╪═══════════╪═══════════╪═══╪═════════╪═══════════╪═══════════╪═══════════╡\n",
       "│ 17718694   ┆ 0470a8b26 ┆ c40220b81 ┆ 0x08c7676 ┆ … ┆ Claimed ┆ 0x67c1bb9 ┆ 1.9742945 ┆ 2023-07-1 │\n",
       "│            ┆ c76a98200 ┆ ee0ae287c ┆ 680f187a3 ┆   ┆         ┆ d5408655b ┆ 532964435 ┆ 8         │\n",
       "│            ┆ 4f888bc32 ┆ c5ead6ce4 ┆ 1241e83e6 ┆   ┆         ┆ acd89773f ┆ 53e2      ┆ 07:41:35  │\n",
       "│            ┆ 146…      ┆ bb0…      ┆ d44…      ┆   ┆         ┆ 553…      ┆           ┆           │\n",
       "│ 17718695   ┆ d9ce2b189 ┆ c19bfaa69 ┆ 0x08c7676 ┆ … ┆ Claimed ┆ 0x98527d1 ┆ 1.7768650 ┆ 2023-07-1 │\n",
       "│            ┆ ee75199f2 ┆ b21e8f0a3 ┆ 680f187a3 ┆   ┆         ┆ 30586a646 ┆ 979667991 ┆ 8         │\n",
       "│            ┆ 35f6d49b5 ┆ fd9a61c36 ┆ 1241e83e6 ┆   ┆         ┆ ebbd29c94 ┆ 12e3      ┆ 07:41:47  │\n",
       "│            ┆ 1c7…      ┆ 226…      ┆ d44…      ┆   ┆         ┆ 244…      ┆           ┆           │\n",
       "│ 17718695   ┆ be996117f ┆ c19bfaa69 ┆ 0x08c7676 ┆ … ┆ Claimed ┆ 0x18b5f37 ┆ 4.1460185 ┆ 2023-07-1 │\n",
       "│            ┆ 6db5ef090 ┆ b21e8f0a3 ┆ 680f187a3 ┆   ┆         ┆ 24e02762d ┆ 619225312 ┆ 8         │\n",
       "│            ┆ 9184fcb2d ┆ fd9a61c36 ┆ 1241e83e6 ┆   ┆         ┆ b2698949b ┆ 62e3      ┆ 07:41:47  │\n",
       "│            ┆ 904…      ┆ 226…      ┆ d44…      ┆   ┆         ┆ fb5…      ┆           ┆           │\n",
       "│ 17718695   ┆ a680b0b49 ┆ c19bfaa69 ┆ 0x08c7676 ┆ … ┆ Claimed ┆ 0x431ccb8 ┆ 1.9742945 ┆ 2023-07-1 │\n",
       "│            ┆ 02b86ae44 ┆ b21e8f0a3 ┆ 680f187a3 ┆   ┆         ┆ 66a7aa303 ┆ 532964435 ┆ 8         │\n",
       "│            ┆ dac05edcc ┆ fd9a61c36 ┆ 1241e83e6 ┆   ┆         ┆ 097e87297 ┆ 53e2      ┆ 07:41:47  │\n",
       "│            ┆ 6b2…      ┆ 226…      ┆ d44…      ┆   ┆         ┆ 340…      ┆           ┆           │\n",
       "│ 17718696   ┆ f46b1ae57 ┆ 1fd7bd6d7 ┆ 0x08c7676 ┆ … ┆ Claimed ┆ 0x14a130d ┆ 2.1717240 ┆ 2023-07-1 │\n",
       "│            ┆ 5444ea02f ┆ cb413170c ┆ 680f187a3 ┆   ┆         ┆ 2fcc0c2a4 ┆ 086260881 ┆ 8         │\n",
       "│            ┆ 54ae79343 ┆ 4336b64b7 ┆ 1241e83e6 ┆   ┆         ┆ 53b0e7d3b ┆ 07e3      ┆ 07:41:59  │\n",
       "│            ┆ ee8…      ┆ d08…      ┆ d44…      ┆   ┆         ┆ e75…      ┆           ┆           │\n",
       "└────────────┴───────────┴───────────┴───────────┴───┴─────────┴───────────┴───────────┴───────────┘"
      ]
     },
     "execution_count": 12,
     "metadata": {},
     "output_type": "execute_result"
    }
   ],
   "source": [
    "protocol_name = 'arkham-airdrop'\n",
    "arkham = load_dataset(protocol_name)\n",
    "arkham_claim_pl = Utils.claim_to_dataframe(arkham['Claimed'])\n",
    "arkham_claim_pl = (arkham_claim_pl\n",
    "                   .join(blocks_pl, left_on='blockNumber', right_on='number')\n",
    "                   .sort(['blockNumber', 'transactionIndex', 'logIndex'])\n",
    "                   .with_columns(pl.col('amount').truediv(\n",
    "                       10**contract_settings[protocol_name]['decimals']).alias('amount')))\n",
    "print('There are {} Claimed events'.format(len(arkham_claim_pl)))\n",
    "arkham_claim_pl.head()"
   ]
  },
  {
   "cell_type": "code",
   "execution_count": 13,
   "metadata": {},
   "outputs": [],
   "source": [
    "file_path = os.path.realpath(os.path.join(\n",
    "    path_data, \"arkham_transfer.parquet\"))\n",
    "arkham_transfer_pl.write_parquet(file_path, compression=\"gzip\")\n",
    "\n",
    "file_path = os.path.realpath(os.path.join(path_data, \"arkham_claim.parquet\"))\n",
    "arkham_claim_pl.write_parquet(file_path, compression=\"gzip\")"
   ]
  },
  {
   "cell_type": "code",
   "execution_count": null,
   "metadata": {},
   "outputs": [],
   "source": [
    "del (arkham_transfer_pl)\n",
    "del (arkham_claim_pl)"
   ]
  },
  {
   "cell_type": "markdown",
   "metadata": {},
   "source": [
    "## Uniswap\n"
   ]
  },
  {
   "cell_type": "code",
   "execution_count": 14,
   "metadata": {},
   "outputs": [
    {
     "name": "stderr",
     "output_type": "stream",
     "text": [
      "Loading Transfer events: 100%|██████████| 5308596/5308596 [00:06<00:00, 794866.72it/s]\n"
     ]
    },
    {
     "name": "stdout",
     "output_type": "stream",
     "text": [
      "There are 4872925 Transfer events\n"
     ]
    },
    {
     "data": {
      "text/html": [
       "<div><style>\n",
       ".dataframe > thead > tr,\n",
       ".dataframe > tbody > tr {\n",
       "  text-align: right;\n",
       "  white-space: pre-wrap;\n",
       "}\n",
       "</style>\n",
       "<small>shape: (5, 11)</small><table border=\"1\" class=\"dataframe\"><thead><tr><th>blockNumber</th><th>transactionHash</th><th>blockHash</th><th>address</th><th>transactionIndex</th><th>logIndex</th><th>event</th><th>from</th><th>to</th><th>amount</th><th>timestamp</th></tr><tr><td>i64</td><td>str</td><td>str</td><td>str</td><td>i64</td><td>i64</td><td>str</td><td>str</td><td>str</td><td>f64</td><td>datetime[ns]</td></tr></thead><tbody><tr><td>10861674</td><td>&quot;4b37d2f343608457ca3322accdab28…</td><td>&quot;32e4dd857b5b7e756551a00271e44b…</td><td>&quot;0x1f9840a85d5af5bf1d1762f925bd…</td><td>9</td><td>23</td><td>&quot;Transfer&quot;</td><td>&quot;0x0000000000000000000000000000…</td><td>&quot;0x41653c7d61609d856f29355e404f…</td><td>1.000000000000000119e9</td><td>2020-09-14 18:11:26</td></tr><tr><td>10861766</td><td>&quot;0169d8b766b66447e7f869ea469805…</td><td>&quot;51a1a8789536990bcca505f514e03d…</td><td>&quot;0x1f9840a85d5af5bf1d1762f925bd…</td><td>65</td><td>202</td><td>&quot;Transfer&quot;</td><td>&quot;0x41653c7d61609d856f29355e404f…</td><td>&quot;0xe5737257d9406019768167c26f5c…</td><td>2.000000000000000000e0</td><td>2020-09-14 18:31:56</td></tr><tr><td>10861777</td><td>&quot;f8edbd74ef0ab3da0b0b2303aab50a…</td><td>&quot;e449f5bea40fb94c014fc78977a389…</td><td>&quot;0x1f9840a85d5af5bf1d1762f925bd…</td><td>76</td><td>158</td><td>&quot;Transfer&quot;</td><td>&quot;0x41653c7d61609d856f29355e404f…</td><td>&quot;0xe5737257d9406019768167c26f5c…</td><td>8.000000000000000000e0</td><td>2020-09-14 18:35:18</td></tr><tr><td>10862390</td><td>&quot;62f4b047a954be261b9e76c1195166…</td><td>&quot;b4fcd45357272fe8e2a7c5564505cc…</td><td>&quot;0x1f9840a85d5af5bf1d1762f925bd…</td><td>64</td><td>218</td><td>&quot;Transfer&quot;</td><td>&quot;0xe5737257d9406019768167c26f5c…</td><td>&quot;0x1c8bca22fa5f57c3e289ed469bca…</td><td>2.000000000000000000e0</td><td>2020-09-14 20:57:34</td></tr><tr><td>10862404</td><td>&quot;2ca0f926e58a9a3f195702726b5250…</td><td>&quot;e2115ea5048ff28af165c3637c4793…</td><td>&quot;0x1f9840a85d5af5bf1d1762f925bd…</td><td>55</td><td>75</td><td>&quot;Transfer&quot;</td><td>&quot;0xe5737257d9406019768167c26f5c…</td><td>&quot;0x557847aa724ea004041522ee550e…</td><td>2.000000000000000000e0</td><td>2020-09-14 21:00:22</td></tr></tbody></table></div>"
      ],
      "text/plain": [
       "shape: (5, 11)\n",
       "┌───────────┬───────────┬───────────┬───────────┬───┬───────────┬───────────┬───────────┬──────────┐\n",
       "│ blockNumb ┆ transacti ┆ blockHash ┆ address   ┆ … ┆ from      ┆ to        ┆ amount    ┆ timestam │\n",
       "│ er        ┆ onHash    ┆ ---       ┆ ---       ┆   ┆ ---       ┆ ---       ┆ ---       ┆ p        │\n",
       "│ ---       ┆ ---       ┆ str       ┆ str       ┆   ┆ str       ┆ str       ┆ f64       ┆ ---      │\n",
       "│ i64       ┆ str       ┆           ┆           ┆   ┆           ┆           ┆           ┆ datetime │\n",
       "│           ┆           ┆           ┆           ┆   ┆           ┆           ┆           ┆ [ns]     │\n",
       "╞═══════════╪═══════════╪═══════════╪═══════════╪═══╪═══════════╪═══════════╪═══════════╪══════════╡\n",
       "│ 10861674  ┆ 4b37d2f34 ┆ 32e4dd857 ┆ 0x1f9840a ┆ … ┆ 0x0000000 ┆ 0x41653c7 ┆ 1.0000000 ┆ 2020-09- │\n",
       "│           ┆ 3608457ca ┆ b5b7e7565 ┆ 85d5af5bf ┆   ┆ 000000000 ┆ d61609d85 ┆ 000000001 ┆ 14       │\n",
       "│           ┆ 3322accda ┆ 51a00271e ┆ 1d1762f92 ┆   ┆ 000000000 ┆ 6f29355e4 ┆ 19e9      ┆ 18:11:26 │\n",
       "│           ┆ b28…      ┆ 44b…      ┆ 5bd…      ┆   ┆ 000…      ┆ 04f…      ┆           ┆          │\n",
       "│ 10861766  ┆ 0169d8b76 ┆ 51a1a8789 ┆ 0x1f9840a ┆ … ┆ 0x41653c7 ┆ 0xe573725 ┆ 2.0000000 ┆ 2020-09- │\n",
       "│           ┆ 6b66447e7 ┆ 536990bcc ┆ 85d5af5bf ┆   ┆ d61609d85 ┆ 7d9406019 ┆ 000000000 ┆ 14       │\n",
       "│           ┆ f869ea469 ┆ a505f514e ┆ 1d1762f92 ┆   ┆ 6f29355e4 ┆ 768167c26 ┆ 00e0      ┆ 18:31:56 │\n",
       "│           ┆ 805…      ┆ 03d…      ┆ 5bd…      ┆   ┆ 04f…      ┆ f5c…      ┆           ┆          │\n",
       "│ 10861777  ┆ f8edbd74e ┆ e449f5bea ┆ 0x1f9840a ┆ … ┆ 0x41653c7 ┆ 0xe573725 ┆ 8.0000000 ┆ 2020-09- │\n",
       "│           ┆ f0ab3da0b ┆ 40fb94c01 ┆ 85d5af5bf ┆   ┆ d61609d85 ┆ 7d9406019 ┆ 000000000 ┆ 14       │\n",
       "│           ┆ 0b2303aab ┆ 4fc78977a ┆ 1d1762f92 ┆   ┆ 6f29355e4 ┆ 768167c26 ┆ 00e0      ┆ 18:35:18 │\n",
       "│           ┆ 50a…      ┆ 389…      ┆ 5bd…      ┆   ┆ 04f…      ┆ f5c…      ┆           ┆          │\n",
       "│ 10862390  ┆ 62f4b047a ┆ b4fcd4535 ┆ 0x1f9840a ┆ … ┆ 0xe573725 ┆ 0x1c8bca2 ┆ 2.0000000 ┆ 2020-09- │\n",
       "│           ┆ 954be261b ┆ 7272fe8e2 ┆ 85d5af5bf ┆   ┆ 7d9406019 ┆ 2fa5f57c3 ┆ 000000000 ┆ 14       │\n",
       "│           ┆ 9e76c1195 ┆ a7c556450 ┆ 1d1762f92 ┆   ┆ 768167c26 ┆ e289ed469 ┆ 00e0      ┆ 20:57:34 │\n",
       "│           ┆ 166…      ┆ 5cc…      ┆ 5bd…      ┆   ┆ f5c…      ┆ bca…      ┆           ┆          │\n",
       "│ 10862404  ┆ 2ca0f926e ┆ e2115ea50 ┆ 0x1f9840a ┆ … ┆ 0xe573725 ┆ 0x557847a ┆ 2.0000000 ┆ 2020-09- │\n",
       "│           ┆ 58a9a3f19 ┆ 48ff28af1 ┆ 85d5af5bf ┆   ┆ 7d9406019 ┆ a724ea004 ┆ 000000000 ┆ 14       │\n",
       "│           ┆ 5702726b5 ┆ 65c3637c4 ┆ 1d1762f92 ┆   ┆ 768167c26 ┆ 041522ee5 ┆ 00e0      ┆ 21:00:22 │\n",
       "│           ┆ 250…      ┆ 793…      ┆ 5bd…      ┆   ┆ f5c…      ┆ 50e…      ┆           ┆          │\n",
       "└───────────┴───────────┴───────────┴───────────┴───┴───────────┴───────────┴───────────┴──────────┘"
      ]
     },
     "execution_count": 14,
     "metadata": {},
     "output_type": "execute_result"
    }
   ],
   "source": [
    "protocol_name = 'uniswap'\n",
    "uniswap_transfer_pl = load_transfer(protocol_name, amount_column=\"amount\")\n",
    "uniswap_transfer_pl = uniswap_transfer_pl.with_columns(pl.col('amount').truediv(\n",
    "    10**contract_settings[protocol_name]['decimals']).alias('amount'))\n",
    "print('There are {} Transfer events'.format(len(uniswap_transfer_pl)))\n",
    "uniswap_transfer_pl.head()"
   ]
  },
  {
   "cell_type": "code",
   "execution_count": 15,
   "metadata": {},
   "outputs": [
    {
     "name": "stdout",
     "output_type": "stream",
     "text": [
      "There are 221087 Claim events\n"
     ]
    },
    {
     "data": {
      "text/html": [
       "<div><style>\n",
       ".dataframe > thead > tr,\n",
       ".dataframe > tbody > tr {\n",
       "  text-align: right;\n",
       "  white-space: pre-wrap;\n",
       "}\n",
       "</style>\n",
       "<small>shape: (5, 11)</small><table border=\"1\" class=\"dataframe\"><thead><tr><th>blockNumber</th><th>transactionHash</th><th>blockHash</th><th>address</th><th>transactionIndex</th><th>logIndex</th><th>event</th><th>from</th><th>to</th><th>amount</th><th>timestamp</th></tr><tr><td>i64</td><td>str</td><td>str</td><td>str</td><td>i64</td><td>i64</td><td>str</td><td>str</td><td>str</td><td>f64</td><td>datetime[ns]</td></tr></thead><tbody><tr><td>10875578</td><td>&quot;7652efe5d6fd43c075eb186efc77dc…</td><td>&quot;1bfa4a2462a331425a8bf557935e0a…</td><td>&quot;0x1f9840a85d5af5bf1d1762f925bd…</td><td>56</td><td>93</td><td>&quot;Transfer&quot;</td><td>&quot;0x090d4613473dee047c3f2706764f…</td><td>&quot;0x8688a84fcfd84d8f78020d0fc0b3…</td><td>1.943093941000000086e3</td><td>2020-09-16 21:32:52</td></tr><tr><td>10875578</td><td>&quot;593d00f42a3a1056a3ecebc156d6e9…</td><td>&quot;1bfa4a2462a331425a8bf557935e0a…</td><td>&quot;0x1f9840a85d5af5bf1d1762f925bd…</td><td>76</td><td>137</td><td>&quot;Transfer&quot;</td><td>&quot;0x090d4613473dee047c3f2706764f…</td><td>&quot;0xf94e5cdf41247e268d4847c30a0d…</td><td>1.400099543000000040e3</td><td>2020-09-16 21:32:52</td></tr><tr><td>10875631</td><td>&quot;f24757d032a2dde4a6bf4b87dedb08…</td><td>&quot;718192737d714b36649df7c92a3b4a…</td><td>&quot;0x1f9840a85d5af5bf1d1762f925bd…</td><td>90</td><td>201</td><td>&quot;Transfer&quot;</td><td>&quot;0x090d4613473dee047c3f2706764f…</td><td>&quot;0xe79057088a15ac8c9c8bec3b90bd…</td><td>4.045821633000000020e3</td><td>2020-09-16 21:42:41</td></tr><tr><td>10876266</td><td>&quot;f4c2f4503b527e2f1391e162df9998…</td><td>&quot;393bed90f37498d139453f9ff3f8d6…</td><td>&quot;0x1f9840a85d5af5bf1d1762f925bd…</td><td>148</td><td>297</td><td>&quot;Transfer&quot;</td><td>&quot;0x090d4613473dee047c3f2706764f…</td><td>&quot;0x26921a182cf9d6f33730d7f37e1a…</td><td>4.114654770000000212e2</td><td>2020-09-17 00:05:08</td></tr><tr><td>10876273</td><td>&quot;e11241f3d4d4f1192486f77275d431…</td><td>&quot;a26e55e4c1d0b7c0009a5262771373…</td><td>&quot;0x1f9840a85d5af5bf1d1762f925bd…</td><td>121</td><td>262</td><td>&quot;Transfer&quot;</td><td>&quot;0x090d4613473dee047c3f2706764f…</td><td>&quot;0x580eb9591eb975a78ac3de967c7c…</td><td>4.000000000000000568e2</td><td>2020-09-17 00:06:53</td></tr></tbody></table></div>"
      ],
      "text/plain": [
       "shape: (5, 11)\n",
       "┌───────────┬───────────┬───────────┬───────────┬───┬───────────┬───────────┬───────────┬──────────┐\n",
       "│ blockNumb ┆ transacti ┆ blockHash ┆ address   ┆ … ┆ from      ┆ to        ┆ amount    ┆ timestam │\n",
       "│ er        ┆ onHash    ┆ ---       ┆ ---       ┆   ┆ ---       ┆ ---       ┆ ---       ┆ p        │\n",
       "│ ---       ┆ ---       ┆ str       ┆ str       ┆   ┆ str       ┆ str       ┆ f64       ┆ ---      │\n",
       "│ i64       ┆ str       ┆           ┆           ┆   ┆           ┆           ┆           ┆ datetime │\n",
       "│           ┆           ┆           ┆           ┆   ┆           ┆           ┆           ┆ [ns]     │\n",
       "╞═══════════╪═══════════╪═══════════╪═══════════╪═══╪═══════════╪═══════════╪═══════════╪══════════╡\n",
       "│ 10875578  ┆ 7652efe5d ┆ 1bfa4a246 ┆ 0x1f9840a ┆ … ┆ 0x090d461 ┆ 0x8688a84 ┆ 1.9430939 ┆ 2020-09- │\n",
       "│           ┆ 6fd43c075 ┆ 2a331425a ┆ 85d5af5bf ┆   ┆ 3473dee04 ┆ fcfd84d8f ┆ 410000000 ┆ 16       │\n",
       "│           ┆ eb186efc7 ┆ 8bf557935 ┆ 1d1762f92 ┆   ┆ 7c3f27067 ┆ 78020d0fc ┆ 86e3      ┆ 21:32:52 │\n",
       "│           ┆ 7dc…      ┆ e0a…      ┆ 5bd…      ┆   ┆ 64f…      ┆ 0b3…      ┆           ┆          │\n",
       "│ 10875578  ┆ 593d00f42 ┆ 1bfa4a246 ┆ 0x1f9840a ┆ … ┆ 0x090d461 ┆ 0xf94e5cd ┆ 1.4000995 ┆ 2020-09- │\n",
       "│           ┆ a3a1056a3 ┆ 2a331425a ┆ 85d5af5bf ┆   ┆ 3473dee04 ┆ f41247e26 ┆ 430000000 ┆ 16       │\n",
       "│           ┆ ecebc156d ┆ 8bf557935 ┆ 1d1762f92 ┆   ┆ 7c3f27067 ┆ 8d4847c30 ┆ 40e3      ┆ 21:32:52 │\n",
       "│           ┆ 6e9…      ┆ e0a…      ┆ 5bd…      ┆   ┆ 64f…      ┆ a0d…      ┆           ┆          │\n",
       "│ 10875631  ┆ f24757d03 ┆ 718192737 ┆ 0x1f9840a ┆ … ┆ 0x090d461 ┆ 0xe790570 ┆ 4.0458216 ┆ 2020-09- │\n",
       "│           ┆ 2a2dde4a6 ┆ d714b3664 ┆ 85d5af5bf ┆   ┆ 3473dee04 ┆ 88a15ac8c ┆ 330000000 ┆ 16       │\n",
       "│           ┆ bf4b87ded ┆ 9df7c92a3 ┆ 1d1762f92 ┆   ┆ 7c3f27067 ┆ 9c8bec3b9 ┆ 20e3      ┆ 21:42:41 │\n",
       "│           ┆ b08…      ┆ b4a…      ┆ 5bd…      ┆   ┆ 64f…      ┆ 0bd…      ┆           ┆          │\n",
       "│ 10876266  ┆ f4c2f4503 ┆ 393bed90f ┆ 0x1f9840a ┆ … ┆ 0x090d461 ┆ 0x26921a1 ┆ 4.1146547 ┆ 2020-09- │\n",
       "│           ┆ b527e2f13 ┆ 37498d139 ┆ 85d5af5bf ┆   ┆ 3473dee04 ┆ 82cf9d6f3 ┆ 700000002 ┆ 17       │\n",
       "│           ┆ 91e162df9 ┆ 453f9ff3f ┆ 1d1762f92 ┆   ┆ 7c3f27067 ┆ 3730d7f37 ┆ 12e2      ┆ 00:05:08 │\n",
       "│           ┆ 998…      ┆ 8d6…      ┆ 5bd…      ┆   ┆ 64f…      ┆ e1a…      ┆           ┆          │\n",
       "│ 10876273  ┆ e11241f3d ┆ a26e55e4c ┆ 0x1f9840a ┆ … ┆ 0x090d461 ┆ 0x580eb95 ┆ 4.0000000 ┆ 2020-09- │\n",
       "│           ┆ 4d4f11924 ┆ 1d0b7c000 ┆ 85d5af5bf ┆   ┆ 3473dee04 ┆ 91eb975a7 ┆ 000000005 ┆ 17       │\n",
       "│           ┆ 86f77275d ┆ 9a5262771 ┆ 1d1762f92 ┆   ┆ 7c3f27067 ┆ 8ac3de967 ┆ 68e2      ┆ 00:06:53 │\n",
       "│           ┆ 431…      ┆ 373…      ┆ 5bd…      ┆   ┆ 64f…      ┆ c7c…      ┆           ┆          │\n",
       "└───────────┴───────────┴───────────┴───────────┴───┴───────────┴───────────┴───────────┴──────────┘"
      ]
     },
     "execution_count": 15,
     "metadata": {},
     "output_type": "execute_result"
    }
   ],
   "source": [
    "uniswap_claiming_address = \"0x090d4613473dee047c3f2706764f49e0821d256e\"\n",
    "uniswap_claim_pl = uniswap_transfer_pl.filter(\n",
    "    pl.col(\"from\").eq(uniswap_claiming_address))\n",
    "print('There are {} Claim events'.format(len(uniswap_claim_pl)))\n",
    "uniswap_claim_pl.head()"
   ]
  },
  {
   "cell_type": "code",
   "execution_count": 16,
   "metadata": {},
   "outputs": [],
   "source": [
    "file_path = os.path.realpath(os.path.join(\n",
    "    path_data, \"uniswap_transfer.parquet\"))\n",
    "uniswap_transfer_pl.write_parquet(file_path, compression=\"gzip\")\n",
    "\n",
    "file_path = os.path.realpath(os.path.join(path_data, \"uniswap_claim.parquet\"))\n",
    "uniswap_claim_pl.write_parquet(file_path, compression=\"gzip\")"
   ]
  },
  {
   "cell_type": "code",
   "execution_count": null,
   "metadata": {},
   "outputs": [],
   "source": [
    "del (uniswap_transfer_pl)\n",
    "del (uniswap_claim_pl)"
   ]
  },
  {
   "cell_type": "markdown",
   "metadata": {},
   "source": [
    "## ENS\n"
   ]
  },
  {
   "cell_type": "code",
   "execution_count": 17,
   "metadata": {},
   "outputs": [
    {
     "name": "stderr",
     "output_type": "stream",
     "text": [
      "Loading Transfer events: 100%|██████████| 1148492/1148492 [00:01<00:00, 792898.33it/s]\n"
     ]
    },
    {
     "name": "stdout",
     "output_type": "stream",
     "text": [
      "There are 998619 Transfer events\n"
     ]
    },
    {
     "data": {
      "text/html": [
       "<div><style>\n",
       ".dataframe > thead > tr,\n",
       ".dataframe > tbody > tr {\n",
       "  text-align: right;\n",
       "  white-space: pre-wrap;\n",
       "}\n",
       "</style>\n",
       "<small>shape: (5, 11)</small><table border=\"1\" class=\"dataframe\"><thead><tr><th>blockNumber</th><th>transactionHash</th><th>blockHash</th><th>address</th><th>transactionIndex</th><th>logIndex</th><th>event</th><th>from</th><th>to</th><th>amount</th><th>timestamp</th></tr><tr><td>i64</td><td>str</td><td>str</td><td>str</td><td>i64</td><td>i64</td><td>str</td><td>str</td><td>str</td><td>f64</td><td>datetime[ns]</td></tr></thead><tbody><tr><td>13533418</td><td>&quot;dfc76788b13ab1c033c7cd55fdb7a4…</td><td>&quot;bacaa01de0be700ce6d460eb87ee46…</td><td>&quot;0xc18360217d8f7ab5e7c516566761…</td><td>208</td><td>383</td><td>&quot;Transfer&quot;</td><td>&quot;0x0000000000000000000000000000…</td><td>&quot;0x0904dac3347ea47d208f3fd67402…</td><td>7.500000000000000000e7</td><td>2021-11-01 20:55:17</td></tr><tr><td>13533418</td><td>&quot;dfc76788b13ab1c033c7cd55fdb7a4…</td><td>&quot;bacaa01de0be700ce6d460eb87ee46…</td><td>&quot;0xc18360217d8f7ab5e7c516566761…</td><td>208</td><td>384</td><td>&quot;Transfer&quot;</td><td>&quot;0x0000000000000000000000000000…</td><td>&quot;0xc18360217d8f7ab5e7c516566761…</td><td>2.500000000000000373e7</td><td>2021-11-01 20:55:17</td></tr><tr><td>13533538</td><td>&quot;9492a233a0ec33a5fddb0b63adea2b…</td><td>&quot;4f1b4a65be3cfa5ec5bcff167329ca…</td><td>&quot;0xc18360217d8f7ab5e7c516566761…</td><td>369</td><td>612</td><td>&quot;Transfer&quot;</td><td>&quot;0x0904dac3347ea47d208f3fd67402…</td><td>&quot;0xd7a029db2585553978190db5e85e…</td><td>4.500000000000000745e7</td><td>2021-11-01 21:19:47</td></tr><tr><td>13533540</td><td>&quot;06bb6d2a3353120b05402053950404…</td><td>&quot;b2819888adf134142b957fbf2e145e…</td><td>&quot;0xc18360217d8f7ab5e7c516566761…</td><td>176</td><td>265</td><td>&quot;Transfer&quot;</td><td>&quot;0x0904dac3347ea47d208f3fd67402…</td><td>&quot;0xfe89cc7abb2c4183683ab71653c4…</td><td>4.999999999999999069e6</td><td>2021-11-01 21:20:18</td></tr><tr><td>13534558</td><td>&quot;1938a3b85d114cb0113fb9c450e7b4…</td><td>&quot;3cb0e3955be9ad7148a55ee2ad7900…</td><td>&quot;0xc18360217d8f7ab5e7c516566761…</td><td>15</td><td>15</td><td>&quot;Transfer&quot;</td><td>&quot;0x0904dac3347ea47d208f3fd67402…</td><td>&quot;0x40790db8c3e62f99e24e3fe9c5e9…</td><td>1.287300100000000093e5</td><td>2021-11-02 00:59:16</td></tr></tbody></table></div>"
      ],
      "text/plain": [
       "shape: (5, 11)\n",
       "┌───────────┬───────────┬───────────┬───────────┬───┬───────────┬───────────┬───────────┬──────────┐\n",
       "│ blockNumb ┆ transacti ┆ blockHash ┆ address   ┆ … ┆ from      ┆ to        ┆ amount    ┆ timestam │\n",
       "│ er        ┆ onHash    ┆ ---       ┆ ---       ┆   ┆ ---       ┆ ---       ┆ ---       ┆ p        │\n",
       "│ ---       ┆ ---       ┆ str       ┆ str       ┆   ┆ str       ┆ str       ┆ f64       ┆ ---      │\n",
       "│ i64       ┆ str       ┆           ┆           ┆   ┆           ┆           ┆           ┆ datetime │\n",
       "│           ┆           ┆           ┆           ┆   ┆           ┆           ┆           ┆ [ns]     │\n",
       "╞═══════════╪═══════════╪═══════════╪═══════════╪═══╪═══════════╪═══════════╪═══════════╪══════════╡\n",
       "│ 13533418  ┆ dfc76788b ┆ bacaa01de ┆ 0xc183602 ┆ … ┆ 0x0000000 ┆ 0x0904dac ┆ 7.5000000 ┆ 2021-11- │\n",
       "│           ┆ 13ab1c033 ┆ 0be700ce6 ┆ 17d8f7ab5 ┆   ┆ 000000000 ┆ 3347ea47d ┆ 000000000 ┆ 01       │\n",
       "│           ┆ c7cd55fdb ┆ d460eb87e ┆ e7c516566 ┆   ┆ 000000000 ┆ 208f3fd67 ┆ 00e7      ┆ 20:55:17 │\n",
       "│           ┆ 7a4…      ┆ e46…      ┆ 761…      ┆   ┆ 000…      ┆ 402…      ┆           ┆          │\n",
       "│ 13533418  ┆ dfc76788b ┆ bacaa01de ┆ 0xc183602 ┆ … ┆ 0x0000000 ┆ 0xc183602 ┆ 2.5000000 ┆ 2021-11- │\n",
       "│           ┆ 13ab1c033 ┆ 0be700ce6 ┆ 17d8f7ab5 ┆   ┆ 000000000 ┆ 17d8f7ab5 ┆ 000000003 ┆ 01       │\n",
       "│           ┆ c7cd55fdb ┆ d460eb87e ┆ e7c516566 ┆   ┆ 000000000 ┆ e7c516566 ┆ 73e7      ┆ 20:55:17 │\n",
       "│           ┆ 7a4…      ┆ e46…      ┆ 761…      ┆   ┆ 000…      ┆ 761…      ┆           ┆          │\n",
       "│ 13533538  ┆ 9492a233a ┆ 4f1b4a65b ┆ 0xc183602 ┆ … ┆ 0x0904dac ┆ 0xd7a029d ┆ 4.5000000 ┆ 2021-11- │\n",
       "│           ┆ 0ec33a5fd ┆ e3cfa5ec5 ┆ 17d8f7ab5 ┆   ┆ 3347ea47d ┆ b25855539 ┆ 000000007 ┆ 01       │\n",
       "│           ┆ db0b63ade ┆ bcff16732 ┆ e7c516566 ┆   ┆ 208f3fd67 ┆ 78190db5e ┆ 45e7      ┆ 21:19:47 │\n",
       "│           ┆ a2b…      ┆ 9ca…      ┆ 761…      ┆   ┆ 402…      ┆ 85e…      ┆           ┆          │\n",
       "│ 13533540  ┆ 06bb6d2a3 ┆ b2819888a ┆ 0xc183602 ┆ … ┆ 0x0904dac ┆ 0xfe89cc7 ┆ 4.9999999 ┆ 2021-11- │\n",
       "│           ┆ 353120b05 ┆ df134142b ┆ 17d8f7ab5 ┆   ┆ 3347ea47d ┆ abb2c4183 ┆ 999999990 ┆ 01       │\n",
       "│           ┆ 402053950 ┆ 957fbf2e1 ┆ e7c516566 ┆   ┆ 208f3fd67 ┆ 683ab7165 ┆ 69e6      ┆ 21:20:18 │\n",
       "│           ┆ 404…      ┆ 45e…      ┆ 761…      ┆   ┆ 402…      ┆ 3c4…      ┆           ┆          │\n",
       "│ 13534558  ┆ 1938a3b85 ┆ 3cb0e3955 ┆ 0xc183602 ┆ … ┆ 0x0904dac ┆ 0x40790db ┆ 1.2873001 ┆ 2021-11- │\n",
       "│           ┆ d114cb011 ┆ be9ad7148 ┆ 17d8f7ab5 ┆   ┆ 3347ea47d ┆ 8c3e62f99 ┆ 000000000 ┆ 02       │\n",
       "│           ┆ 3fb9c450e ┆ a55ee2ad7 ┆ e7c516566 ┆   ┆ 208f3fd67 ┆ e24e3fe9c ┆ 93e5      ┆ 00:59:16 │\n",
       "│           ┆ 7b4…      ┆ 900…      ┆ 761…      ┆   ┆ 402…      ┆ 5e9…      ┆           ┆          │\n",
       "└───────────┴───────────┴───────────┴───────────┴───┴───────────┴───────────┴───────────┴──────────┘"
      ]
     },
     "execution_count": 17,
     "metadata": {},
     "output_type": "execute_result"
    }
   ],
   "source": [
    "protocol_name = 'ens'\n",
    "ens_transfer_pl = load_transfer(protocol_name, amount_column=\"value\")\n",
    "ens_transfer_pl = ens_transfer_pl.with_columns(pl.col('amount').truediv(\n",
    "    10**contract_settings[protocol_name]['decimals']).alias('amount'))\n",
    "print('There are {} Transfer events'.format(len(ens_transfer_pl)))\n",
    "ens_transfer_pl.head()"
   ]
  },
  {
   "cell_type": "code",
   "execution_count": 18,
   "metadata": {},
   "outputs": [
    {
     "name": "stderr",
     "output_type": "stream",
     "text": [
      "Loading Claim events: 100%|██████████| 102830/102830 [00:00<00:00, 862478.09it/s]\n"
     ]
    },
    {
     "name": "stdout",
     "output_type": "stream",
     "text": [
      "There are 102824 Claim events\n"
     ]
    },
    {
     "data": {
      "text/html": [
       "<div><style>\n",
       ".dataframe > thead > tr,\n",
       ".dataframe > tbody > tr {\n",
       "  text-align: right;\n",
       "  white-space: pre-wrap;\n",
       "}\n",
       "</style>\n",
       "<small>shape: (5, 10)</small><table border=\"1\" class=\"dataframe\"><thead><tr><th>blockNumber</th><th>transactionHash</th><th>blockHash</th><th>address</th><th>transactionIndex</th><th>logIndex</th><th>event</th><th>account</th><th>amount</th><th>timestamp</th></tr><tr><td>i64</td><td>str</td><td>str</td><td>str</td><td>i64</td><td>i64</td><td>str</td><td>str</td><td>f64</td><td>datetime[ns]</td></tr></thead><tbody><tr><td>13578843</td><td>&quot;9169befc5bb7af4437bcd31569ffcc…</td><td>&quot;36c877cbdaed6ba17fd4e0be5561cd…</td><td>&quot;0xc18360217d8f7ab5e7c516566761…</td><td>69</td><td>102</td><td>&quot;Claim&quot;</td><td>&quot;0xa753e050948ff5bfb4b695f870b3…</td><td>4.306059230120038137e2</td><td>2021-11-09 00:01:26</td></tr><tr><td>13578844</td><td>&quot;57458e828809dc0efa892a507310cc…</td><td>&quot;10365276cb5ea39b91fe2c9acb12e5…</td><td>&quot;0xc18360217d8f7ab5e7c516566761…</td><td>91</td><td>155</td><td>&quot;Claim&quot;</td><td>&quot;0x0904dac3347ea47d208f3fd67402…</td><td>1.143544204434688481e3</td><td>2021-11-09 00:01:43</td></tr><tr><td>13578846</td><td>&quot;5a067ac5c5d6aeb5acae38ff66d999…</td><td>&quot;651b71e0647a11f3702054ec4b3ed1…</td><td>&quot;0xc18360217d8f7ab5e7c516566761…</td><td>44</td><td>52</td><td>&quot;Claim&quot;</td><td>&quot;0x12e245bf546d91bc25fc18c9252c…</td><td>1.301280017237164088e2</td><td>2021-11-09 00:01:56</td></tr><tr><td>13578846</td><td>&quot;a8a0b3030860f4970c6ac4b0e5e3db…</td><td>&quot;651b71e0647a11f3702054ec4b3ed1…</td><td>&quot;0xc18360217d8f7ab5e7c516566761…</td><td>134</td><td>187</td><td>&quot;Claim&quot;</td><td>&quot;0x3839acf1ee7699d1f46b1be840d8…</td><td>7.354902757348929754e2</td><td>2021-11-09 00:01:56</td></tr><tr><td>13578846</td><td>&quot;6a22895d6e264e72c360251f2145fb…</td><td>&quot;651b71e0647a11f3702054ec4b3ed1…</td><td>&quot;0xc18360217d8f7ab5e7c516566761…</td><td>239</td><td>345</td><td>&quot;Claim&quot;</td><td>&quot;0x3d597789ea16054a084ac84ce87f…</td><td>4.379828076877110448e2</td><td>2021-11-09 00:01:56</td></tr></tbody></table></div>"
      ],
      "text/plain": [
       "shape: (5, 10)\n",
       "┌────────────┬────────────┬────────────┬───────────┬───┬───────┬───────────┬───────────┬───────────┐\n",
       "│ blockNumbe ┆ transactio ┆ blockHash  ┆ address   ┆ … ┆ event ┆ account   ┆ amount    ┆ timestamp │\n",
       "│ r          ┆ nHash      ┆ ---        ┆ ---       ┆   ┆ ---   ┆ ---       ┆ ---       ┆ ---       │\n",
       "│ ---        ┆ ---        ┆ str        ┆ str       ┆   ┆ str   ┆ str       ┆ f64       ┆ datetime[ │\n",
       "│ i64        ┆ str        ┆            ┆           ┆   ┆       ┆           ┆           ┆ ns]       │\n",
       "╞════════════╪════════════╪════════════╪═══════════╪═══╪═══════╪═══════════╪═══════════╪═══════════╡\n",
       "│ 13578843   ┆ 9169befc5b ┆ 36c877cbda ┆ 0xc183602 ┆ … ┆ Claim ┆ 0xa753e05 ┆ 4.3060592 ┆ 2021-11-0 │\n",
       "│            ┆ b7af4437bc ┆ ed6ba17fd4 ┆ 17d8f7ab5 ┆   ┆       ┆ 0948ff5bf ┆ 301200381 ┆ 9         │\n",
       "│            ┆ d31569ffcc ┆ e0be5561cd ┆ e7c516566 ┆   ┆       ┆ b4b695f87 ┆ 37e2      ┆ 00:01:26  │\n",
       "│            ┆ …          ┆ …          ┆ 761…      ┆   ┆       ┆ 0b3…      ┆           ┆           │\n",
       "│ 13578844   ┆ 57458e8288 ┆ 10365276cb ┆ 0xc183602 ┆ … ┆ Claim ┆ 0x0904dac ┆ 1.1435442 ┆ 2021-11-0 │\n",
       "│            ┆ 09dc0efa89 ┆ 5ea39b91fe ┆ 17d8f7ab5 ┆   ┆       ┆ 3347ea47d ┆ 044346884 ┆ 9         │\n",
       "│            ┆ 2a507310cc ┆ 2c9acb12e5 ┆ e7c516566 ┆   ┆       ┆ 208f3fd67 ┆ 81e3      ┆ 00:01:43  │\n",
       "│            ┆ …          ┆ …          ┆ 761…      ┆   ┆       ┆ 402…      ┆           ┆           │\n",
       "│ 13578846   ┆ 5a067ac5c5 ┆ 651b71e064 ┆ 0xc183602 ┆ … ┆ Claim ┆ 0x12e245b ┆ 1.3012800 ┆ 2021-11-0 │\n",
       "│            ┆ d6aeb5acae ┆ 7a11f37020 ┆ 17d8f7ab5 ┆   ┆       ┆ f546d91bc ┆ 172371640 ┆ 9         │\n",
       "│            ┆ 38ff66d999 ┆ 54ec4b3ed1 ┆ e7c516566 ┆   ┆       ┆ 25fc18c92 ┆ 88e2      ┆ 00:01:56  │\n",
       "│            ┆ …          ┆ …          ┆ 761…      ┆   ┆       ┆ 52c…      ┆           ┆           │\n",
       "│ 13578846   ┆ a8a0b30308 ┆ 651b71e064 ┆ 0xc183602 ┆ … ┆ Claim ┆ 0x3839acf ┆ 7.3549027 ┆ 2021-11-0 │\n",
       "│            ┆ 60f4970c6a ┆ 7a11f37020 ┆ 17d8f7ab5 ┆   ┆       ┆ 1ee7699d1 ┆ 573489297 ┆ 9         │\n",
       "│            ┆ c4b0e5e3db ┆ 54ec4b3ed1 ┆ e7c516566 ┆   ┆       ┆ f46b1be84 ┆ 54e2      ┆ 00:01:56  │\n",
       "│            ┆ …          ┆ …          ┆ 761…      ┆   ┆       ┆ 0d8…      ┆           ┆           │\n",
       "│ 13578846   ┆ 6a22895d6e ┆ 651b71e064 ┆ 0xc183602 ┆ … ┆ Claim ┆ 0x3d59778 ┆ 4.3798280 ┆ 2021-11-0 │\n",
       "│            ┆ 264e72c360 ┆ 7a11f37020 ┆ 17d8f7ab5 ┆   ┆       ┆ 9ea16054a ┆ 768771104 ┆ 9         │\n",
       "│            ┆ 251f2145fb ┆ 54ec4b3ed1 ┆ e7c516566 ┆   ┆       ┆ 084ac84ce ┆ 48e2      ┆ 00:01:56  │\n",
       "│            ┆ …          ┆ …          ┆ 761…      ┆   ┆       ┆ 87f…      ┆           ┆           │\n",
       "└────────────┴────────────┴────────────┴───────────┴───┴───────┴───────────┴───────────┴───────────┘"
      ]
     },
     "execution_count": 18,
     "metadata": {},
     "output_type": "execute_result"
    }
   ],
   "source": [
    "protocol_name = 'ens'\n",
    "ens_claim_pl = load_claim(protocol_name, amount_column=\"amount\",\n",
    "                          event_claim=\"Claim\", account_column=\"claimant\")\n",
    "ens_claim_pl = ens_claim_pl.with_columns(pl.col('amount').truediv(\n",
    "    10**contract_settings[protocol_name]['decimals']).alias('amount'))\n",
    "print('There are {} Claim events'.format(len(ens_claim_pl)))\n",
    "ens_claim_pl.head()"
   ]
  },
  {
   "cell_type": "code",
   "execution_count": 19,
   "metadata": {},
   "outputs": [],
   "source": [
    "file_path = os.path.realpath(os.path.join(\n",
    "    path_data, \"ens_transfer.parquet\"))\n",
    "ens_transfer_pl.write_parquet(file_path, compression=\"gzip\")\n",
    "\n",
    "file_path = os.path.realpath(os.path.join(path_data, \"ens_claim.parquet\"))\n",
    "ens_claim_pl.write_parquet(file_path, compression=\"gzip\")"
   ]
  },
  {
   "cell_type": "code",
   "execution_count": null,
   "metadata": {},
   "outputs": [],
   "source": [
    "del (ens_transfer_pl)\n",
    "del (ens_claim_pl)"
   ]
  },
  {
   "cell_type": "markdown",
   "metadata": {},
   "source": [
    "## dYdX\n"
   ]
  },
  {
   "cell_type": "code",
   "execution_count": 20,
   "metadata": {},
   "outputs": [
    {
     "name": "stderr",
     "output_type": "stream",
     "text": [
      "Loading Transfer events: 100%|██████████| 796672/796672 [00:01<00:00, 778915.35it/s]\n"
     ]
    },
    {
     "name": "stdout",
     "output_type": "stream",
     "text": [
      "There are 747372 Transfer events\n"
     ]
    },
    {
     "data": {
      "text/html": [
       "<div><style>\n",
       ".dataframe > thead > tr,\n",
       ".dataframe > tbody > tr {\n",
       "  text-align: right;\n",
       "  white-space: pre-wrap;\n",
       "}\n",
       "</style>\n",
       "<small>shape: (5, 11)</small><table border=\"1\" class=\"dataframe\"><thead><tr><th>blockNumber</th><th>transactionHash</th><th>blockHash</th><th>address</th><th>transactionIndex</th><th>logIndex</th><th>event</th><th>from</th><th>to</th><th>amount</th><th>timestamp</th></tr><tr><td>i64</td><td>str</td><td>str</td><td>str</td><td>i64</td><td>i64</td><td>str</td><td>str</td><td>str</td><td>f64</td><td>datetime[ns]</td></tr></thead><tbody><tr><td>12809555</td><td>&quot;c651e83150a597d999c07d1e4689a8…</td><td>&quot;364b2b2a4ba75661940d7838792b00…</td><td>&quot;0x92d6c1e31e14520e676a687f0a93…</td><td>53</td><td>57</td><td>&quot;Transfer&quot;</td><td>&quot;0x0000000000000000000000000000…</td><td>&quot;0x301df37d653b281af83a1ddf4464…</td><td>1.000000000000000119e9</td><td>2021-07-12 01:37:12</td></tr><tr><td>12824766</td><td>&quot;5866c5d6101cd4e25b83dea598ca21…</td><td>&quot;389812942f89a9208e257361f79c01…</td><td>&quot;0x92d6c1e31e14520e676a687f0a93…</td><td>107</td><td>61</td><td>&quot;Transfer&quot;</td><td>&quot;0x301df37d653b281af83a1ddf4464…</td><td>&quot;0xeb74327ddd3f0d359321f06d84a9…</td><td>2.000000000000000000e0</td><td>2021-07-14 11:04:15</td></tr><tr><td>12824768</td><td>&quot;759dcde97cc407b574d6cd58fb32dd…</td><td>&quot;e5d849dfc0db2b860649fbc9aafddc…</td><td>&quot;0x92d6c1e31e14520e676a687f0a93…</td><td>116</td><td>81</td><td>&quot;Transfer&quot;</td><td>&quot;0x301df37d653b281af83a1ddf4464…</td><td>&quot;0xb03414a51a625e8ce16d284e3494…</td><td>2.000000000000000000e0</td><td>2021-07-14 11:04:57</td></tr><tr><td>12824772</td><td>&quot;e6c2df6b0105be70229b2a2c393413…</td><td>&quot;bc7aa7c67c48a32da5454506f58ae4…</td><td>&quot;0x92d6c1e31e14520e676a687f0a93…</td><td>16</td><td>17</td><td>&quot;Transfer&quot;</td><td>&quot;0x301df37d653b281af83a1ddf4464…</td><td>&quot;0x1eec5afab429859c46db6552bc97…</td><td>2.000000000000000000e0</td><td>2021-07-14 11:06:06</td></tr><tr><td>12824779</td><td>&quot;f556296d38de9e5068b8ded2a5f452…</td><td>&quot;091d78572295d9c9cf7dc7d1fa8941…</td><td>&quot;0x92d6c1e31e14520e676a687f0a93…</td><td>39</td><td>93</td><td>&quot;Transfer&quot;</td><td>&quot;0x301df37d653b281af83a1ddf4464…</td><td>&quot;0x69112552fac655bb76a3e0ee7779…</td><td>2.000000000000000000e0</td><td>2021-07-14 11:06:54</td></tr></tbody></table></div>"
      ],
      "text/plain": [
       "shape: (5, 11)\n",
       "┌───────────┬───────────┬───────────┬───────────┬───┬───────────┬───────────┬───────────┬──────────┐\n",
       "│ blockNumb ┆ transacti ┆ blockHash ┆ address   ┆ … ┆ from      ┆ to        ┆ amount    ┆ timestam │\n",
       "│ er        ┆ onHash    ┆ ---       ┆ ---       ┆   ┆ ---       ┆ ---       ┆ ---       ┆ p        │\n",
       "│ ---       ┆ ---       ┆ str       ┆ str       ┆   ┆ str       ┆ str       ┆ f64       ┆ ---      │\n",
       "│ i64       ┆ str       ┆           ┆           ┆   ┆           ┆           ┆           ┆ datetime │\n",
       "│           ┆           ┆           ┆           ┆   ┆           ┆           ┆           ┆ [ns]     │\n",
       "╞═══════════╪═══════════╪═══════════╪═══════════╪═══╪═══════════╪═══════════╪═══════════╪══════════╡\n",
       "│ 12809555  ┆ c651e8315 ┆ 364b2b2a4 ┆ 0x92d6c1e ┆ … ┆ 0x0000000 ┆ 0x301df37 ┆ 1.0000000 ┆ 2021-07- │\n",
       "│           ┆ 0a597d999 ┆ ba7566194 ┆ 31e14520e ┆   ┆ 000000000 ┆ d653b281a ┆ 000000001 ┆ 12       │\n",
       "│           ┆ c07d1e468 ┆ 0d7838792 ┆ 676a687f0 ┆   ┆ 000000000 ┆ f83a1ddf4 ┆ 19e9      ┆ 01:37:12 │\n",
       "│           ┆ 9a8…      ┆ b00…      ┆ a93…      ┆   ┆ 000…      ┆ 464…      ┆           ┆          │\n",
       "│ 12824766  ┆ 5866c5d61 ┆ 389812942 ┆ 0x92d6c1e ┆ … ┆ 0x301df37 ┆ 0xeb74327 ┆ 2.0000000 ┆ 2021-07- │\n",
       "│           ┆ 01cd4e25b ┆ f89a9208e ┆ 31e14520e ┆   ┆ d653b281a ┆ ddd3f0d35 ┆ 000000000 ┆ 14       │\n",
       "│           ┆ 83dea598c ┆ 257361f79 ┆ 676a687f0 ┆   ┆ f83a1ddf4 ┆ 9321f06d8 ┆ 00e0      ┆ 11:04:15 │\n",
       "│           ┆ a21…      ┆ c01…      ┆ a93…      ┆   ┆ 464…      ┆ 4a9…      ┆           ┆          │\n",
       "│ 12824768  ┆ 759dcde97 ┆ e5d849dfc ┆ 0x92d6c1e ┆ … ┆ 0x301df37 ┆ 0xb03414a ┆ 2.0000000 ┆ 2021-07- │\n",
       "│           ┆ cc407b574 ┆ 0db2b8606 ┆ 31e14520e ┆   ┆ d653b281a ┆ 51a625e8c ┆ 000000000 ┆ 14       │\n",
       "│           ┆ d6cd58fb3 ┆ 49fbc9aaf ┆ 676a687f0 ┆   ┆ f83a1ddf4 ┆ e16d284e3 ┆ 00e0      ┆ 11:04:57 │\n",
       "│           ┆ 2dd…      ┆ ddc…      ┆ a93…      ┆   ┆ 464…      ┆ 494…      ┆           ┆          │\n",
       "│ 12824772  ┆ e6c2df6b0 ┆ bc7aa7c67 ┆ 0x92d6c1e ┆ … ┆ 0x301df37 ┆ 0x1eec5af ┆ 2.0000000 ┆ 2021-07- │\n",
       "│           ┆ 105be7022 ┆ c48a32da5 ┆ 31e14520e ┆   ┆ d653b281a ┆ ab429859c ┆ 000000000 ┆ 14       │\n",
       "│           ┆ 9b2a2c393 ┆ 454506f58 ┆ 676a687f0 ┆   ┆ f83a1ddf4 ┆ 46db6552b ┆ 00e0      ┆ 11:06:06 │\n",
       "│           ┆ 413…      ┆ ae4…      ┆ a93…      ┆   ┆ 464…      ┆ c97…      ┆           ┆          │\n",
       "│ 12824779  ┆ f556296d3 ┆ 091d78572 ┆ 0x92d6c1e ┆ … ┆ 0x301df37 ┆ 0x6911255 ┆ 2.0000000 ┆ 2021-07- │\n",
       "│           ┆ 8de9e5068 ┆ 295d9c9cf ┆ 31e14520e ┆   ┆ d653b281a ┆ 2fac655bb ┆ 000000000 ┆ 14       │\n",
       "│           ┆ b8ded2a5f ┆ 7dc7d1fa8 ┆ 676a687f0 ┆   ┆ f83a1ddf4 ┆ 76a3e0ee7 ┆ 00e0      ┆ 11:06:54 │\n",
       "│           ┆ 452…      ┆ 941…      ┆ a93…      ┆   ┆ 464…      ┆ 779…      ┆           ┆          │\n",
       "└───────────┴───────────┴───────────┴───────────┴───┴───────────┴───────────┴───────────┴──────────┘"
      ]
     },
     "execution_count": 20,
     "metadata": {},
     "output_type": "execute_result"
    }
   ],
   "source": [
    "protocol_name = 'dydx'\n",
    "dydx_transfer_pl = load_transfer(protocol_name, amount_column=\"value\")\n",
    "dydx_transfer_pl = dydx_transfer_pl.with_columns(pl.col('amount').truediv(\n",
    "    10**contract_settings[protocol_name]['decimals']).alias('amount'))\n",
    "print('There are {} Transfer events'.format(len(dydx_transfer_pl)))\n",
    "dydx_transfer_pl.head()"
   ]
  },
  {
   "cell_type": "code",
   "execution_count": 21,
   "metadata": {},
   "outputs": [
    {
     "name": "stderr",
     "output_type": "stream",
     "text": [
      "Loading Claim events: 100%|██████████| 73115/73115 [00:00<00:00, 825850.95it/s]\n"
     ]
    },
    {
     "name": "stdout",
     "output_type": "stream",
     "text": [
      "There are 72870 Claim events\n"
     ]
    },
    {
     "data": {
      "text/html": [
       "<div><style>\n",
       ".dataframe > thead > tr,\n",
       ".dataframe > tbody > tr {\n",
       "  text-align: right;\n",
       "  white-space: pre-wrap;\n",
       "}\n",
       "</style>\n",
       "<small>shape: (5, 10)</small><table border=\"1\" class=\"dataframe\"><thead><tr><th>blockNumber</th><th>transactionHash</th><th>blockHash</th><th>address</th><th>transactionIndex</th><th>logIndex</th><th>event</th><th>account</th><th>amount</th><th>timestamp</th></tr><tr><td>i64</td><td>str</td><td>str</td><td>str</td><td>i64</td><td>i64</td><td>str</td><td>str</td><td>f64</td><td>datetime[ns]</td></tr></thead><tbody><tr><td>13183164</td><td>&quot;361400ec679147ed4575ac2215de48…</td><td>&quot;66eebcd18b681919affcf267100740…</td><td>&quot;0x01d3348601968ab85b4bb0289790…</td><td>18</td><td>37</td><td>&quot;RewardsClaimed&quot;</td><td>&quot;0x54af6a1dbacfa9dddd72a7dd1b4f…</td><td>1.584922969314624952e-1</td><td>2021-09-08 05:24:48</td></tr><tr><td>13185813</td><td>&quot;751c7b32ba3ed77f59dc2776a910dc…</td><td>&quot;bab2daf7004c944c5311039628208f…</td><td>&quot;0x01d3348601968ab85b4bb0289790…</td><td>23</td><td>102</td><td>&quot;RewardsClaimed&quot;</td><td>&quot;0x8568e1a8082b442ae9be089a3b38…</td><td>1.178209769696859667e3</td><td>2021-09-08 15:00:53</td></tr><tr><td>13185813</td><td>&quot;f1664ae2da908ee8a71e88afe86d25…</td><td>&quot;bab2daf7004c944c5311039628208f…</td><td>&quot;0x01d3348601968ab85b4bb0289790…</td><td>156</td><td>242</td><td>&quot;RewardsClaimed&quot;</td><td>&quot;0x44acd0ff3be9fdfb932453c82b5d…</td><td>4.350810345703857820e3</td><td>2021-09-08 15:00:53</td></tr><tr><td>13185813</td><td>&quot;0f6a0ed8d5e6854709e12d57bb65b6…</td><td>&quot;bab2daf7004c944c5311039628208f…</td><td>&quot;0x01d3348601968ab85b4bb0289790…</td><td>158</td><td>254</td><td>&quot;RewardsClaimed&quot;</td><td>&quot;0xf7e39bfa90e8501fe2f2a1333e3e…</td><td>1.163646413569437755e3</td><td>2021-09-08 15:00:53</td></tr><tr><td>13185813</td><td>&quot;9087ed3f61e5d0f1d98a89ba35e982…</td><td>&quot;bab2daf7004c944c5311039628208f…</td><td>&quot;0x01d3348601968ab85b4bb0289790…</td><td>238</td><td>348</td><td>&quot;RewardsClaimed&quot;</td><td>&quot;0x85a60b688a8057683fd4b46f4268…</td><td>6.478038445727037470e3</td><td>2021-09-08 15:00:53</td></tr></tbody></table></div>"
      ],
      "text/plain": [
       "shape: (5, 10)\n",
       "┌───────────┬───────────┬───────────┬───────────┬───┬───────────┬───────────┬───────────┬──────────┐\n",
       "│ blockNumb ┆ transacti ┆ blockHash ┆ address   ┆ … ┆ event     ┆ account   ┆ amount    ┆ timestam │\n",
       "│ er        ┆ onHash    ┆ ---       ┆ ---       ┆   ┆ ---       ┆ ---       ┆ ---       ┆ p        │\n",
       "│ ---       ┆ ---       ┆ str       ┆ str       ┆   ┆ str       ┆ str       ┆ f64       ┆ ---      │\n",
       "│ i64       ┆ str       ┆           ┆           ┆   ┆           ┆           ┆           ┆ datetime │\n",
       "│           ┆           ┆           ┆           ┆   ┆           ┆           ┆           ┆ [ns]     │\n",
       "╞═══════════╪═══════════╪═══════════╪═══════════╪═══╪═══════════╪═══════════╪═══════════╪══════════╡\n",
       "│ 13183164  ┆ 361400ec6 ┆ 66eebcd18 ┆ 0x01d3348 ┆ … ┆ RewardsCl ┆ 0x54af6a1 ┆ 1.5849229 ┆ 2021-09- │\n",
       "│           ┆ 79147ed45 ┆ b681919af ┆ 601968ab8 ┆   ┆ aimed     ┆ dbacfa9dd ┆ 693146249 ┆ 08       │\n",
       "│           ┆ 75ac2215d ┆ fcf267100 ┆ 5b4bb0289 ┆   ┆           ┆ dd72a7dd1 ┆ 52e-1     ┆ 05:24:48 │\n",
       "│           ┆ e48…      ┆ 740…      ┆ 790…      ┆   ┆           ┆ b4f…      ┆           ┆          │\n",
       "│ 13185813  ┆ 751c7b32b ┆ bab2daf70 ┆ 0x01d3348 ┆ … ┆ RewardsCl ┆ 0x8568e1a ┆ 1.1782097 ┆ 2021-09- │\n",
       "│           ┆ a3ed77f59 ┆ 04c944c53 ┆ 601968ab8 ┆   ┆ aimed     ┆ 8082b442a ┆ 696968596 ┆ 08       │\n",
       "│           ┆ dc2776a91 ┆ 110396282 ┆ 5b4bb0289 ┆   ┆           ┆ e9be089a3 ┆ 67e3      ┆ 15:00:53 │\n",
       "│           ┆ 0dc…      ┆ 08f…      ┆ 790…      ┆   ┆           ┆ b38…      ┆           ┆          │\n",
       "│ 13185813  ┆ f1664ae2d ┆ bab2daf70 ┆ 0x01d3348 ┆ … ┆ RewardsCl ┆ 0x44acd0f ┆ 4.3508103 ┆ 2021-09- │\n",
       "│           ┆ a908ee8a7 ┆ 04c944c53 ┆ 601968ab8 ┆   ┆ aimed     ┆ f3be9fdfb ┆ 457038578 ┆ 08       │\n",
       "│           ┆ 1e88afe86 ┆ 110396282 ┆ 5b4bb0289 ┆   ┆           ┆ 932453c82 ┆ 20e3      ┆ 15:00:53 │\n",
       "│           ┆ d25…      ┆ 08f…      ┆ 790…      ┆   ┆           ┆ b5d…      ┆           ┆          │\n",
       "│ 13185813  ┆ 0f6a0ed8d ┆ bab2daf70 ┆ 0x01d3348 ┆ … ┆ RewardsCl ┆ 0xf7e39bf ┆ 1.1636464 ┆ 2021-09- │\n",
       "│           ┆ 5e6854709 ┆ 04c944c53 ┆ 601968ab8 ┆   ┆ aimed     ┆ a90e8501f ┆ 135694377 ┆ 08       │\n",
       "│           ┆ e12d57bb6 ┆ 110396282 ┆ 5b4bb0289 ┆   ┆           ┆ e2f2a1333 ┆ 55e3      ┆ 15:00:53 │\n",
       "│           ┆ 5b6…      ┆ 08f…      ┆ 790…      ┆   ┆           ┆ e3e…      ┆           ┆          │\n",
       "│ 13185813  ┆ 9087ed3f6 ┆ bab2daf70 ┆ 0x01d3348 ┆ … ┆ RewardsCl ┆ 0x85a60b6 ┆ 6.4780384 ┆ 2021-09- │\n",
       "│           ┆ 1e5d0f1d9 ┆ 04c944c53 ┆ 601968ab8 ┆   ┆ aimed     ┆ 88a805768 ┆ 457270374 ┆ 08       │\n",
       "│           ┆ 8a89ba35e ┆ 110396282 ┆ 5b4bb0289 ┆   ┆           ┆ 3fd4b46f4 ┆ 70e3      ┆ 15:00:53 │\n",
       "│           ┆ 982…      ┆ 08f…      ┆ 790…      ┆   ┆           ┆ 268…      ┆           ┆          │\n",
       "└───────────┴───────────┴───────────┴───────────┴───┴───────────┴───────────┴───────────┴──────────┘"
      ]
     },
     "execution_count": 21,
     "metadata": {},
     "output_type": "execute_result"
    }
   ],
   "source": [
    "protocol_name = 'dydx-merkle-distributor'\n",
    "# Treasury Merkle Claim Proxy\n",
    "dydx_address_to_ignore = \"0x95eabb0248d013b9f59c5d5256ce11b0a8140b54\"\n",
    "dydx_claim_pl = load_claim(protocol_name, amount_column=\"amount\",\n",
    "                           event_claim=\"RewardsClaimed\", account_column=\"account\")\n",
    "dydx_claim_pl = (\n",
    "    dydx_claim_pl\n",
    "    .filter(pl.col(\"account\").ne(dydx_address_to_ignore))\n",
    "    .with_columns(pl.col('amount').truediv(\n",
    "        10**contract_settings[protocol_name]['decimals']).alias('amount'))\n",
    ")\n",
    "print('There are {} Claim events'.format(len(dydx_claim_pl)))\n",
    "dydx_claim_pl.head()"
   ]
  },
  {
   "cell_type": "code",
   "execution_count": 23,
   "metadata": {},
   "outputs": [],
   "source": [
    "file_path = os.path.realpath(os.path.join(\n",
    "    path_data, \"dydx_transfer.parquet\"))\n",
    "dydx_transfer_pl.write_parquet(file_path, compression=\"gzip\")\n",
    "\n",
    "file_path = os.path.realpath(os.path.join(path_data, \"dydx_claim.parquet\"))\n",
    "dydx_claim_pl.write_parquet(file_path, compression=\"gzip\")"
   ]
  },
  {
   "cell_type": "code",
   "execution_count": null,
   "metadata": {},
   "outputs": [],
   "source": [
    "del (dydx_transfer_pl)\n",
    "del (dydx_claim_pl)"
   ]
  },
  {
   "cell_type": "markdown",
   "metadata": {},
   "source": [
    "## Lido\n"
   ]
  },
  {
   "cell_type": "code",
   "execution_count": 24,
   "metadata": {},
   "outputs": [
    {
     "name": "stderr",
     "output_type": "stream",
     "text": [
      "Loading Transfer events: 100%|██████████| 1227365/1227365 [00:01<00:00, 765048.53it/s]\n"
     ]
    },
    {
     "name": "stdout",
     "output_type": "stream",
     "text": [
      "There are 1107586 Transfer events\n"
     ]
    },
    {
     "data": {
      "text/html": [
       "<div><style>\n",
       ".dataframe > thead > tr,\n",
       ".dataframe > tbody > tr {\n",
       "  text-align: right;\n",
       "  white-space: pre-wrap;\n",
       "}\n",
       "</style>\n",
       "<small>shape: (5, 11)</small><table border=\"1\" class=\"dataframe\"><thead><tr><th>blockNumber</th><th>transactionHash</th><th>blockHash</th><th>address</th><th>transactionIndex</th><th>logIndex</th><th>event</th><th>from</th><th>to</th><th>amount</th><th>timestamp</th></tr><tr><td>i64</td><td>str</td><td>str</td><td>str</td><td>i64</td><td>i64</td><td>str</td><td>str</td><td>str</td><td>f64</td><td>datetime[ns]</td></tr></thead><tbody><tr><td>11473276</td><td>&quot;06c10f98d32cdbe8633c967aabd52c…</td><td>&quot;a73f4a3d175aa7b81822a228788cd9…</td><td>&quot;0x5a98fcbea516cf06857215779fd8…</td><td>84</td><td>124</td><td>&quot;Transfer&quot;</td><td>&quot;0x0000000000000000000000000000…</td><td>&quot;0xf73a1260d222f447210581ddf212…</td><td>2.364025000000000000e8</td><td>2020-12-17 22:12:05</td></tr><tr><td>11473276</td><td>&quot;06c10f98d32cdbe8633c967aabd52c…</td><td>&quot;a73f4a3d175aa7b81822a228788cd9…</td><td>&quot;0x5a98fcbea516cf06857215779fd8…</td><td>84</td><td>125</td><td>&quot;Transfer&quot;</td><td>&quot;0xf73a1260d222f447210581ddf212…</td><td>&quot;0x9bb75183646e2a0dc855498bacd7…</td><td>2.000000000000000373e7</td><td>2020-12-17 22:12:05</td></tr><tr><td>11473276</td><td>&quot;06c10f98d32cdbe8633c967aabd52c…</td><td>&quot;a73f4a3d175aa7b81822a228788cd9…</td><td>&quot;0x5a98fcbea516cf06857215779fd8…</td><td>84</td><td>127</td><td>&quot;Transfer&quot;</td><td>&quot;0xf73a1260d222f447210581ddf212…</td><td>&quot;0x0f89d54b02ca570de82f770d33c7…</td><td>2.500000000000000373e7</td><td>2020-12-17 22:12:05</td></tr><tr><td>11473276</td><td>&quot;06c10f98d32cdbe8633c967aabd52c…</td><td>&quot;a73f4a3d175aa7b81822a228788cd9…</td><td>&quot;0x5a98fcbea516cf06857215779fd8…</td><td>84</td><td>129</td><td>&quot;Transfer&quot;</td><td>&quot;0xf73a1260d222f447210581ddf212…</td><td>&quot;0xe49f68b9a01d437b0b7ea416376a…</td><td>2.282000000000000000e6</td><td>2020-12-17 22:12:05</td></tr><tr><td>11473276</td><td>&quot;06c10f98d32cdbe8633c967aabd52c…</td><td>&quot;a73f4a3d175aa7b81822a228788cd9…</td><td>&quot;0x5a98fcbea516cf06857215779fd8…</td><td>84</td><td>131</td><td>&quot;Transfer&quot;</td><td>&quot;0xf73a1260d222f447210581ddf212…</td><td>&quot;0xb842afd82d940ff5d8f6ef339957…</td><td>1.771800000000000000e7</td><td>2020-12-17 22:12:05</td></tr></tbody></table></div>"
      ],
      "text/plain": [
       "shape: (5, 11)\n",
       "┌───────────┬───────────┬───────────┬───────────┬───┬───────────┬───────────┬───────────┬──────────┐\n",
       "│ blockNumb ┆ transacti ┆ blockHash ┆ address   ┆ … ┆ from      ┆ to        ┆ amount    ┆ timestam │\n",
       "│ er        ┆ onHash    ┆ ---       ┆ ---       ┆   ┆ ---       ┆ ---       ┆ ---       ┆ p        │\n",
       "│ ---       ┆ ---       ┆ str       ┆ str       ┆   ┆ str       ┆ str       ┆ f64       ┆ ---      │\n",
       "│ i64       ┆ str       ┆           ┆           ┆   ┆           ┆           ┆           ┆ datetime │\n",
       "│           ┆           ┆           ┆           ┆   ┆           ┆           ┆           ┆ [ns]     │\n",
       "╞═══════════╪═══════════╪═══════════╪═══════════╪═══╪═══════════╪═══════════╪═══════════╪══════════╡\n",
       "│ 11473276  ┆ 06c10f98d ┆ a73f4a3d1 ┆ 0x5a98fcb ┆ … ┆ 0x0000000 ┆ 0xf73a126 ┆ 2.3640250 ┆ 2020-12- │\n",
       "│           ┆ 32cdbe863 ┆ 75aa7b818 ┆ ea516cf06 ┆   ┆ 000000000 ┆ 0d222f447 ┆ 000000000 ┆ 17       │\n",
       "│           ┆ 3c967aabd ┆ 22a228788 ┆ 857215779 ┆   ┆ 000000000 ┆ 210581ddf ┆ 00e8      ┆ 22:12:05 │\n",
       "│           ┆ 52c…      ┆ cd9…      ┆ fd8…      ┆   ┆ 000…      ┆ 212…      ┆           ┆          │\n",
       "│ 11473276  ┆ 06c10f98d ┆ a73f4a3d1 ┆ 0x5a98fcb ┆ … ┆ 0xf73a126 ┆ 0x9bb7518 ┆ 2.0000000 ┆ 2020-12- │\n",
       "│           ┆ 32cdbe863 ┆ 75aa7b818 ┆ ea516cf06 ┆   ┆ 0d222f447 ┆ 3646e2a0d ┆ 000000003 ┆ 17       │\n",
       "│           ┆ 3c967aabd ┆ 22a228788 ┆ 857215779 ┆   ┆ 210581ddf ┆ c855498ba ┆ 73e7      ┆ 22:12:05 │\n",
       "│           ┆ 52c…      ┆ cd9…      ┆ fd8…      ┆   ┆ 212…      ┆ cd7…      ┆           ┆          │\n",
       "│ 11473276  ┆ 06c10f98d ┆ a73f4a3d1 ┆ 0x5a98fcb ┆ … ┆ 0xf73a126 ┆ 0x0f89d54 ┆ 2.5000000 ┆ 2020-12- │\n",
       "│           ┆ 32cdbe863 ┆ 75aa7b818 ┆ ea516cf06 ┆   ┆ 0d222f447 ┆ b02ca570d ┆ 000000003 ┆ 17       │\n",
       "│           ┆ 3c967aabd ┆ 22a228788 ┆ 857215779 ┆   ┆ 210581ddf ┆ e82f770d3 ┆ 73e7      ┆ 22:12:05 │\n",
       "│           ┆ 52c…      ┆ cd9…      ┆ fd8…      ┆   ┆ 212…      ┆ 3c7…      ┆           ┆          │\n",
       "│ 11473276  ┆ 06c10f98d ┆ a73f4a3d1 ┆ 0x5a98fcb ┆ … ┆ 0xf73a126 ┆ 0xe49f68b ┆ 2.2820000 ┆ 2020-12- │\n",
       "│           ┆ 32cdbe863 ┆ 75aa7b818 ┆ ea516cf06 ┆   ┆ 0d222f447 ┆ 9a01d437b ┆ 000000000 ┆ 17       │\n",
       "│           ┆ 3c967aabd ┆ 22a228788 ┆ 857215779 ┆   ┆ 210581ddf ┆ 0b7ea4163 ┆ 00e6      ┆ 22:12:05 │\n",
       "│           ┆ 52c…      ┆ cd9…      ┆ fd8…      ┆   ┆ 212…      ┆ 76a…      ┆           ┆          │\n",
       "│ 11473276  ┆ 06c10f98d ┆ a73f4a3d1 ┆ 0x5a98fcb ┆ … ┆ 0xf73a126 ┆ 0xb842afd ┆ 1.7718000 ┆ 2020-12- │\n",
       "│           ┆ 32cdbe863 ┆ 75aa7b818 ┆ ea516cf06 ┆   ┆ 0d222f447 ┆ 82d940ff5 ┆ 000000000 ┆ 17       │\n",
       "│           ┆ 3c967aabd ┆ 22a228788 ┆ 857215779 ┆   ┆ 210581ddf ┆ d8f6ef339 ┆ 00e7      ┆ 22:12:05 │\n",
       "│           ┆ 52c…      ┆ cd9…      ┆ fd8…      ┆   ┆ 212…      ┆ 957…      ┆           ┆          │\n",
       "└───────────┴───────────┴───────────┴───────────┴───┴───────────┴───────────┴───────────┴──────────┘"
      ]
     },
     "execution_count": 24,
     "metadata": {},
     "output_type": "execute_result"
    }
   ],
   "source": [
    "protocol_name = 'lido-token'\n",
    "lido_transfer_pl = load_transfer(\n",
    "    protocol_name, amount_column=\"_amount\", sender=\"_from\", receiver=\"_to\")\n",
    "lido_transfer_pl = lido_transfer_pl.with_columns(pl.col('amount').truediv(\n",
    "    10**contract_settings[protocol_name]['decimals']).alias('amount'))\n",
    "print('There are {} Transfer events'.format(len(lido_transfer_pl)))\n",
    "lido_transfer_pl.head()"
   ]
  },
  {
   "cell_type": "code",
   "execution_count": 25,
   "metadata": {},
   "outputs": [
    {
     "name": "stdout",
     "output_type": "stream",
     "text": [
      "There are 516 Claim events\n"
     ]
    },
    {
     "data": {
      "text/html": [
       "<div><style>\n",
       ".dataframe > thead > tr,\n",
       ".dataframe > tbody > tr {\n",
       "  text-align: right;\n",
       "  white-space: pre-wrap;\n",
       "}\n",
       "</style>\n",
       "<small>shape: (5, 11)</small><table border=\"1\" class=\"dataframe\"><thead><tr><th>blockNumber</th><th>transactionHash</th><th>blockHash</th><th>address</th><th>transactionIndex</th><th>logIndex</th><th>event</th><th>from</th><th>to</th><th>amount</th><th>timestamp</th></tr><tr><td>i64</td><td>str</td><td>str</td><td>str</td><td>i64</td><td>i64</td><td>str</td><td>str</td><td>str</td><td>f64</td><td>datetime[ns]</td></tr></thead><tbody><tr><td>11596109</td><td>&quot;730f238b6aba4c92c74a2db53c6623…</td><td>&quot;4d7749b8b109b11ab10496ccac4c39…</td><td>&quot;0x5a98fcbea516cf06857215779fd8…</td><td>29</td><td>41</td><td>&quot;Transfer&quot;</td><td>&quot;0x4b3edb22952fb4a70140e39fb1ad…</td><td>&quot;0x55bc991b2edf3ddb4c520b222be4…</td><td>4.892206212239684646e2</td><td>2021-01-05 18:16:51</td></tr><tr><td>11596110</td><td>&quot;aa53383eebea4dab91ef42c38c3518…</td><td>&quot;dbb15f961a47545b361bfad9f769d3…</td><td>&quot;0x5a98fcbea516cf06857215779fd8…</td><td>77</td><td>217</td><td>&quot;Transfer&quot;</td><td>&quot;0x4b3edb22952fb4a70140e39fb1ad…</td><td>&quot;0x44ea6f4805b92b14951c109fed1e…</td><td>1.242263015234035947e3</td><td>2021-01-05 18:17:02</td></tr><tr><td>11596114</td><td>&quot;0d1f4d777828bb527f5f8c149de251…</td><td>&quot;98e5ca581aa334a27b8ba24cb0d081…</td><td>&quot;0x5a98fcbea516cf06857215779fd8…</td><td>132</td><td>256</td><td>&quot;Transfer&quot;</td><td>&quot;0x4b3edb22952fb4a70140e39fb1ad…</td><td>&quot;0x912392a282500bb395b3af9a091b…</td><td>1.381364913659388776e3</td><td>2021-01-05 18:18:01</td></tr><tr><td>11596122</td><td>&quot;c7a454747491dc04eb1738005d0420…</td><td>&quot;2c5324a40a7f116466fa1caa2a0e6c…</td><td>&quot;0x5a98fcbea516cf06857215779fd8…</td><td>0</td><td>0</td><td>&quot;Transfer&quot;</td><td>&quot;0x4b3edb22952fb4a70140e39fb1ad…</td><td>&quot;0xf30b321970b3a4bba00d068284f9…</td><td>1.284346614560077455e2</td><td>2021-01-05 18:19:48</td></tr><tr><td>11596125</td><td>&quot;9b05112aaba57630e9f44d52ce1c5f…</td><td>&quot;866da2f5409a9ca9ce1441b846fc31…</td><td>&quot;0x5a98fcbea516cf06857215779fd8…</td><td>58</td><td>133</td><td>&quot;Transfer&quot;</td><td>&quot;0x4b3edb22952fb4a70140e39fb1ad…</td><td>&quot;0x41e37ddde5c80ee80cb9c468c0ed…</td><td>2.555293740455965121e2</td><td>2021-01-05 18:20:16</td></tr></tbody></table></div>"
      ],
      "text/plain": [
       "shape: (5, 11)\n",
       "┌───────────┬───────────┬───────────┬───────────┬───┬───────────┬───────────┬───────────┬──────────┐\n",
       "│ blockNumb ┆ transacti ┆ blockHash ┆ address   ┆ … ┆ from      ┆ to        ┆ amount    ┆ timestam │\n",
       "│ er        ┆ onHash    ┆ ---       ┆ ---       ┆   ┆ ---       ┆ ---       ┆ ---       ┆ p        │\n",
       "│ ---       ┆ ---       ┆ str       ┆ str       ┆   ┆ str       ┆ str       ┆ f64       ┆ ---      │\n",
       "│ i64       ┆ str       ┆           ┆           ┆   ┆           ┆           ┆           ┆ datetime │\n",
       "│           ┆           ┆           ┆           ┆   ┆           ┆           ┆           ┆ [ns]     │\n",
       "╞═══════════╪═══════════╪═══════════╪═══════════╪═══╪═══════════╪═══════════╪═══════════╪══════════╡\n",
       "│ 11596109  ┆ 730f238b6 ┆ 4d7749b8b ┆ 0x5a98fcb ┆ … ┆ 0x4b3edb2 ┆ 0x55bc991 ┆ 4.8922062 ┆ 2021-01- │\n",
       "│           ┆ aba4c92c7 ┆ 109b11ab1 ┆ ea516cf06 ┆   ┆ 2952fb4a7 ┆ b2edf3ddb ┆ 122396846 ┆ 05       │\n",
       "│           ┆ 4a2db53c6 ┆ 0496ccac4 ┆ 857215779 ┆   ┆ 0140e39fb ┆ 4c520b222 ┆ 46e2      ┆ 18:16:51 │\n",
       "│           ┆ 623…      ┆ c39…      ┆ fd8…      ┆   ┆ 1ad…      ┆ be4…      ┆           ┆          │\n",
       "│ 11596110  ┆ aa53383ee ┆ dbb15f961 ┆ 0x5a98fcb ┆ … ┆ 0x4b3edb2 ┆ 0x44ea6f4 ┆ 1.2422630 ┆ 2021-01- │\n",
       "│           ┆ bea4dab91 ┆ a47545b36 ┆ ea516cf06 ┆   ┆ 2952fb4a7 ┆ 805b92b14 ┆ 152340359 ┆ 05       │\n",
       "│           ┆ ef42c38c3 ┆ 1bfad9f76 ┆ 857215779 ┆   ┆ 0140e39fb ┆ 951c109fe ┆ 47e3      ┆ 18:17:02 │\n",
       "│           ┆ 518…      ┆ 9d3…      ┆ fd8…      ┆   ┆ 1ad…      ┆ d1e…      ┆           ┆          │\n",
       "│ 11596114  ┆ 0d1f4d777 ┆ 98e5ca581 ┆ 0x5a98fcb ┆ … ┆ 0x4b3edb2 ┆ 0x912392a ┆ 1.3813649 ┆ 2021-01- │\n",
       "│           ┆ 828bb527f ┆ aa334a27b ┆ ea516cf06 ┆   ┆ 2952fb4a7 ┆ 282500bb3 ┆ 136593887 ┆ 05       │\n",
       "│           ┆ 5f8c149de ┆ 8ba24cb0d ┆ 857215779 ┆   ┆ 0140e39fb ┆ 95b3af9a0 ┆ 76e3      ┆ 18:18:01 │\n",
       "│           ┆ 251…      ┆ 081…      ┆ fd8…      ┆   ┆ 1ad…      ┆ 91b…      ┆           ┆          │\n",
       "│ 11596122  ┆ c7a454747 ┆ 2c5324a40 ┆ 0x5a98fcb ┆ … ┆ 0x4b3edb2 ┆ 0xf30b321 ┆ 1.2843466 ┆ 2021-01- │\n",
       "│           ┆ 491dc04eb ┆ a7f116466 ┆ ea516cf06 ┆   ┆ 2952fb4a7 ┆ 970b3a4bb ┆ 145600774 ┆ 05       │\n",
       "│           ┆ 1738005d0 ┆ fa1caa2a0 ┆ 857215779 ┆   ┆ 0140e39fb ┆ a00d06828 ┆ 55e2      ┆ 18:19:48 │\n",
       "│           ┆ 420…      ┆ e6c…      ┆ fd8…      ┆   ┆ 1ad…      ┆ 4f9…      ┆           ┆          │\n",
       "│ 11596125  ┆ 9b05112aa ┆ 866da2f54 ┆ 0x5a98fcb ┆ … ┆ 0x4b3edb2 ┆ 0x41e37dd ┆ 2.5552937 ┆ 2021-01- │\n",
       "│           ┆ ba57630e9 ┆ 09a9ca9ce ┆ ea516cf06 ┆   ┆ 2952fb4a7 ┆ de5c80ee8 ┆ 404559651 ┆ 05       │\n",
       "│           ┆ f44d52ce1 ┆ 1441b846f ┆ 857215779 ┆   ┆ 0140e39fb ┆ 0cb9c468c ┆ 21e2      ┆ 18:20:16 │\n",
       "│           ┆ c5f…      ┆ c31…      ┆ fd8…      ┆   ┆ 1ad…      ┆ 0ed…      ┆           ┆          │\n",
       "└───────────┴───────────┴───────────┴───────────┴───┴───────────┴───────────┴───────────┴──────────┘"
      ]
     },
     "execution_count": 25,
     "metadata": {},
     "output_type": "execute_result"
    }
   ],
   "source": [
    "lido_early_stakers_airdrop_address = \"0x4b3edb22952fb4a70140e39fb1add05a6b49622b\"\n",
    "lido_1inch_liquidity_farming_address = \"0xdb46c277da1599390eab394327602889e9546296\"\n",
    "lido_claim_pl = lido_transfer_pl.filter(\n",
    "    pl.col(\"from\").eq(lido_early_stakers_airdrop_address) | pl.col('from').eq(lido_1inch_liquidity_farming_address))\n",
    "print('There are {} Claim events'.format(len(lido_claim_pl)))\n",
    "lido_claim_pl.head()"
   ]
  },
  {
   "cell_type": "code",
   "execution_count": 26,
   "metadata": {},
   "outputs": [],
   "source": [
    "file_path = os.path.realpath(os.path.join(\n",
    "    path_data, \"lido_transfer.parquet\"))\n",
    "lido_transfer_pl.write_parquet(file_path, compression=\"gzip\")\n",
    "\n",
    "file_path = os.path.realpath(os.path.join(path_data, \"lido_claim.parquet\"))\n",
    "lido_claim_pl.write_parquet(file_path, compression=\"gzip\")"
   ]
  },
  {
   "cell_type": "code",
   "execution_count": null,
   "metadata": {},
   "outputs": [],
   "source": [
    "del (lido_transfer_pl)\n",
    "del (lido_claim_pl)"
   ]
  },
  {
   "cell_type": "markdown",
   "metadata": {},
   "source": [
    "## TornadoCash\n"
   ]
  },
  {
   "cell_type": "code",
   "execution_count": 27,
   "metadata": {},
   "outputs": [
    {
     "name": "stderr",
     "output_type": "stream",
     "text": [
      "Loading Transfer events: 100%|██████████| 321928/321928 [00:00<00:00, 755733.16it/s]\n"
     ]
    },
    {
     "name": "stdout",
     "output_type": "stream",
     "text": [
      "There are 278455 Transfer events\n"
     ]
    },
    {
     "data": {
      "text/html": [
       "<div><style>\n",
       ".dataframe > thead > tr,\n",
       ".dataframe > tbody > tr {\n",
       "  text-align: right;\n",
       "  white-space: pre-wrap;\n",
       "}\n",
       "</style>\n",
       "<small>shape: (5, 11)</small><table border=\"1\" class=\"dataframe\"><thead><tr><th>blockNumber</th><th>transactionHash</th><th>blockHash</th><th>address</th><th>transactionIndex</th><th>logIndex</th><th>event</th><th>from</th><th>to</th><th>amount</th><th>timestamp</th></tr><tr><td>i64</td><td>str</td><td>str</td><td>str</td><td>i64</td><td>i64</td><td>str</td><td>str</td><td>str</td><td>f64</td><td>datetime[ns]</td></tr></thead><tbody><tr><td>11474599</td><td>&quot;fbe35150a2bd11d2fa1b7ebd25a960…</td><td>&quot;de33e4bb75c4c10b452db4d4bebff6…</td><td>&quot;0x77777feddddffc19ff86db637967…</td><td>22</td><td>17</td><td>&quot;Transfer&quot;</td><td>&quot;0x0000000000000000000000000000…</td><td>&quot;0x3efa30704d2b8bbac82130723037…</td><td>5.000000000000000000e5</td><td>2020-12-18 03:00:37</td></tr><tr><td>11474599</td><td>&quot;fbe35150a2bd11d2fa1b7ebd25a960…</td><td>&quot;de33e4bb75c4c10b452db4d4bebff6…</td><td>&quot;0x77777feddddffc19ff86db637967…</td><td>22</td><td>18</td><td>&quot;Transfer&quot;</td><td>&quot;0x0000000000000000000000000000…</td><td>&quot;0x5cab7692d4e94096462119ab7bf5…</td><td>1.000000000000000000e6</td><td>2020-12-18 03:00:37</td></tr><tr><td>11474599</td><td>&quot;fbe35150a2bd11d2fa1b7ebd25a960…</td><td>&quot;de33e4bb75c4c10b452db4d4bebff6…</td><td>&quot;0x77777feddddffc19ff86db637967…</td><td>22</td><td>19</td><td>&quot;Transfer&quot;</td><td>&quot;0x0000000000000000000000000000…</td><td>&quot;0x179f48c78f57a3a78f0608cc9197…</td><td>5.500000000000000931e6</td><td>2020-12-18 03:00:37</td></tr><tr><td>11474599</td><td>&quot;fbe35150a2bd11d2fa1b7ebd25a960…</td><td>&quot;de33e4bb75c4c10b452db4d4bebff6…</td><td>&quot;0x77777feddddffc19ff86db637967…</td><td>22</td><td>20</td><td>&quot;Transfer&quot;</td><td>&quot;0x0000000000000000000000000000…</td><td>&quot;0x5f48c2a71b2cc96e3f0ccae4e393…</td><td>8.224070000000001164e5</td><td>2020-12-18 03:00:37</td></tr><tr><td>11474599</td><td>&quot;fbe35150a2bd11d2fa1b7ebd25a960…</td><td>&quot;de33e4bb75c4c10b452db4d4bebff6…</td><td>&quot;0x77777feddddffc19ff86db637967…</td><td>22</td><td>21</td><td>&quot;Transfer&quot;</td><td>&quot;0x0000000000000000000000000000…</td><td>&quot;0x00d5ec4cdf59374b2a47e842b799…</td><td>8.224070000000001164e5</td><td>2020-12-18 03:00:37</td></tr></tbody></table></div>"
      ],
      "text/plain": [
       "shape: (5, 11)\n",
       "┌───────────┬───────────┬───────────┬───────────┬───┬───────────┬───────────┬───────────┬──────────┐\n",
       "│ blockNumb ┆ transacti ┆ blockHash ┆ address   ┆ … ┆ from      ┆ to        ┆ amount    ┆ timestam │\n",
       "│ er        ┆ onHash    ┆ ---       ┆ ---       ┆   ┆ ---       ┆ ---       ┆ ---       ┆ p        │\n",
       "│ ---       ┆ ---       ┆ str       ┆ str       ┆   ┆ str       ┆ str       ┆ f64       ┆ ---      │\n",
       "│ i64       ┆ str       ┆           ┆           ┆   ┆           ┆           ┆           ┆ datetime │\n",
       "│           ┆           ┆           ┆           ┆   ┆           ┆           ┆           ┆ [ns]     │\n",
       "╞═══════════╪═══════════╪═══════════╪═══════════╪═══╪═══════════╪═══════════╪═══════════╪══════════╡\n",
       "│ 11474599  ┆ fbe35150a ┆ de33e4bb7 ┆ 0x77777fe ┆ … ┆ 0x0000000 ┆ 0x3efa307 ┆ 5.0000000 ┆ 2020-12- │\n",
       "│           ┆ 2bd11d2fa ┆ 5c4c10b45 ┆ ddddffc19 ┆   ┆ 000000000 ┆ 04d2b8bba ┆ 000000000 ┆ 18       │\n",
       "│           ┆ 1b7ebd25a ┆ 2db4d4beb ┆ ff86db637 ┆   ┆ 000000000 ┆ c82130723 ┆ 00e5      ┆ 03:00:37 │\n",
       "│           ┆ 960…      ┆ ff6…      ┆ 967…      ┆   ┆ 000…      ┆ 037…      ┆           ┆          │\n",
       "│ 11474599  ┆ fbe35150a ┆ de33e4bb7 ┆ 0x77777fe ┆ … ┆ 0x0000000 ┆ 0x5cab769 ┆ 1.0000000 ┆ 2020-12- │\n",
       "│           ┆ 2bd11d2fa ┆ 5c4c10b45 ┆ ddddffc19 ┆   ┆ 000000000 ┆ 2d4e94096 ┆ 000000000 ┆ 18       │\n",
       "│           ┆ 1b7ebd25a ┆ 2db4d4beb ┆ ff86db637 ┆   ┆ 000000000 ┆ 462119ab7 ┆ 00e6      ┆ 03:00:37 │\n",
       "│           ┆ 960…      ┆ ff6…      ┆ 967…      ┆   ┆ 000…      ┆ bf5…      ┆           ┆          │\n",
       "│ 11474599  ┆ fbe35150a ┆ de33e4bb7 ┆ 0x77777fe ┆ … ┆ 0x0000000 ┆ 0x179f48c ┆ 5.5000000 ┆ 2020-12- │\n",
       "│           ┆ 2bd11d2fa ┆ 5c4c10b45 ┆ ddddffc19 ┆   ┆ 000000000 ┆ 78f57a3a7 ┆ 000000009 ┆ 18       │\n",
       "│           ┆ 1b7ebd25a ┆ 2db4d4beb ┆ ff86db637 ┆   ┆ 000000000 ┆ 8f0608cc9 ┆ 31e6      ┆ 03:00:37 │\n",
       "│           ┆ 960…      ┆ ff6…      ┆ 967…      ┆   ┆ 000…      ┆ 197…      ┆           ┆          │\n",
       "│ 11474599  ┆ fbe35150a ┆ de33e4bb7 ┆ 0x77777fe ┆ … ┆ 0x0000000 ┆ 0x5f48c2a ┆ 8.2240700 ┆ 2020-12- │\n",
       "│           ┆ 2bd11d2fa ┆ 5c4c10b45 ┆ ddddffc19 ┆   ┆ 000000000 ┆ 71b2cc96e ┆ 000000011 ┆ 18       │\n",
       "│           ┆ 1b7ebd25a ┆ 2db4d4beb ┆ ff86db637 ┆   ┆ 000000000 ┆ 3f0ccae4e ┆ 64e5      ┆ 03:00:37 │\n",
       "│           ┆ 960…      ┆ ff6…      ┆ 967…      ┆   ┆ 000…      ┆ 393…      ┆           ┆          │\n",
       "│ 11474599  ┆ fbe35150a ┆ de33e4bb7 ┆ 0x77777fe ┆ … ┆ 0x0000000 ┆ 0x00d5ec4 ┆ 8.2240700 ┆ 2020-12- │\n",
       "│           ┆ 2bd11d2fa ┆ 5c4c10b45 ┆ ddddffc19 ┆   ┆ 000000000 ┆ cdf59374b ┆ 000000011 ┆ 18       │\n",
       "│           ┆ 1b7ebd25a ┆ 2db4d4beb ┆ ff86db637 ┆   ┆ 000000000 ┆ 2a47e842b ┆ 64e5      ┆ 03:00:37 │\n",
       "│           ┆ 960…      ┆ ff6…      ┆ 967…      ┆   ┆ 000…      ┆ 799…      ┆           ┆          │\n",
       "└───────────┴───────────┴───────────┴───────────┴───┴───────────┴───────────┴───────────┴──────────┘"
      ]
     },
     "execution_count": 27,
     "metadata": {},
     "output_type": "execute_result"
    }
   ],
   "source": [
    "protocol_name = 'tornadocash'\n",
    "tornado_transfer_pl = load_transfer(\n",
    "    protocol_name, amount_column=\"value\")\n",
    "tornado_transfer_pl = tornado_transfer_pl.with_columns(pl.col('amount').truediv(\n",
    "    10**contract_settings[protocol_name]['decimals']).alias('amount'))\n",
    "print('There are {} Transfer events'.format(len(tornado_transfer_pl)))\n",
    "tornado_transfer_pl.head()"
   ]
  },
  {
   "cell_type": "code",
   "execution_count": 28,
   "metadata": {},
   "outputs": [
    {
     "name": "stdout",
     "output_type": "stream",
     "text": [
      "There are 5474 Claim events\n"
     ]
    },
    {
     "data": {
      "text/html": [
       "<div><style>\n",
       ".dataframe > thead > tr,\n",
       ".dataframe > tbody > tr {\n",
       "  text-align: right;\n",
       "  white-space: pre-wrap;\n",
       "}\n",
       "</style>\n",
       "<small>shape: (5, 11)</small><table border=\"1\" class=\"dataframe\"><thead><tr><th>blockNumber</th><th>transactionHash</th><th>blockHash</th><th>address</th><th>transactionIndex</th><th>logIndex</th><th>event</th><th>from</th><th>to</th><th>amount</th><th>timestamp</th></tr><tr><td>i64</td><td>str</td><td>str</td><td>str</td><td>i64</td><td>i64</td><td>str</td><td>str</td><td>str</td><td>f64</td><td>datetime[ns]</td></tr></thead><tbody><tr><td>11474827</td><td>&quot;a4e086ed94ef306c46355a8d7b11b3…</td><td>&quot;426394afbcba58706504b9758f1f7e…</td><td>&quot;0x77777feddddffc19ff86db637967…</td><td>60</td><td>80</td><td>&quot;Transfer&quot;</td><td>&quot;0x3efa30704d2b8bbac82130723037…</td><td>&quot;0x3238b53a910b69f5dbdb31786613…</td><td>1.626185898769037976e2</td><td>2020-12-18 03:52:06</td></tr><tr><td>11475464</td><td>&quot;8292c7b8393321097dfb1fbaa06449…</td><td>&quot;bd997e3440822fd74edc66914ae145…</td><td>&quot;0x77777feddddffc19ff86db637967…</td><td>119</td><td>317</td><td>&quot;Transfer&quot;</td><td>&quot;0x3efa30704d2b8bbac82130723037…</td><td>&quot;0xd5bb23d16ba5a13a91d60dd5f392…</td><td>2.543934624398110955e1</td><td>2020-12-18 06:13:48</td></tr><tr><td>11475638</td><td>&quot;2b6906f931a20743e0b2c75cdb06ef…</td><td>&quot;c951b3aa1e7a67a3373114c7e6da60…</td><td>&quot;0x77777feddddffc19ff86db637967…</td><td>143</td><td>170</td><td>&quot;Transfer&quot;</td><td>&quot;0x3efa30704d2b8bbac82130723037…</td><td>&quot;0x84ecb387395a1be65e133c75ff9e…</td><td>2.021910030772594524e1</td><td>2020-12-18 06:49:55</td></tr><tr><td>11475710</td><td>&quot;a1e70fff06d0aaf23218825f1d286b…</td><td>&quot;a7ec8b00a5f8e14c7f764e46a6bda1…</td><td>&quot;0x77777feddddffc19ff86db637967…</td><td>174</td><td>210</td><td>&quot;Transfer&quot;</td><td>&quot;0x3efa30704d2b8bbac82130723037…</td><td>&quot;0x531c036b76509604817222ab2905…</td><td>1.527050300324847143e1</td><td>2020-12-18 07:05:44</td></tr><tr><td>11475762</td><td>&quot;b03ed794c1ecd90d13fcae14c92bb2…</td><td>&quot;87b5cbd0c2408a7e467885001e0683…</td><td>&quot;0x77777feddddffc19ff86db637967…</td><td>109</td><td>94</td><td>&quot;Transfer&quot;</td><td>&quot;0x3efa30704d2b8bbac82130723037…</td><td>&quot;0x7d8d401a314f8b1bb0f5443d593e…</td><td>2.408670566365820420e1</td><td>2020-12-18 07:15:51</td></tr></tbody></table></div>"
      ],
      "text/plain": [
       "shape: (5, 11)\n",
       "┌───────────┬───────────┬───────────┬───────────┬───┬───────────┬───────────┬───────────┬──────────┐\n",
       "│ blockNumb ┆ transacti ┆ blockHash ┆ address   ┆ … ┆ from      ┆ to        ┆ amount    ┆ timestam │\n",
       "│ er        ┆ onHash    ┆ ---       ┆ ---       ┆   ┆ ---       ┆ ---       ┆ ---       ┆ p        │\n",
       "│ ---       ┆ ---       ┆ str       ┆ str       ┆   ┆ str       ┆ str       ┆ f64       ┆ ---      │\n",
       "│ i64       ┆ str       ┆           ┆           ┆   ┆           ┆           ┆           ┆ datetime │\n",
       "│           ┆           ┆           ┆           ┆   ┆           ┆           ┆           ┆ [ns]     │\n",
       "╞═══════════╪═══════════╪═══════════╪═══════════╪═══╪═══════════╪═══════════╪═══════════╪══════════╡\n",
       "│ 11474827  ┆ a4e086ed9 ┆ 426394afb ┆ 0x77777fe ┆ … ┆ 0x3efa307 ┆ 0x3238b53 ┆ 1.6261858 ┆ 2020-12- │\n",
       "│           ┆ 4ef306c46 ┆ cba587065 ┆ ddddffc19 ┆   ┆ 04d2b8bba ┆ a910b69f5 ┆ 987690379 ┆ 18       │\n",
       "│           ┆ 355a8d7b1 ┆ 04b9758f1 ┆ ff86db637 ┆   ┆ c82130723 ┆ dbdb31786 ┆ 76e2      ┆ 03:52:06 │\n",
       "│           ┆ 1b3…      ┆ f7e…      ┆ 967…      ┆   ┆ 037…      ┆ 613…      ┆           ┆          │\n",
       "│ 11475464  ┆ 8292c7b83 ┆ bd997e344 ┆ 0x77777fe ┆ … ┆ 0x3efa307 ┆ 0xd5bb23d ┆ 2.5439346 ┆ 2020-12- │\n",
       "│           ┆ 93321097d ┆ 0822fd74e ┆ ddddffc19 ┆   ┆ 04d2b8bba ┆ 16ba5a13a ┆ 243981109 ┆ 18       │\n",
       "│           ┆ fb1fbaa06 ┆ dc66914ae ┆ ff86db637 ┆   ┆ c82130723 ┆ 91d60dd5f ┆ 55e1      ┆ 06:13:48 │\n",
       "│           ┆ 449…      ┆ 145…      ┆ 967…      ┆   ┆ 037…      ┆ 392…      ┆           ┆          │\n",
       "│ 11475638  ┆ 2b6906f93 ┆ c951b3aa1 ┆ 0x77777fe ┆ … ┆ 0x3efa307 ┆ 0x84ecb38 ┆ 2.0219100 ┆ 2020-12- │\n",
       "│           ┆ 1a20743e0 ┆ e7a67a337 ┆ ddddffc19 ┆   ┆ 04d2b8bba ┆ 7395a1be6 ┆ 307725945 ┆ 18       │\n",
       "│           ┆ b2c75cdb0 ┆ 3114c7e6d ┆ ff86db637 ┆   ┆ c82130723 ┆ 5e133c75f ┆ 24e1      ┆ 06:49:55 │\n",
       "│           ┆ 6ef…      ┆ a60…      ┆ 967…      ┆   ┆ 037…      ┆ f9e…      ┆           ┆          │\n",
       "│ 11475710  ┆ a1e70fff0 ┆ a7ec8b00a ┆ 0x77777fe ┆ … ┆ 0x3efa307 ┆ 0x531c036 ┆ 1.5270503 ┆ 2020-12- │\n",
       "│           ┆ 6d0aaf232 ┆ 5f8e14c7f ┆ ddddffc19 ┆   ┆ 04d2b8bba ┆ b76509604 ┆ 003248471 ┆ 18       │\n",
       "│           ┆ 18825f1d2 ┆ 764e46a6b ┆ ff86db637 ┆   ┆ c82130723 ┆ 817222ab2 ┆ 43e1      ┆ 07:05:44 │\n",
       "│           ┆ 86b…      ┆ da1…      ┆ 967…      ┆   ┆ 037…      ┆ 905…      ┆           ┆          │\n",
       "│ 11475762  ┆ b03ed794c ┆ 87b5cbd0c ┆ 0x77777fe ┆ … ┆ 0x3efa307 ┆ 0x7d8d401 ┆ 2.4086705 ┆ 2020-12- │\n",
       "│           ┆ 1ecd90d13 ┆ 2408a7e46 ┆ ddddffc19 ┆   ┆ 04d2b8bba ┆ a314f8b1b ┆ 663658204 ┆ 18       │\n",
       "│           ┆ fcae14c92 ┆ 7885001e0 ┆ ff86db637 ┆   ┆ c82130723 ┆ b0f5443d5 ┆ 20e1      ┆ 07:15:51 │\n",
       "│           ┆ bb2…      ┆ 683…      ┆ 967…      ┆   ┆ 037…      ┆ 93e…      ┆           ┆          │\n",
       "└───────────┴───────────┴───────────┴───────────┴───┴───────────┴───────────┴───────────┴──────────┘"
      ]
     },
     "execution_count": 28,
     "metadata": {},
     "output_type": "execute_result"
    }
   ],
   "source": [
    "tornado_claiming_address = \"0x3efa30704d2b8bbac821307230376556cf8cc39e\"\n",
    "tornado_claim_pl = tornado_transfer_pl.filter(\n",
    "    pl.col(\"from\").eq(tornado_claiming_address))\n",
    "print('There are {} Claim events'.format(len(tornado_claim_pl)))\n",
    "tornado_claim_pl.head()"
   ]
  },
  {
   "cell_type": "code",
   "execution_count": 29,
   "metadata": {},
   "outputs": [],
   "source": [
    "file_path = os.path.realpath(os.path.join(\n",
    "    path_data, \"tornado_transfer.parquet\"))\n",
    "tornado_transfer_pl.write_parquet(file_path, compression=\"gzip\")\n",
    "\n",
    "file_path = os.path.realpath(os.path.join(path_data, \"tornado_claim.parquet\"))\n",
    "tornado_claim_pl.write_parquet(file_path, compression=\"gzip\")"
   ]
  },
  {
   "cell_type": "code",
   "execution_count": null,
   "metadata": {},
   "outputs": [],
   "source": [
    "del (tornado_transfer_pl)\n",
    "del (tornado_claim_pl)"
   ]
  },
  {
   "cell_type": "markdown",
   "metadata": {},
   "source": [
    "## Compound\n"
   ]
  },
  {
   "cell_type": "code",
   "execution_count": 30,
   "metadata": {},
   "outputs": [
    {
     "name": "stderr",
     "output_type": "stream",
     "text": [
      "Loading Transfer events: 100%|██████████| 2311077/2311077 [00:03<00:00, 744257.92it/s]\n"
     ]
    },
    {
     "name": "stdout",
     "output_type": "stream",
     "text": [
      "There are 2242826 Transfer events\n"
     ]
    },
    {
     "data": {
      "text/html": [
       "<div><style>\n",
       ".dataframe > thead > tr,\n",
       ".dataframe > tbody > tr {\n",
       "  text-align: right;\n",
       "  white-space: pre-wrap;\n",
       "}\n",
       "</style>\n",
       "<small>shape: (5, 11)</small><table border=\"1\" class=\"dataframe\"><thead><tr><th>blockNumber</th><th>transactionHash</th><th>blockHash</th><th>address</th><th>transactionIndex</th><th>logIndex</th><th>event</th><th>from</th><th>to</th><th>amount</th><th>timestamp</th></tr><tr><td>i64</td><td>str</td><td>str</td><td>str</td><td>i64</td><td>i64</td><td>str</td><td>str</td><td>str</td><td>f64</td><td>datetime[ns]</td></tr></thead><tbody><tr><td>9601359</td><td>&quot;e87715364f1733c893b4dca5c8e932…</td><td>&quot;4bd3833532f62c8a5a8d261c608994…</td><td>&quot;0xc00e94cb662c3520282e6f571721…</td><td>17</td><td>19</td><td>&quot;Transfer&quot;</td><td>&quot;0x0000000000000000000000000000…</td><td>&quot;0x1449e0687810bddd356ae6dd8778…</td><td>1.000000000000000186e7</td><td>2020-03-04 00:08:55</td></tr><tr><td>9619917</td><td>&quot;54b2f30e2f608c2857499b089da43a…</td><td>&quot;e9242498a30035fc33083d95b47425…</td><td>&quot;0xc00e94cb662c3520282e6f571721…</td><td>17</td><td>16</td><td>&quot;Transfer&quot;</td><td>&quot;0x1449e0687810bddd356ae6dd8778…</td><td>&quot;0x49964dca5c033b1ac8a58d550576…</td><td>1.000000000000000000e0</td><td>2020-03-06 20:45:00</td></tr><tr><td>9638547</td><td>&quot;45cec956c648054886dffbec746bb1…</td><td>&quot;786a86e598f817a331acf678049ebd…</td><td>&quot;0xc00e94cb662c3520282e6f571721…</td><td>150</td><td>148</td><td>&quot;Transfer&quot;</td><td>&quot;0x49964dca5c033b1ac8a58d550576…</td><td>&quot;0x1449e0687810bddd356ae6dd8778…</td><td>1.000000000000000000e0</td><td>2020-03-09 17:22:24</td></tr><tr><td>9639140</td><td>&quot;860c08440a96b2be4b3afcab50af1f…</td><td>&quot;01d118dcd83da3d4bfe75e98a2e7f6…</td><td>&quot;0xc00e94cb662c3520282e6f571721…</td><td>53</td><td>71</td><td>&quot;Transfer&quot;</td><td>&quot;0x1449e0687810bddd356ae6dd8778…</td><td>&quot;0x49964dca5c033b1ac8a58d550576…</td><td>1.000000000000000000e0</td><td>2020-03-09 19:29:51</td></tr><tr><td>9640293</td><td>&quot;59fe0334e75f6a5ff0d083f8e1a488…</td><td>&quot;2815012ebe951e6e877b582a5eaa5f…</td><td>&quot;0xc00e94cb662c3520282e6f571721…</td><td>27</td><td>48</td><td>&quot;Transfer&quot;</td><td>&quot;0x49964dca5c033b1ac8a58d550576…</td><td>&quot;0x73905a4d38b749be7d5674418ef3…</td><td>1.000000000000000000e0</td><td>2020-03-09 23:47:04</td></tr></tbody></table></div>"
      ],
      "text/plain": [
       "shape: (5, 11)\n",
       "┌───────────┬───────────┬───────────┬───────────┬───┬───────────┬───────────┬───────────┬──────────┐\n",
       "│ blockNumb ┆ transacti ┆ blockHash ┆ address   ┆ … ┆ from      ┆ to        ┆ amount    ┆ timestam │\n",
       "│ er        ┆ onHash    ┆ ---       ┆ ---       ┆   ┆ ---       ┆ ---       ┆ ---       ┆ p        │\n",
       "│ ---       ┆ ---       ┆ str       ┆ str       ┆   ┆ str       ┆ str       ┆ f64       ┆ ---      │\n",
       "│ i64       ┆ str       ┆           ┆           ┆   ┆           ┆           ┆           ┆ datetime │\n",
       "│           ┆           ┆           ┆           ┆   ┆           ┆           ┆           ┆ [ns]     │\n",
       "╞═══════════╪═══════════╪═══════════╪═══════════╪═══╪═══════════╪═══════════╪═══════════╪══════════╡\n",
       "│ 9601359   ┆ e87715364 ┆ 4bd383353 ┆ 0xc00e94c ┆ … ┆ 0x0000000 ┆ 0x1449e06 ┆ 1.0000000 ┆ 2020-03- │\n",
       "│           ┆ f1733c893 ┆ 2f62c8a5a ┆ b662c3520 ┆   ┆ 000000000 ┆ 87810bddd ┆ 000000001 ┆ 04       │\n",
       "│           ┆ b4dca5c8e ┆ 8d261c608 ┆ 282e6f571 ┆   ┆ 000000000 ┆ 356ae6dd8 ┆ 86e7      ┆ 00:08:55 │\n",
       "│           ┆ 932…      ┆ 994…      ┆ 721…      ┆   ┆ 000…      ┆ 778…      ┆           ┆          │\n",
       "│ 9619917   ┆ 54b2f30e2 ┆ e9242498a ┆ 0xc00e94c ┆ … ┆ 0x1449e06 ┆ 0x49964dc ┆ 1.0000000 ┆ 2020-03- │\n",
       "│           ┆ f608c2857 ┆ 30035fc33 ┆ b662c3520 ┆   ┆ 87810bddd ┆ a5c033b1a ┆ 000000000 ┆ 06       │\n",
       "│           ┆ 499b089da ┆ 083d95b47 ┆ 282e6f571 ┆   ┆ 356ae6dd8 ┆ c8a58d550 ┆ 00e0      ┆ 20:45:00 │\n",
       "│           ┆ 43a…      ┆ 425…      ┆ 721…      ┆   ┆ 778…      ┆ 576…      ┆           ┆          │\n",
       "│ 9638547   ┆ 45cec956c ┆ 786a86e59 ┆ 0xc00e94c ┆ … ┆ 0x49964dc ┆ 0x1449e06 ┆ 1.0000000 ┆ 2020-03- │\n",
       "│           ┆ 648054886 ┆ 8f817a331 ┆ b662c3520 ┆   ┆ a5c033b1a ┆ 87810bddd ┆ 000000000 ┆ 09       │\n",
       "│           ┆ dffbec746 ┆ acf678049 ┆ 282e6f571 ┆   ┆ c8a58d550 ┆ 356ae6dd8 ┆ 00e0      ┆ 17:22:24 │\n",
       "│           ┆ bb1…      ┆ ebd…      ┆ 721…      ┆   ┆ 576…      ┆ 778…      ┆           ┆          │\n",
       "│ 9639140   ┆ 860c08440 ┆ 01d118dcd ┆ 0xc00e94c ┆ … ┆ 0x1449e06 ┆ 0x49964dc ┆ 1.0000000 ┆ 2020-03- │\n",
       "│           ┆ a96b2be4b ┆ 83da3d4bf ┆ b662c3520 ┆   ┆ 87810bddd ┆ a5c033b1a ┆ 000000000 ┆ 09       │\n",
       "│           ┆ 3afcab50a ┆ e75e98a2e ┆ 282e6f571 ┆   ┆ 356ae6dd8 ┆ c8a58d550 ┆ 00e0      ┆ 19:29:51 │\n",
       "│           ┆ f1f…      ┆ 7f6…      ┆ 721…      ┆   ┆ 778…      ┆ 576…      ┆           ┆          │\n",
       "│ 9640293   ┆ 59fe0334e ┆ 2815012eb ┆ 0xc00e94c ┆ … ┆ 0x49964dc ┆ 0x73905a4 ┆ 1.0000000 ┆ 2020-03- │\n",
       "│           ┆ 75f6a5ff0 ┆ e951e6e87 ┆ b662c3520 ┆   ┆ a5c033b1a ┆ d38b749be ┆ 000000000 ┆ 09       │\n",
       "│           ┆ d083f8e1a ┆ 7b582a5ea ┆ 282e6f571 ┆   ┆ c8a58d550 ┆ 7d5674418 ┆ 00e0      ┆ 23:47:04 │\n",
       "│           ┆ 488…      ┆ a5f…      ┆ 721…      ┆   ┆ 576…      ┆ ef3…      ┆           ┆          │\n",
       "└───────────┴───────────┴───────────┴───────────┴───┴───────────┴───────────┴───────────┴──────────┘"
      ]
     },
     "execution_count": 30,
     "metadata": {},
     "output_type": "execute_result"
    }
   ],
   "source": [
    "protocol_name = 'compound'\n",
    "compound_transfer_pl = load_transfer(\n",
    "    protocol_name, amount_column=\"amount\")\n",
    "compound_transfer_pl = compound_transfer_pl.with_columns(pl.col('amount').truediv(\n",
    "    10**contract_settings[protocol_name]['decimals']).alias('amount'))\n",
    "print('There are {} Transfer events'.format(len(compound_transfer_pl)))\n",
    "compound_transfer_pl.head()"
   ]
  },
  {
   "cell_type": "code",
   "execution_count": null,
   "metadata": {},
   "outputs": [],
   "source": [
    "del (compound_transfer_pl)"
   ]
  },
  {
   "cell_type": "markdown",
   "metadata": {},
   "source": [
    "## WorldCoin\n",
    "\n",
    "It seems their airdrop was conducted on Optimism. Therefore, we'll leave it out of our analysis for now.\n"
   ]
  },
  {
   "cell_type": "code",
   "execution_count": 31,
   "metadata": {},
   "outputs": [
    {
     "name": "stderr",
     "output_type": "stream",
     "text": [
      "Loading Transfer events: 100%|██████████| 420451/420451 [00:00<00:00, 735869.74it/s]\n"
     ]
    },
    {
     "name": "stdout",
     "output_type": "stream",
     "text": [
      "There are 294481 Transfer events\n"
     ]
    },
    {
     "data": {
      "text/html": [
       "<div><style>\n",
       ".dataframe > thead > tr,\n",
       ".dataframe > tbody > tr {\n",
       "  text-align: right;\n",
       "  white-space: pre-wrap;\n",
       "}\n",
       "</style>\n",
       "<small>shape: (5, 11)</small><table border=\"1\" class=\"dataframe\"><thead><tr><th>blockNumber</th><th>transactionHash</th><th>blockHash</th><th>address</th><th>transactionIndex</th><th>logIndex</th><th>event</th><th>from</th><th>to</th><th>amount</th><th>timestamp</th></tr><tr><td>i64</td><td>str</td><td>str</td><td>str</td><td>i64</td><td>i64</td><td>str</td><td>str</td><td>str</td><td>f64</td><td>datetime[ns]</td></tr></thead><tbody><tr><td>17714705</td><td>&quot;e884a49cc0bad8a49bb6149dd7c185…</td><td>&quot;6633751c1cd5bbafa4ee87a3c1363d…</td><td>&quot;0x163f8c2467924be0ae7b5347228c…</td><td>38</td><td>427</td><td>&quot;Transfer&quot;</td><td>&quot;0x0000000000000000000000000000…</td><td>&quot;0x8155ef75b9ccaff88a6d247b2bea…</td><td>1.656555000000000238e9</td><td>2023-07-17 18:16:47</td></tr><tr><td>17714705</td><td>&quot;e884a49cc0bad8a49bb6149dd7c185…</td><td>&quot;6633751c1cd5bbafa4ee87a3c1363d…</td><td>&quot;0x163f8c2467924be0ae7b5347228c…</td><td>38</td><td>428</td><td>&quot;Transfer&quot;</td><td>&quot;0x0000000000000000000000000000…</td><td>&quot;0xfb7f100ed6793fcd63e6e9f201be…</td><td>1.650000000000000186e7</td><td>2023-07-17 18:16:47</td></tr><tr><td>17714705</td><td>&quot;e884a49cc0bad8a49bb6149dd7c185…</td><td>&quot;6633751c1cd5bbafa4ee87a3c1363d…</td><td>&quot;0x163f8c2467924be0ae7b5347228c…</td><td>38</td><td>429</td><td>&quot;Transfer&quot;</td><td>&quot;0x0000000000000000000000000000…</td><td>&quot;0xfb7f100ed6793fcd63e6e9f201be…</td><td>1.000000000000000186e7</td><td>2023-07-17 18:16:47</td></tr><tr><td>17714705</td><td>&quot;e884a49cc0bad8a49bb6149dd7c185…</td><td>&quot;6633751c1cd5bbafa4ee87a3c1363d…</td><td>&quot;0x163f8c2467924be0ae7b5347228c…</td><td>38</td><td>430</td><td>&quot;Transfer&quot;</td><td>&quot;0x0000000000000000000000000000…</td><td>&quot;0xfb7f100ed6793fcd63e6e9f201be…</td><td>4.000000000000000000e6</td><td>2023-07-17 18:16:47</td></tr><tr><td>17714705</td><td>&quot;e884a49cc0bad8a49bb6149dd7c185…</td><td>&quot;6633751c1cd5bbafa4ee87a3c1363d…</td><td>&quot;0x163f8c2467924be0ae7b5347228c…</td><td>38</td><td>431</td><td>&quot;Transfer&quot;</td><td>&quot;0x0000000000000000000000000000…</td><td>&quot;0xfb7f100ed6793fcd63e6e9f201be…</td><td>2.500000000000000466e6</td><td>2023-07-17 18:16:47</td></tr></tbody></table></div>"
      ],
      "text/plain": [
       "shape: (5, 11)\n",
       "┌───────────┬───────────┬───────────┬───────────┬───┬───────────┬───────────┬───────────┬──────────┐\n",
       "│ blockNumb ┆ transacti ┆ blockHash ┆ address   ┆ … ┆ from      ┆ to        ┆ amount    ┆ timestam │\n",
       "│ er        ┆ onHash    ┆ ---       ┆ ---       ┆   ┆ ---       ┆ ---       ┆ ---       ┆ p        │\n",
       "│ ---       ┆ ---       ┆ str       ┆ str       ┆   ┆ str       ┆ str       ┆ f64       ┆ ---      │\n",
       "│ i64       ┆ str       ┆           ┆           ┆   ┆           ┆           ┆           ┆ datetime │\n",
       "│           ┆           ┆           ┆           ┆   ┆           ┆           ┆           ┆ [ns]     │\n",
       "╞═══════════╪═══════════╪═══════════╪═══════════╪═══╪═══════════╪═══════════╪═══════════╪══════════╡\n",
       "│ 17714705  ┆ e884a49cc ┆ 6633751c1 ┆ 0x163f8c2 ┆ … ┆ 0x0000000 ┆ 0x8155ef7 ┆ 1.6565550 ┆ 2023-07- │\n",
       "│           ┆ 0bad8a49b ┆ cd5bbafa4 ┆ 467924be0 ┆   ┆ 000000000 ┆ 5b9ccaff8 ┆ 000000002 ┆ 17       │\n",
       "│           ┆ b6149dd7c ┆ ee87a3c13 ┆ ae7b53472 ┆   ┆ 000000000 ┆ 8a6d247b2 ┆ 38e9      ┆ 18:16:47 │\n",
       "│           ┆ 185…      ┆ 63d…      ┆ 28c…      ┆   ┆ 000…      ┆ bea…      ┆           ┆          │\n",
       "│ 17714705  ┆ e884a49cc ┆ 6633751c1 ┆ 0x163f8c2 ┆ … ┆ 0x0000000 ┆ 0xfb7f100 ┆ 1.6500000 ┆ 2023-07- │\n",
       "│           ┆ 0bad8a49b ┆ cd5bbafa4 ┆ 467924be0 ┆   ┆ 000000000 ┆ ed6793fcd ┆ 000000001 ┆ 17       │\n",
       "│           ┆ b6149dd7c ┆ ee87a3c13 ┆ ae7b53472 ┆   ┆ 000000000 ┆ 63e6e9f20 ┆ 86e7      ┆ 18:16:47 │\n",
       "│           ┆ 185…      ┆ 63d…      ┆ 28c…      ┆   ┆ 000…      ┆ 1be…      ┆           ┆          │\n",
       "│ 17714705  ┆ e884a49cc ┆ 6633751c1 ┆ 0x163f8c2 ┆ … ┆ 0x0000000 ┆ 0xfb7f100 ┆ 1.0000000 ┆ 2023-07- │\n",
       "│           ┆ 0bad8a49b ┆ cd5bbafa4 ┆ 467924be0 ┆   ┆ 000000000 ┆ ed6793fcd ┆ 000000001 ┆ 17       │\n",
       "│           ┆ b6149dd7c ┆ ee87a3c13 ┆ ae7b53472 ┆   ┆ 000000000 ┆ 63e6e9f20 ┆ 86e7      ┆ 18:16:47 │\n",
       "│           ┆ 185…      ┆ 63d…      ┆ 28c…      ┆   ┆ 000…      ┆ 1be…      ┆           ┆          │\n",
       "│ 17714705  ┆ e884a49cc ┆ 6633751c1 ┆ 0x163f8c2 ┆ … ┆ 0x0000000 ┆ 0xfb7f100 ┆ 4.0000000 ┆ 2023-07- │\n",
       "│           ┆ 0bad8a49b ┆ cd5bbafa4 ┆ 467924be0 ┆   ┆ 000000000 ┆ ed6793fcd ┆ 000000000 ┆ 17       │\n",
       "│           ┆ b6149dd7c ┆ ee87a3c13 ┆ ae7b53472 ┆   ┆ 000000000 ┆ 63e6e9f20 ┆ 00e6      ┆ 18:16:47 │\n",
       "│           ┆ 185…      ┆ 63d…      ┆ 28c…      ┆   ┆ 000…      ┆ 1be…      ┆           ┆          │\n",
       "│ 17714705  ┆ e884a49cc ┆ 6633751c1 ┆ 0x163f8c2 ┆ … ┆ 0x0000000 ┆ 0xfb7f100 ┆ 2.5000000 ┆ 2023-07- │\n",
       "│           ┆ 0bad8a49b ┆ cd5bbafa4 ┆ 467924be0 ┆   ┆ 000000000 ┆ ed6793fcd ┆ 000000004 ┆ 17       │\n",
       "│           ┆ b6149dd7c ┆ ee87a3c13 ┆ ae7b53472 ┆   ┆ 000000000 ┆ 63e6e9f20 ┆ 66e6      ┆ 18:16:47 │\n",
       "│           ┆ 185…      ┆ 63d…      ┆ 28c…      ┆   ┆ 000…      ┆ 1be…      ┆           ┆          │\n",
       "└───────────┴───────────┴───────────┴───────────┴───┴───────────┴───────────┴───────────┴──────────┘"
      ]
     },
     "execution_count": 31,
     "metadata": {},
     "output_type": "execute_result"
    }
   ],
   "source": [
    "protocol_name = 'worldcoin'\n",
    "worldcoin_transfer_pl = load_transfer(\n",
    "    protocol_name, amount_column=\"value\")\n",
    "worldcoin_transfer_pl = worldcoin_transfer_pl.with_columns(pl.col('amount').truediv(\n",
    "    10**contract_settings[protocol_name]['decimals']).alias('amount'))\n",
    "print('There are {} Transfer events'.format(len(worldcoin_transfer_pl)))\n",
    "worldcoin_transfer_pl.head()"
   ]
  },
  {
   "cell_type": "code",
   "execution_count": null,
   "metadata": {},
   "outputs": [],
   "source": [
    "del (worldcoin_transfer_pl)"
   ]
  },
  {
   "cell_type": "markdown",
   "metadata": {},
   "source": [
    "## Sushiswap\n"
   ]
  },
  {
   "cell_type": "code",
   "execution_count": 32,
   "metadata": {},
   "outputs": [
    {
     "name": "stderr",
     "output_type": "stream",
     "text": [
      "Loading Transfer events: 100%|██████████| 3791064/3791064 [00:05<00:00, 739283.03it/s]\n"
     ]
    },
    {
     "data": {
      "text/html": [
       "<div><style>\n",
       ".dataframe > thead > tr,\n",
       ".dataframe > tbody > tr {\n",
       "  text-align: right;\n",
       "  white-space: pre-wrap;\n",
       "}\n",
       "</style>\n",
       "<small>shape: (5, 11)</small><table border=\"1\" class=\"dataframe\"><thead><tr><th>blockNumber</th><th>transactionHash</th><th>blockHash</th><th>address</th><th>transactionIndex</th><th>logIndex</th><th>event</th><th>from</th><th>to</th><th>amount</th><th>timestamp</th></tr><tr><td>i64</td><td>str</td><td>str</td><td>str</td><td>i64</td><td>i64</td><td>str</td><td>str</td><td>str</td><td>f64</td><td>datetime[ns]</td></tr></thead><tbody><tr><td>10737828</td><td>&quot;19e0283e1f5d5e8e78fbf025f11ed6…</td><td>&quot;a0960869b7e7e16ab70604f534cc48…</td><td>&quot;0x6b3595068778dd592e39a122f4f5…</td><td>77</td><td>62</td><td>&quot;Transfer&quot;</td><td>&quot;0xc2edad668740f1aa35e4d8f227fb…</td><td>&quot;0xf83d9f34ba9fea4e0b6c55d56187…</td><td>0.000000000000000000e0</td><td>2020-08-26 18:46:51</td></tr><tr><td>10738166</td><td>&quot;5421ac6ff434c71994bd6654114c26…</td><td>&quot;677d54cfb31548f31ad7cb104a014b…</td><td>&quot;0x6b3595068778dd592e39a122f4f5…</td><td>159</td><td>228</td><td>&quot;Transfer&quot;</td><td>&quot;0xc2edad668740f1aa35e4d8f227fb…</td><td>&quot;0x1183634e867ff81231cbd0be2438…</td><td>0.000000000000000000e0</td><td>2020-08-26 19:57:08</td></tr><tr><td>10739217</td><td>&quot;5b9f121bb2db655d7bf4d3795cb7b1…</td><td>&quot;9201cfb2090fb43569d2659d024876…</td><td>&quot;0x6b3595068778dd592e39a122f4f5…</td><td>80</td><td>173</td><td>&quot;Transfer&quot;</td><td>&quot;0xc2edad668740f1aa35e4d8f227fb…</td><td>&quot;0x4c8397f58d62e3b8fd1fa47ca897…</td><td>0.000000000000000000e0</td><td>2020-08-26 23:51:41</td></tr><tr><td>10739805</td><td>&quot;9777592851d16cc6768ea8492ea70b…</td><td>&quot;a1a4178a2a89f64bd3d5a11b76d21c…</td><td>&quot;0x6b3595068778dd592e39a122f4f5…</td><td>159</td><td>195</td><td>&quot;Transfer&quot;</td><td>&quot;0xc2edad668740f1aa35e4d8f227fb…</td><td>&quot;0x1183634e867ff81231cbd0be2438…</td><td>0.000000000000000000e0</td><td>2020-08-27 02:07:38</td></tr><tr><td>10740034</td><td>&quot;3bf0dd3907db7e8fc0ca27c027ccd9…</td><td>&quot;442b87ced62d09e7ae83859049bd8c…</td><td>&quot;0x6b3595068778dd592e39a122f4f5…</td><td>99</td><td>36</td><td>&quot;Transfer&quot;</td><td>&quot;0xc2edad668740f1aa35e4d8f227fb…</td><td>&quot;0xc50eaaee441566b4ef4f1e3270d1…</td><td>0.000000000000000000e0</td><td>2020-08-27 02:58:20</td></tr></tbody></table></div>"
      ],
      "text/plain": [
       "shape: (5, 11)\n",
       "┌───────────┬───────────┬───────────┬───────────┬───┬───────────┬───────────┬───────────┬──────────┐\n",
       "│ blockNumb ┆ transacti ┆ blockHash ┆ address   ┆ … ┆ from      ┆ to        ┆ amount    ┆ timestam │\n",
       "│ er        ┆ onHash    ┆ ---       ┆ ---       ┆   ┆ ---       ┆ ---       ┆ ---       ┆ p        │\n",
       "│ ---       ┆ ---       ┆ str       ┆ str       ┆   ┆ str       ┆ str       ┆ f64       ┆ ---      │\n",
       "│ i64       ┆ str       ┆           ┆           ┆   ┆           ┆           ┆           ┆ datetime │\n",
       "│           ┆           ┆           ┆           ┆   ┆           ┆           ┆           ┆ [ns]     │\n",
       "╞═══════════╪═══════════╪═══════════╪═══════════╪═══╪═══════════╪═══════════╪═══════════╪══════════╡\n",
       "│ 10737828  ┆ 19e0283e1 ┆ a0960869b ┆ 0x6b35950 ┆ … ┆ 0xc2edad6 ┆ 0xf83d9f3 ┆ 0.0000000 ┆ 2020-08- │\n",
       "│           ┆ f5d5e8e78 ┆ 7e7e16ab7 ┆ 68778dd59 ┆   ┆ 68740f1aa ┆ 4ba9fea4e ┆ 000000000 ┆ 26       │\n",
       "│           ┆ fbf025f11 ┆ 0604f534c ┆ 2e39a122f ┆   ┆ 35e4d8f22 ┆ 0b6c55d56 ┆ 00e0      ┆ 18:46:51 │\n",
       "│           ┆ ed6…      ┆ c48…      ┆ 4f5…      ┆   ┆ 7fb…      ┆ 187…      ┆           ┆          │\n",
       "│ 10738166  ┆ 5421ac6ff ┆ 677d54cfb ┆ 0x6b35950 ┆ … ┆ 0xc2edad6 ┆ 0x1183634 ┆ 0.0000000 ┆ 2020-08- │\n",
       "│           ┆ 434c71994 ┆ 31548f31a ┆ 68778dd59 ┆   ┆ 68740f1aa ┆ e867ff812 ┆ 000000000 ┆ 26       │\n",
       "│           ┆ bd6654114 ┆ d7cb104a0 ┆ 2e39a122f ┆   ┆ 35e4d8f22 ┆ 31cbd0be2 ┆ 00e0      ┆ 19:57:08 │\n",
       "│           ┆ c26…      ┆ 14b…      ┆ 4f5…      ┆   ┆ 7fb…      ┆ 438…      ┆           ┆          │\n",
       "│ 10739217  ┆ 5b9f121bb ┆ 9201cfb20 ┆ 0x6b35950 ┆ … ┆ 0xc2edad6 ┆ 0x4c8397f ┆ 0.0000000 ┆ 2020-08- │\n",
       "│           ┆ 2db655d7b ┆ 90fb43569 ┆ 68778dd59 ┆   ┆ 68740f1aa ┆ 58d62e3b8 ┆ 000000000 ┆ 26       │\n",
       "│           ┆ f4d3795cb ┆ d2659d024 ┆ 2e39a122f ┆   ┆ 35e4d8f22 ┆ fd1fa47ca ┆ 00e0      ┆ 23:51:41 │\n",
       "│           ┆ 7b1…      ┆ 876…      ┆ 4f5…      ┆   ┆ 7fb…      ┆ 897…      ┆           ┆          │\n",
       "│ 10739805  ┆ 977759285 ┆ a1a4178a2 ┆ 0x6b35950 ┆ … ┆ 0xc2edad6 ┆ 0x1183634 ┆ 0.0000000 ┆ 2020-08- │\n",
       "│           ┆ 1d16cc676 ┆ a89f64bd3 ┆ 68778dd59 ┆   ┆ 68740f1aa ┆ e867ff812 ┆ 000000000 ┆ 27       │\n",
       "│           ┆ 8ea8492ea ┆ d5a11b76d ┆ 2e39a122f ┆   ┆ 35e4d8f22 ┆ 31cbd0be2 ┆ 00e0      ┆ 02:07:38 │\n",
       "│           ┆ 70b…      ┆ 21c…      ┆ 4f5…      ┆   ┆ 7fb…      ┆ 438…      ┆           ┆          │\n",
       "│ 10740034  ┆ 3bf0dd390 ┆ 442b87ced ┆ 0x6b35950 ┆ … ┆ 0xc2edad6 ┆ 0xc50eaae ┆ 0.0000000 ┆ 2020-08- │\n",
       "│           ┆ 7db7e8fc0 ┆ 62d09e7ae ┆ 68778dd59 ┆   ┆ 68740f1aa ┆ e441566b4 ┆ 000000000 ┆ 27       │\n",
       "│           ┆ ca27c027c ┆ 83859049b ┆ 2e39a122f ┆   ┆ 35e4d8f22 ┆ ef4f1e327 ┆ 00e0      ┆ 02:58:20 │\n",
       "│           ┆ cd9…      ┆ d8c…      ┆ 4f5…      ┆   ┆ 7fb…      ┆ 0d1…      ┆           ┆          │\n",
       "└───────────┴───────────┴───────────┴───────────┴───┴───────────┴───────────┴───────────┴──────────┘"
      ]
     },
     "execution_count": 32,
     "metadata": {},
     "output_type": "execute_result"
    }
   ],
   "source": [
    "protocol_name = 'sushi'\n",
    "data = load_dataset(protocol_name)\n",
    "sushi_transfer_df = Utils.transfer_to_dataframe(\n",
    "    data['Transfer'], amount_colum=\"value\", dataframe_func=pd.DataFrame)\n",
    "sushi_transfer_df['amount'] = sushi_transfer_df['amount'] / \\\n",
    "    10**contract_settings[protocol_name]['decimals']\n",
    "sushi_transfer_pl = pl.DataFrame(sushi_transfer_df)\n",
    "\n",
    "file_path = os.path.realpath(os.path.join(path_data, \"blocks.parquet.gz\"))\n",
    "blocks_pl = (pl.scan_parquet(file_path)\n",
    "             .select(['number', 'timestamp'])).collect()\n",
    "\n",
    "sushi_transfer_pl = (sushi_transfer_pl\n",
    "                     .join(blocks_pl, left_on='blockNumber', right_on='number')\n",
    "                     .sort(['blockNumber', 'transactionIndex', 'logIndex'])\n",
    "                     )\n",
    "\n",
    "sushi_transfer_pl.head()"
   ]
  },
  {
   "cell_type": "code",
   "execution_count": null,
   "metadata": {},
   "outputs": [],
   "source": [
    "sushi_transfer_pl.filter(pl.col('from').ne('0x0000000000000000000000000000000000000000'))[\n",
    "    'to'].value_counts().sort(by='count', descending=True).rows()"
   ]
  },
  {
   "cell_type": "code",
   "execution_count": null,
   "metadata": {},
   "outputs": [],
   "source": [
    "sushi_transfer_pl.head(100_000).filter(\n",
    "    pl.col('amount').ne(0))['from'].value_counts().sort(by='count', descending=True).rows()"
   ]
  },
  {
   "cell_type": "code",
   "execution_count": null,
   "metadata": {},
   "outputs": [],
   "source": [
    "sushi_transfer_pl.head(100_000)['from'].value_counts().sort(\n",
    "    by=\"count\", descending=True).rows()"
   ]
  },
  {
   "cell_type": "code",
   "execution_count": null,
   "metadata": {},
   "outputs": [],
   "source": [
    "del (sushi_transfer_pl)"
   ]
  },
  {
   "cell_type": "markdown",
   "metadata": {},
   "source": [
    "## Gemstone\n"
   ]
  },
  {
   "cell_type": "code",
   "execution_count": 36,
   "metadata": {},
   "outputs": [],
   "source": [
    "gemstone_decimals = Utils.load_contract_settings(\n",
    "    chain=\"zksync\")['gemstone-token']['decimals']"
   ]
  },
  {
   "cell_type": "code",
   "execution_count": 37,
   "metadata": {},
   "outputs": [],
   "source": [
    "import pandas as pd\n",
    "file_dir = os.path.realpath(os.path.join(\n",
    "    path_data, \"gemstone_transfer.csv.gz\"))\n",
    "\n",
    "gemstone_df = pd.read_csv(file_dir, sep=\";\")\n",
    "\n",
    "gemstone_transfer_pl = pl.DataFrame(gemstone_df)\n",
    "\n",
    "gemstone_transfer_pl = (gemstone_transfer_pl\n",
    "                        .with_columns([pl.col('timestamp').str.to_datetime(),\n",
    "                                       pl.col('amount').cast(pl.Int128).truediv(10**gemstone_decimals)])\n",
    "\n",
    "                        )\n",
    "\n",
    "file_dir = os.path.realpath(os.path.join(\n",
    "    path_data, \"gemstone_transfer.parquet\"))\n",
    "gemstone_transfer_pl.write_parquet(file_dir)"
   ]
  },
  {
   "cell_type": "code",
   "execution_count": 38,
   "metadata": {},
   "outputs": [
    {
     "data": {
      "text/html": [
       "<div><style>\n",
       ".dataframe > thead > tr,\n",
       ".dataframe > tbody > tr {\n",
       "  text-align: right;\n",
       "  white-space: pre-wrap;\n",
       "}\n",
       "</style>\n",
       "<small>shape: (5, 14)</small><table border=\"1\" class=\"dataframe\"><thead><tr><th>blockNumber</th><th>transactionHash</th><th>blockHash</th><th>address</th><th>transactionIndex</th><th>logIndex</th><th>l1BatchNumber</th><th>logType</th><th>removed</th><th>transactionLogIndex</th><th>eventType</th><th>account</th><th>amount</th><th>timestamp</th></tr><tr><td>i64</td><td>str</td><td>str</td><td>str</td><td>i64</td><td>i64</td><td>i64</td><td>f64</td><td>bool</td><td>i64</td><td>str</td><td>str</td><td>f64</td><td>datetime[μs]</td></tr></thead><tbody><tr><td>9375492</td><td>&quot;0x51af8cf28865e15bf9b4477cca97…</td><td>&quot;0x83df759223617c84cf807396c577…</td><td>&quot;0xdea197d9920a7472050013ad7e8d…</td><td>4</td><td>21</td><td>125859</td><td>null</td><td>false</td><td>21</td><td>&quot;Airdrop&quot;</td><td>&quot;0xc4d0ed974291ac94d6a3e1bf24eb…</td><td>2.600000000000000000e12</td><td>2023-07-23 21:50:55</td></tr><tr><td>9375497</td><td>&quot;0x922feb33a556d7b30216b3436af5…</td><td>&quot;0x9406fe83b04881c9e0e43c9ed91c…</td><td>&quot;0xdea197d9920a7472050013ad7e8d…</td><td>0</td><td>2</td><td>125859</td><td>null</td><td>false</td><td>2</td><td>&quot;Airdrop&quot;</td><td>&quot;0x5d500c14a1dcaf2842b60aa3a6ec…</td><td>0.000000000000000000e0</td><td>2023-07-23 21:50:55</td></tr><tr><td>9405853</td><td>&quot;0xc2b30ed87009983a595921b23633…</td><td>&quot;0x84eddbb62852998a69331ac3ad81…</td><td>&quot;0xdea197d9920a7472050013ad7e8d…</td><td>13</td><td>69</td><td>126502</td><td>null</td><td>false</td><td>69</td><td>&quot;Airdrop&quot;</td><td>&quot;0xebbb96033d8a1ad9c82c4a46161d…</td><td>0.000000000000000000e0</td><td>2023-07-24 06:22:34</td></tr><tr><td>9408062</td><td>&quot;0xc779972f9f0ea28a65bf2e8feb21…</td><td>&quot;0xdc82c8e9da70912928c2a42f44c0…</td><td>&quot;0xdea197d9920a7472050013ad7e8d…</td><td>14</td><td>98</td><td>126598</td><td>null</td><td>false</td><td>98</td><td>&quot;Airdrop&quot;</td><td>&quot;0xcad49f762b93e57a849a22c257d0…</td><td>2.558000000000000488e12</td><td>2023-07-24 06:59:45</td></tr><tr><td>9408086</td><td>&quot;0xc874d11506dae97aa206ed683e97…</td><td>&quot;0x30f95ad0ce09652d65234c492649…</td><td>&quot;0xdea197d9920a7472050013ad7e8d…</td><td>7</td><td>35</td><td>126599</td><td>null</td><td>false</td><td>35</td><td>&quot;Airdrop&quot;</td><td>&quot;0x9943320f763aa353ec9ec974d826…</td><td>2.518000000000000000e12</td><td>2023-07-24 07:00:09</td></tr></tbody></table></div>"
      ],
      "text/plain": [
       "shape: (5, 14)\n",
       "┌───────────┬───────────┬───────────┬───────────┬───┬───────────┬───────────┬───────────┬──────────┐\n",
       "│ blockNumb ┆ transacti ┆ blockHash ┆ address   ┆ … ┆ eventType ┆ account   ┆ amount    ┆ timestam │\n",
       "│ er        ┆ onHash    ┆ ---       ┆ ---       ┆   ┆ ---       ┆ ---       ┆ ---       ┆ p        │\n",
       "│ ---       ┆ ---       ┆ str       ┆ str       ┆   ┆ str       ┆ str       ┆ f64       ┆ ---      │\n",
       "│ i64       ┆ str       ┆           ┆           ┆   ┆           ┆           ┆           ┆ datetime │\n",
       "│           ┆           ┆           ┆           ┆   ┆           ┆           ┆           ┆ [μs]     │\n",
       "╞═══════════╪═══════════╪═══════════╪═══════════╪═══╪═══════════╪═══════════╪═══════════╪══════════╡\n",
       "│ 9375492   ┆ 0x51af8cf ┆ 0x83df759 ┆ 0xdea197d ┆ … ┆ Airdrop   ┆ 0xc4d0ed9 ┆ 2.6000000 ┆ 2023-07- │\n",
       "│           ┆ 28865e15b ┆ 223617c84 ┆ 9920a7472 ┆   ┆           ┆ 74291ac94 ┆ 000000000 ┆ 23       │\n",
       "│           ┆ f9b4477cc ┆ cf807396c ┆ 050013ad7 ┆   ┆           ┆ d6a3e1bf2 ┆ 00e12     ┆ 21:50:55 │\n",
       "│           ┆ a97…      ┆ 577…      ┆ e8d…      ┆   ┆           ┆ 4eb…      ┆           ┆          │\n",
       "│ 9375497   ┆ 0x922feb3 ┆ 0x9406fe8 ┆ 0xdea197d ┆ … ┆ Airdrop   ┆ 0x5d500c1 ┆ 0.0000000 ┆ 2023-07- │\n",
       "│           ┆ 3a556d7b3 ┆ 3b04881c9 ┆ 9920a7472 ┆   ┆           ┆ 4a1dcaf28 ┆ 000000000 ┆ 23       │\n",
       "│           ┆ 0216b3436 ┆ e0e43c9ed ┆ 050013ad7 ┆   ┆           ┆ 42b60aa3a ┆ 00e0      ┆ 21:50:55 │\n",
       "│           ┆ af5…      ┆ 91c…      ┆ e8d…      ┆   ┆           ┆ 6ec…      ┆           ┆          │\n",
       "│ 9405853   ┆ 0xc2b30ed ┆ 0x84eddbb ┆ 0xdea197d ┆ … ┆ Airdrop   ┆ 0xebbb960 ┆ 0.0000000 ┆ 2023-07- │\n",
       "│           ┆ 87009983a ┆ 62852998a ┆ 9920a7472 ┆   ┆           ┆ 33d8a1ad9 ┆ 000000000 ┆ 24       │\n",
       "│           ┆ 595921b23 ┆ 69331ac3a ┆ 050013ad7 ┆   ┆           ┆ c82c4a461 ┆ 00e0      ┆ 06:22:34 │\n",
       "│           ┆ 633…      ┆ d81…      ┆ e8d…      ┆   ┆           ┆ 61d…      ┆           ┆          │\n",
       "│ 9408062   ┆ 0xc779972 ┆ 0xdc82c8e ┆ 0xdea197d ┆ … ┆ Airdrop   ┆ 0xcad49f7 ┆ 2.5580000 ┆ 2023-07- │\n",
       "│           ┆ f9f0ea28a ┆ 9da709129 ┆ 9920a7472 ┆   ┆           ┆ 62b93e57a ┆ 000000004 ┆ 24       │\n",
       "│           ┆ 65bf2e8fe ┆ 28c2a42f4 ┆ 050013ad7 ┆   ┆           ┆ 849a22c25 ┆ 88e12     ┆ 06:59:45 │\n",
       "│           ┆ b21…      ┆ 4c0…      ┆ e8d…      ┆   ┆           ┆ 7d0…      ┆           ┆          │\n",
       "│ 9408086   ┆ 0xc874d11 ┆ 0x30f95ad ┆ 0xdea197d ┆ … ┆ Airdrop   ┆ 0x9943320 ┆ 2.5180000 ┆ 2023-07- │\n",
       "│           ┆ 506dae97a ┆ 0ce09652d ┆ 9920a7472 ┆   ┆           ┆ f763aa353 ┆ 000000000 ┆ 24       │\n",
       "│           ┆ a206ed683 ┆ 65234c492 ┆ 050013ad7 ┆   ┆           ┆ ec9ec974d ┆ 00e12     ┆ 07:00:09 │\n",
       "│           ┆ e97…      ┆ 649…      ┆ e8d…      ┆   ┆           ┆ 826…      ┆           ┆          │\n",
       "└───────────┴───────────┴───────────┴───────────┴───┴───────────┴───────────┴───────────┴──────────┘"
      ]
     },
     "execution_count": 38,
     "metadata": {},
     "output_type": "execute_result"
    }
   ],
   "source": [
    "file_dir = os.path.realpath(os.path.join(\n",
    "    path_data, \"gemstone_claim.csv.gz\"))\n",
    "\n",
    "gemstone_claim_df = pd.read_csv(file_dir, sep=\";\")\n",
    "\n",
    "gemstone_claim_pl = pl.DataFrame(gemstone_claim_df)\n",
    "\n",
    "gemstone_claim_pl = (gemstone_claim_pl\n",
    "                     .with_columns([pl.col('timestamp').str.to_datetime(),\n",
    "                                    pl.col('amount').cast(pl.Int128).truediv(10**gemstone_decimals)])\n",
    "                     .rename({\"user\": \"account\"})\n",
    "\n",
    "                     )\n",
    "\n",
    "file_dir = os.path.realpath(os.path.join(\n",
    "    path_data, \"gemstone_claim.parquet\"))\n",
    "gemstone_claim_pl.write_parquet(file_dir)\n",
    "gemstone_claim_pl.head()"
   ]
  },
  {
   "cell_type": "code",
   "execution_count": null,
   "metadata": {},
   "outputs": [],
   "source": [
    "del (gemstone_transfer_pl)\n",
    "del (gemstone_claim_pl)"
   ]
  },
  {
   "cell_type": "markdown",
   "metadata": {},
   "source": [
    "## Arbitrum\n"
   ]
  },
  {
   "cell_type": "code",
   "execution_count": 39,
   "metadata": {},
   "outputs": [],
   "source": [
    "from utils import events_dict, get_event_name"
   ]
  },
  {
   "cell_type": "code",
   "execution_count": 40,
   "metadata": {},
   "outputs": [],
   "source": [
    "transfer_event = \"0xddf252ad1be2c89b69c2b068fc378daa952ba7f163c4a11628f55a4df523b3ef\"\n",
    "can_claim_event = \"0x87aeeb9eda09a064caef63d00f62c15063631980bfc422ad7dd30c8a79f0cbb7\"\n",
    "has_claimed_event = \"0x8629b200ebe43db58ad688b85131d53251f3f3be4c14933b4641aeebacf1c08c\"\n",
    "arb_decimals = Utils.load_contract_settings(\n",
    "    chain=\"arbitrum\")['arbitrum-token']['decimals']"
   ]
  },
  {
   "cell_type": "code",
   "execution_count": 41,
   "metadata": {},
   "outputs": [],
   "source": [
    "column_order = ['block_number', 'block_hash', 'transaction_hash',\n",
    "                'transaction_index', 'log_index', 'address', 'data', 'topics', 'block_timestamp']\n",
    "schema = {'log_index': pl.Int64,\n",
    "          'transaction_hash': pl.String,\n",
    "          'transaction_index': pl.Int64,\n",
    "          'address': pl.String,\n",
    "          'data': pl.String,\n",
    "          'topics': pl.String,\n",
    "          'block_timestamp': pl.String,\n",
    "          'block_number': pl.Int64,\n",
    "          'block_hash': pl.String}\n",
    "\n",
    "\n",
    "def convert_arbitrum_to_parquet():\n",
    "    path_dir = os.path.realpath(os.path.join(\n",
    "        path_data, \"arbitrum\"))\n",
    "    filenames = [filename for filename in os.listdir(\n",
    "        path_dir) if filename.startswith('arb_') and filename.endswith('.csv.gz')]\n",
    "\n",
    "    for filename in tqdm(filenames):\n",
    "        df = pd.read_csv(path_dir+filename, compression='gzip')\n",
    "        new_filename = filename.replace('.csv.gz', '.parquet.gz')\n",
    "        df = pl.DataFrame(df[column_order], schema=schema)\n",
    "        df.write_parquet(\n",
    "            path_dir+new_filename, compression='gzip')"
   ]
  },
  {
   "cell_type": "code",
   "execution_count": 42,
   "metadata": {},
   "outputs": [
    {
     "data": {
      "text/html": [
       "<div><style>\n",
       ".dataframe > thead > tr,\n",
       ".dataframe > tbody > tr {\n",
       "  text-align: right;\n",
       "  white-space: pre-wrap;\n",
       "}\n",
       "</style>\n",
       "<small>shape: (5, 10)</small><table border=\"1\" class=\"dataframe\"><thead><tr><th>blockNumber</th><th>transactionHash</th><th>blockHash</th><th>address</th><th>transactionIndex</th><th>logIndex</th><th>from</th><th>to</th><th>amount</th><th>timestamp</th></tr><tr><td>i64</td><td>str</td><td>str</td><td>str</td><td>i64</td><td>i64</td><td>str</td><td>str</td><td>f64</td><td>datetime[μs, UTC]</td></tr></thead><tbody><tr><td>70398215</td><td>&quot;0x9cdbb4672b549c26d97cac29f9cd…</td><td>&quot;0xc7a696bb947210c89bd9225277e9…</td><td>&quot;0x912ce59144191c1204e64559fe82…</td><td>1</td><td>19</td><td>&quot;0x0000000000000000000000000000…</td><td>&quot;0x2b9acfd85440b7828db8e54694ee…</td><td>1.000000000000000000e10</td><td>2023-03-16 12:08:28 UTC</td></tr><tr><td>70506540</td><td>&quot;0xc815f5fae3a872f6fa01f734cb76…</td><td>&quot;0x52afee55f30d8530748dc763fc0e…</td><td>&quot;0x912ce59144191c1204e64559fe82…</td><td>3</td><td>2</td><td>&quot;0x2b9acfd85440b7828db8e54694ee…</td><td>&quot;0xf3fc178157fb3c87548baa86f9d2…</td><td>3.527046079000000477e9</td><td>2023-03-16 19:36:42 UTC</td></tr><tr><td>70506548</td><td>&quot;0x9dd86c966adf49238f88b17e5ce8…</td><td>&quot;0x388d2550781d158707366e09e90c…</td><td>&quot;0x912ce59144191c1204e64559fe82…</td><td>1</td><td>0</td><td>&quot;0x2b9acfd85440b7828db8e54694ee…</td><td>&quot;0xc24e24383120669512a336fb3b5b…</td><td>7.500000000000000000e8</td><td>2023-03-16 19:36:44 UTC</td></tr><tr><td>70506569</td><td>&quot;0x390910c3692b22cec48673b3bfa6…</td><td>&quot;0x34db953c6003b77b2cec25304908…</td><td>&quot;0x912ce59144191c1204e64559fe82…</td><td>1</td><td>0</td><td>&quot;0x2b9acfd85440b7828db8e54694ee…</td><td>&quot;0x148440e028565db5f790fa3fbdbb…</td><td>2.693961299000000477e9</td><td>2023-03-16 19:36:50 UTC</td></tr><tr><td>70506593</td><td>&quot;0xa301736bf5115fb13389ce2eccf8…</td><td>&quot;0xb6f232044a51c2ea0644bb49d658…</td><td>&quot;0x912ce59144191c1204e64559fe82…</td><td>2</td><td>0</td><td>&quot;0x2b9acfd85440b7828db8e54694ee…</td><td>&quot;0xdca2bd62cdcb5f742dd3f97e820d…</td><td>1.128340000000000000e8</td><td>2023-03-16 19:36:56 UTC</td></tr></tbody></table></div>"
      ],
      "text/plain": [
       "shape: (5, 10)\n",
       "┌───────────┬───────────┬───────────┬───────────┬───┬───────────┬───────────┬───────────┬──────────┐\n",
       "│ blockNumb ┆ transacti ┆ blockHash ┆ address   ┆ … ┆ from      ┆ to        ┆ amount    ┆ timestam │\n",
       "│ er        ┆ onHash    ┆ ---       ┆ ---       ┆   ┆ ---       ┆ ---       ┆ ---       ┆ p        │\n",
       "│ ---       ┆ ---       ┆ str       ┆ str       ┆   ┆ str       ┆ str       ┆ f64       ┆ ---      │\n",
       "│ i64       ┆ str       ┆           ┆           ┆   ┆           ┆           ┆           ┆ datetime │\n",
       "│           ┆           ┆           ┆           ┆   ┆           ┆           ┆           ┆ [μs,     │\n",
       "│           ┆           ┆           ┆           ┆   ┆           ┆           ┆           ┆ UTC]     │\n",
       "╞═══════════╪═══════════╪═══════════╪═══════════╪═══╪═══════════╪═══════════╪═══════════╪══════════╡\n",
       "│ 70398215  ┆ 0x9cdbb46 ┆ 0xc7a696b ┆ 0x912ce59 ┆ … ┆ 0x0000000 ┆ 0x2b9acfd ┆ 1.0000000 ┆ 2023-03- │\n",
       "│           ┆ 72b549c26 ┆ b947210c8 ┆ 144191c12 ┆   ┆ 000000000 ┆ 85440b782 ┆ 000000000 ┆ 16       │\n",
       "│           ┆ d97cac29f ┆ 9bd922527 ┆ 04e64559f ┆   ┆ 000000000 ┆ 8db8e5469 ┆ 00e10     ┆ 12:08:28 │\n",
       "│           ┆ 9cd…      ┆ 7e9…      ┆ e82…      ┆   ┆ 000…      ┆ 4ee…      ┆           ┆ UTC      │\n",
       "│ 70506540  ┆ 0xc815f5f ┆ 0x52afee5 ┆ 0x912ce59 ┆ … ┆ 0x2b9acfd ┆ 0xf3fc178 ┆ 3.5270460 ┆ 2023-03- │\n",
       "│           ┆ ae3a872f6 ┆ 5f30d8530 ┆ 144191c12 ┆   ┆ 85440b782 ┆ 157fb3c87 ┆ 790000004 ┆ 16       │\n",
       "│           ┆ fa01f734c ┆ 748dc763f ┆ 04e64559f ┆   ┆ 8db8e5469 ┆ 548baa86f ┆ 77e9      ┆ 19:36:42 │\n",
       "│           ┆ b76…      ┆ c0e…      ┆ e82…      ┆   ┆ 4ee…      ┆ 9d2…      ┆           ┆ UTC      │\n",
       "│ 70506548  ┆ 0x9dd86c9 ┆ 0x388d255 ┆ 0x912ce59 ┆ … ┆ 0x2b9acfd ┆ 0xc24e243 ┆ 7.5000000 ┆ 2023-03- │\n",
       "│           ┆ 66adf4923 ┆ 0781d1587 ┆ 144191c12 ┆   ┆ 85440b782 ┆ 831206695 ┆ 000000000 ┆ 16       │\n",
       "│           ┆ 8f88b17e5 ┆ 07366e09e ┆ 04e64559f ┆   ┆ 8db8e5469 ┆ 12a336fb3 ┆ 00e8      ┆ 19:36:44 │\n",
       "│           ┆ ce8…      ┆ 90c…      ┆ e82…      ┆   ┆ 4ee…      ┆ b5b…      ┆           ┆ UTC      │\n",
       "│ 70506569  ┆ 0x390910c ┆ 0x34db953 ┆ 0x912ce59 ┆ … ┆ 0x2b9acfd ┆ 0x148440e ┆ 2.6939612 ┆ 2023-03- │\n",
       "│           ┆ 3692b22ce ┆ c6003b77b ┆ 144191c12 ┆   ┆ 85440b782 ┆ 028565db5 ┆ 990000004 ┆ 16       │\n",
       "│           ┆ c48673b3b ┆ 2cec25304 ┆ 04e64559f ┆   ┆ 8db8e5469 ┆ f790fa3fb ┆ 77e9      ┆ 19:36:50 │\n",
       "│           ┆ fa6…      ┆ 908…      ┆ e82…      ┆   ┆ 4ee…      ┆ dbb…      ┆           ┆ UTC      │\n",
       "│ 70506593  ┆ 0xa301736 ┆ 0xb6f2320 ┆ 0x912ce59 ┆ … ┆ 0x2b9acfd ┆ 0xdca2bd6 ┆ 1.1283400 ┆ 2023-03- │\n",
       "│           ┆ bf5115fb1 ┆ 44a51c2ea ┆ 144191c12 ┆   ┆ 85440b782 ┆ 2cdcb5f74 ┆ 000000000 ┆ 16       │\n",
       "│           ┆ 3389ce2ec ┆ 0644bb49d ┆ 04e64559f ┆   ┆ 8db8e5469 ┆ 2dd3f97e8 ┆ 00e8      ┆ 19:36:56 │\n",
       "│           ┆ cf8…      ┆ 658…      ┆ e82…      ┆   ┆ 4ee…      ┆ 20d…      ┆           ┆ UTC      │\n",
       "└───────────┴───────────┴───────────┴───────────┴───┴───────────┴───────────┴───────────┴──────────┘"
      ]
     },
     "execution_count": 42,
     "metadata": {},
     "output_type": "execute_result"
    }
   ],
   "source": [
    "# Parse dataframe\n",
    "path_arbitrum = os.path.realpath(os.path.join(\n",
    "    path_data, \"arbitrum\"))\n",
    "file_path = os.path.realpath(os.path.join(path_arbitrum, \"arb_*.parquet.gz\"))\n",
    "arbitrum_transfer_pl = (\n",
    "    pl.scan_parquet(file_path)\n",
    "    .with_columns(\n",
    "        pl.col(\"topics\").str.replace_all('\\n', ',').map_elements(eval, pl.List(str)))\n",
    "    .with_columns(pl.col('topics').list.first().alias('topics_0'))\n",
    "    .filter(pl.col('topics_0').eq(transfer_event))\n",
    "    .with_columns(pl.format('0x{}', pl.col('topics').list.get(1).str.slice(-40)\n",
    "                            ).str.to_lowercase().alias('from'),\n",
    "                  pl.format('0x{}', pl.col('topics').list.get(2).str.slice(-40)\n",
    "                            ).str.to_lowercase().alias('to'),\n",
    "                  pl.col('data').str.replace('0x', '0x0').map_elements(\n",
    "        Utils.parse_amount, pl.Float64).truediv(10**arb_decimals).alias('amount'),\n",
    "        pl.col('block_timestamp').str.to_datetime().alias('timestamp')\n",
    "    )\n",
    "    .sort(by=['block_number', 'transaction_index', 'log_index'], descending=False)\n",
    "    .select([pl.col(\"block_number\").alias(\"blockNumber\"),\n",
    "             pl.col(\"transaction_hash\").alias(\"transactionHash\"),\n",
    "             pl.col(\"block_hash\").alias(\"blockHash\"),\n",
    "             pl.col('address'),\n",
    "             pl.col(\"transaction_index\").alias(\"transactionIndex\"),\n",
    "             pl.col(\"log_index\").alias(\"logIndex\"),\n",
    "             pl.col(\"from\"), pl.col(\"to\"),\n",
    "             pl.col(\"amount\"), pl.col(\"timestamp\"),\n",
    "             ])\n",
    "\n",
    ").collect(new_streaming=True)\n",
    "\n",
    "arbitrum_transfer_pl.head()"
   ]
  },
  {
   "cell_type": "code",
   "execution_count": 43,
   "metadata": {},
   "outputs": [
    {
     "data": {
      "text/html": [
       "<div><style>\n",
       ".dataframe > thead > tr,\n",
       ".dataframe > tbody > tr {\n",
       "  text-align: right;\n",
       "  white-space: pre-wrap;\n",
       "}\n",
       "</style>\n",
       "<small>shape: (5, 9)</small><table border=\"1\" class=\"dataframe\"><thead><tr><th>blockNumber</th><th>transactionHash</th><th>blockHash</th><th>address</th><th>transactionIndex</th><th>logIndex</th><th>account</th><th>amount</th><th>timestamp</th></tr><tr><td>i64</td><td>str</td><td>str</td><td>str</td><td>i64</td><td>i64</td><td>str</td><td>f64</td><td>datetime[μs, UTC]</td></tr></thead><tbody><tr><td>72829612</td><td>&quot;0x324f2ef46287a4f51a70e2a17ecd…</td><td>&quot;0x9d20099f9d7e10987a19756780d1…</td><td>&quot;0x67a24ce4321ab3af51c2d0a4801c…</td><td>1</td><td>2</td><td>&quot;0x27a1b27b2e8bfdd57a3049415dcf…</td><td>1.625000000000000227e3</td><td>2023-03-23 13:01:22 UTC</td></tr><tr><td>72829623</td><td>&quot;0x729e9b4a39d9e5026ec9b9312683…</td><td>&quot;0x0bcd46818b8b34140c3038f57cfa…</td><td>&quot;0x67a24ce4321ab3af51c2d0a4801c…</td><td>1</td><td>2</td><td>&quot;0x596aca03d432e0b869494c5e8258…</td><td>8.750000000000001137e2</td><td>2023-03-23 13:01:28 UTC</td></tr><tr><td>72829625</td><td>&quot;0x286a8e0045c41d70549cae998e56…</td><td>&quot;0x6ce3b6176babbdbdc17dc2dc15d8…</td><td>&quot;0x67a24ce4321ab3af51c2d0a4801c…</td><td>1</td><td>2</td><td>&quot;0x8d5614611aa239c680b4ff33a559…</td><td>1.125000000000000000e3</td><td>2023-03-23 13:01:34 UTC</td></tr><tr><td>72829626</td><td>&quot;0xc1c0b198a0fbd2d97579eff45c4a…</td><td>&quot;0x9bfa53b9fd7f6769b4d875b3d62e…</td><td>&quot;0x67a24ce4321ab3af51c2d0a4801c…</td><td>1</td><td>2</td><td>&quot;0x87cd88c7598b978116f20d62a12f…</td><td>8.750000000000001137e2</td><td>2023-03-23 13:01:34 UTC</td></tr><tr><td>72829626</td><td>&quot;0x62ddfe5b2375a2796097101f47d5…</td><td>&quot;0x9bfa53b9fd7f6769b4d875b3d62e…</td><td>&quot;0x67a24ce4321ab3af51c2d0a4801c…</td><td>2</td><td>5</td><td>&quot;0x0d2643aeb398e381612c4052c783…</td><td>1.625000000000000227e3</td><td>2023-03-23 13:01:34 UTC</td></tr></tbody></table></div>"
      ],
      "text/plain": [
       "shape: (5, 9)\n",
       "┌───────────┬───────────┬───────────┬───────────┬───┬──────────┬───────────┬───────────┬───────────┐\n",
       "│ blockNumb ┆ transacti ┆ blockHash ┆ address   ┆ … ┆ logIndex ┆ account   ┆ amount    ┆ timestamp │\n",
       "│ er        ┆ onHash    ┆ ---       ┆ ---       ┆   ┆ ---      ┆ ---       ┆ ---       ┆ ---       │\n",
       "│ ---       ┆ ---       ┆ str       ┆ str       ┆   ┆ i64      ┆ str       ┆ f64       ┆ datetime[ │\n",
       "│ i64       ┆ str       ┆           ┆           ┆   ┆          ┆           ┆           ┆ μs, UTC]  │\n",
       "╞═══════════╪═══════════╪═══════════╪═══════════╪═══╪══════════╪═══════════╪═══════════╪═══════════╡\n",
       "│ 72829612  ┆ 0x324f2ef ┆ 0x9d20099 ┆ 0x67a24ce ┆ … ┆ 2        ┆ 0x27a1b27 ┆ 1.6250000 ┆ 2023-03-2 │\n",
       "│           ┆ 46287a4f5 ┆ f9d7e1098 ┆ 4321ab3af ┆   ┆          ┆ b2e8bfdd5 ┆ 000000002 ┆ 3         │\n",
       "│           ┆ 1a70e2a17 ┆ 7a1975678 ┆ 51c2d0a48 ┆   ┆          ┆ 7a3049415 ┆ 27e3      ┆ 13:01:22  │\n",
       "│           ┆ ecd…      ┆ 0d1…      ┆ 01c…      ┆   ┆          ┆ dcf…      ┆           ┆ UTC       │\n",
       "│ 72829623  ┆ 0x729e9b4 ┆ 0x0bcd468 ┆ 0x67a24ce ┆ … ┆ 2        ┆ 0x596aca0 ┆ 8.7500000 ┆ 2023-03-2 │\n",
       "│           ┆ a39d9e502 ┆ 18b8b3414 ┆ 4321ab3af ┆   ┆          ┆ 3d432e0b8 ┆ 000000011 ┆ 3         │\n",
       "│           ┆ 6ec9b9312 ┆ 0c3038f57 ┆ 51c2d0a48 ┆   ┆          ┆ 69494c5e8 ┆ 37e2      ┆ 13:01:28  │\n",
       "│           ┆ 683…      ┆ cfa…      ┆ 01c…      ┆   ┆          ┆ 258…      ┆           ┆ UTC       │\n",
       "│ 72829625  ┆ 0x286a8e0 ┆ 0x6ce3b61 ┆ 0x67a24ce ┆ … ┆ 2        ┆ 0x8d56146 ┆ 1.1250000 ┆ 2023-03-2 │\n",
       "│           ┆ 045c41d70 ┆ 76babbdbd ┆ 4321ab3af ┆   ┆          ┆ 11aa239c6 ┆ 000000000 ┆ 3         │\n",
       "│           ┆ 549cae998 ┆ c17dc2dc1 ┆ 51c2d0a48 ┆   ┆          ┆ 80b4ff33a ┆ 00e3      ┆ 13:01:34  │\n",
       "│           ┆ e56…      ┆ 5d8…      ┆ 01c…      ┆   ┆          ┆ 559…      ┆           ┆ UTC       │\n",
       "│ 72829626  ┆ 0xc1c0b19 ┆ 0x9bfa53b ┆ 0x67a24ce ┆ … ┆ 2        ┆ 0x87cd88c ┆ 8.7500000 ┆ 2023-03-2 │\n",
       "│           ┆ 8a0fbd2d9 ┆ 9fd7f6769 ┆ 4321ab3af ┆   ┆          ┆ 7598b9781 ┆ 000000011 ┆ 3         │\n",
       "│           ┆ 7579eff45 ┆ b4d875b3d ┆ 51c2d0a48 ┆   ┆          ┆ 16f20d62a ┆ 37e2      ┆ 13:01:34  │\n",
       "│           ┆ c4a…      ┆ 62e…      ┆ 01c…      ┆   ┆          ┆ 12f…      ┆           ┆ UTC       │\n",
       "│ 72829626  ┆ 0x62ddfe5 ┆ 0x9bfa53b ┆ 0x67a24ce ┆ … ┆ 5        ┆ 0x0d2643a ┆ 1.6250000 ┆ 2023-03-2 │\n",
       "│           ┆ b2375a279 ┆ 9fd7f6769 ┆ 4321ab3af ┆   ┆          ┆ eb398e381 ┆ 000000002 ┆ 3         │\n",
       "│           ┆ 6097101f4 ┆ b4d875b3d ┆ 51c2d0a48 ┆   ┆          ┆ 612c4052c ┆ 27e3      ┆ 13:01:34  │\n",
       "│           ┆ 7d5…      ┆ 62e…      ┆ 01c…      ┆   ┆          ┆ 783…      ┆           ┆ UTC       │\n",
       "└───────────┴───────────┴───────────┴───────────┴───┴──────────┴───────────┴───────────┴───────────┘"
      ]
     },
     "execution_count": 43,
     "metadata": {},
     "output_type": "execute_result"
    }
   ],
   "source": [
    "file_path = os.path.realpath(os.path.join(\n",
    "    path_arbitrum, \"arbitrum_logs.parquet\"))\n",
    "arbitrum_has_claimed_pl = (\n",
    "    pl.scan_parquet(file_path)\n",
    "    .drop_nulls()\n",
    "    .with_columns(\n",
    "        pl.col(\"topics\").str.replace_all('\\n', ',').map_elements(eval, pl.List(str)))\n",
    "    .with_columns(pl.col('topics').list.first().alias('topics_0'))\n",
    "    .filter(pl.col('topics_0').eq(has_claimed_event))\n",
    "    .with_columns(\n",
    "        pl.format('0x{}', pl.col('topics').list.get(1).str.slice(-40)\n",
    "                  ).str.to_lowercase().alias('account'),\n",
    "        pl.col('data').str.replace('0x', '0x0').map_elements(\n",
    "            Utils.parse_amount, pl.Float64).truediv(10**arb_decimals).alias('amount'),\n",
    "        pl.col('block_timestamp').str.to_datetime().alias('timestamp')\n",
    "    )\n",
    "    .sort(by=['block_number', 'transaction_index', 'log_index'], descending=False)\n",
    "    .select([\n",
    "        pl.col(\"block_number\").alias(\"blockNumber\"),\n",
    "        pl.col(\"transaction_hash\").alias(\"transactionHash\"),\n",
    "        pl.col(\"block_hash\").alias(\"blockHash\"),\n",
    "        pl.col('address'),\n",
    "        pl.col(\"transaction_index\").alias(\"transactionIndex\"),\n",
    "        pl.col(\"log_index\").alias(\"logIndex\"),\n",
    "        pl.col(\"account\"),\n",
    "        pl.col(\"amount\"),\n",
    "        pl.col(\"timestamp\"),\n",
    "    ])\n",
    "\n",
    ").collect(new_streaming=True)\n",
    "\n",
    "arbitrum_has_claimed_pl.head()"
   ]
  },
  {
   "cell_type": "code",
   "execution_count": 44,
   "metadata": {},
   "outputs": [
    {
     "data": {
      "text/html": [
       "<div><style>\n",
       ".dataframe > thead > tr,\n",
       ".dataframe > tbody > tr {\n",
       "  text-align: right;\n",
       "  white-space: pre-wrap;\n",
       "}\n",
       "</style>\n",
       "<small>shape: (5, 9)</small><table border=\"1\" class=\"dataframe\"><thead><tr><th>blockNumber</th><th>transactionHash</th><th>blockHash</th><th>address</th><th>transactionIndex</th><th>logIndex</th><th>account</th><th>amount</th><th>timestamp</th></tr><tr><td>i64</td><td>str</td><td>str</td><td>str</td><td>i64</td><td>i64</td><td>str</td><td>f64</td><td>datetime[μs, UTC]</td></tr></thead><tbody><tr><td>70506697</td><td>&quot;0xa35d0da45119d9e8e6237cf257c1…</td><td>&quot;0x5e9666aef3c4defac03ce7c2f359…</td><td>&quot;0x67a24ce4321ab3af51c2d0a4801c…</td><td>2</td><td>3</td><td>&quot;0xb284bbf1864cbcfb2dff29671ff0…</td><td>6.250000000000000000e2</td><td>2023-03-16 19:37:23 UTC</td></tr><tr><td>70506697</td><td>&quot;0xa35d0da45119d9e8e6237cf257c1…</td><td>&quot;0x5e9666aef3c4defac03ce7c2f359…</td><td>&quot;0x67a24ce4321ab3af51c2d0a4801c…</td><td>2</td><td>4</td><td>&quot;0xf7b04982840d90a7634f41851815…</td><td>6.250000000000000000e2</td><td>2023-03-16 19:37:23 UTC</td></tr><tr><td>70506697</td><td>&quot;0xa35d0da45119d9e8e6237cf257c1…</td><td>&quot;0x5e9666aef3c4defac03ce7c2f359…</td><td>&quot;0x67a24ce4321ab3af51c2d0a4801c…</td><td>2</td><td>5</td><td>&quot;0x37b77b94ca23046f04a7fdd1af1a…</td><td>6.250000000000000000e2</td><td>2023-03-16 19:37:23 UTC</td></tr><tr><td>70506697</td><td>&quot;0xa35d0da45119d9e8e6237cf257c1…</td><td>&quot;0x5e9666aef3c4defac03ce7c2f359…</td><td>&quot;0x67a24ce4321ab3af51c2d0a4801c…</td><td>2</td><td>6</td><td>&quot;0x2686166054fd7de34872e1dc55aa…</td><td>6.250000000000000000e2</td><td>2023-03-16 19:37:23 UTC</td></tr><tr><td>70506697</td><td>&quot;0xa35d0da45119d9e8e6237cf257c1…</td><td>&quot;0x5e9666aef3c4defac03ce7c2f359…</td><td>&quot;0x67a24ce4321ab3af51c2d0a4801c…</td><td>2</td><td>7</td><td>&quot;0x0a988e9317bf7b73a4390522a995…</td><td>6.250000000000000000e2</td><td>2023-03-16 19:37:23 UTC</td></tr></tbody></table></div>"
      ],
      "text/plain": [
       "shape: (5, 9)\n",
       "┌───────────┬───────────┬───────────┬───────────┬───┬──────────┬───────────┬───────────┬───────────┐\n",
       "│ blockNumb ┆ transacti ┆ blockHash ┆ address   ┆ … ┆ logIndex ┆ account   ┆ amount    ┆ timestamp │\n",
       "│ er        ┆ onHash    ┆ ---       ┆ ---       ┆   ┆ ---      ┆ ---       ┆ ---       ┆ ---       │\n",
       "│ ---       ┆ ---       ┆ str       ┆ str       ┆   ┆ i64      ┆ str       ┆ f64       ┆ datetime[ │\n",
       "│ i64       ┆ str       ┆           ┆           ┆   ┆          ┆           ┆           ┆ μs, UTC]  │\n",
       "╞═══════════╪═══════════╪═══════════╪═══════════╪═══╪══════════╪═══════════╪═══════════╪═══════════╡\n",
       "│ 70506697  ┆ 0xa35d0da ┆ 0x5e9666a ┆ 0x67a24ce ┆ … ┆ 3        ┆ 0xb284bbf ┆ 6.2500000 ┆ 2023-03-1 │\n",
       "│           ┆ 45119d9e8 ┆ ef3c4defa ┆ 4321ab3af ┆   ┆          ┆ 1864cbcfb ┆ 000000000 ┆ 6         │\n",
       "│           ┆ e6237cf25 ┆ c03ce7c2f ┆ 51c2d0a48 ┆   ┆          ┆ 2dff29671 ┆ 00e2      ┆ 19:37:23  │\n",
       "│           ┆ 7c1…      ┆ 359…      ┆ 01c…      ┆   ┆          ┆ ff0…      ┆           ┆ UTC       │\n",
       "│ 70506697  ┆ 0xa35d0da ┆ 0x5e9666a ┆ 0x67a24ce ┆ … ┆ 4        ┆ 0xf7b0498 ┆ 6.2500000 ┆ 2023-03-1 │\n",
       "│           ┆ 45119d9e8 ┆ ef3c4defa ┆ 4321ab3af ┆   ┆          ┆ 2840d90a7 ┆ 000000000 ┆ 6         │\n",
       "│           ┆ e6237cf25 ┆ c03ce7c2f ┆ 51c2d0a48 ┆   ┆          ┆ 634f41851 ┆ 00e2      ┆ 19:37:23  │\n",
       "│           ┆ 7c1…      ┆ 359…      ┆ 01c…      ┆   ┆          ┆ 815…      ┆           ┆ UTC       │\n",
       "│ 70506697  ┆ 0xa35d0da ┆ 0x5e9666a ┆ 0x67a24ce ┆ … ┆ 5        ┆ 0x37b77b9 ┆ 6.2500000 ┆ 2023-03-1 │\n",
       "│           ┆ 45119d9e8 ┆ ef3c4defa ┆ 4321ab3af ┆   ┆          ┆ 4ca23046f ┆ 000000000 ┆ 6         │\n",
       "│           ┆ e6237cf25 ┆ c03ce7c2f ┆ 51c2d0a48 ┆   ┆          ┆ 04a7fdd1a ┆ 00e2      ┆ 19:37:23  │\n",
       "│           ┆ 7c1…      ┆ 359…      ┆ 01c…      ┆   ┆          ┆ f1a…      ┆           ┆ UTC       │\n",
       "│ 70506697  ┆ 0xa35d0da ┆ 0x5e9666a ┆ 0x67a24ce ┆ … ┆ 6        ┆ 0x2686166 ┆ 6.2500000 ┆ 2023-03-1 │\n",
       "│           ┆ 45119d9e8 ┆ ef3c4defa ┆ 4321ab3af ┆   ┆          ┆ 054fd7de3 ┆ 000000000 ┆ 6         │\n",
       "│           ┆ e6237cf25 ┆ c03ce7c2f ┆ 51c2d0a48 ┆   ┆          ┆ 4872e1dc5 ┆ 00e2      ┆ 19:37:23  │\n",
       "│           ┆ 7c1…      ┆ 359…      ┆ 01c…      ┆   ┆          ┆ 5aa…      ┆           ┆ UTC       │\n",
       "│ 70506697  ┆ 0xa35d0da ┆ 0x5e9666a ┆ 0x67a24ce ┆ … ┆ 7        ┆ 0x0a988e9 ┆ 6.2500000 ┆ 2023-03-1 │\n",
       "│           ┆ 45119d9e8 ┆ ef3c4defa ┆ 4321ab3af ┆   ┆          ┆ 317bf7b73 ┆ 000000000 ┆ 6         │\n",
       "│           ┆ e6237cf25 ┆ c03ce7c2f ┆ 51c2d0a48 ┆   ┆          ┆ a4390522a ┆ 00e2      ┆ 19:37:23  │\n",
       "│           ┆ 7c1…      ┆ 359…      ┆ 01c…      ┆   ┆          ┆ 995…      ┆           ┆ UTC       │\n",
       "└───────────┴───────────┴───────────┴───────────┴───┴──────────┴───────────┴───────────┴───────────┘"
      ]
     },
     "execution_count": 44,
     "metadata": {},
     "output_type": "execute_result"
    }
   ],
   "source": [
    "file_path = os.path.realpath(os.path.join(\n",
    "    path_arbitrum, \"arbitrum_logs.parquet\"))\n",
    "arbitrum_can_claim_pl = (\n",
    "    pl.scan_parquet(file_path)\n",
    "    .drop_nulls()\n",
    "    .with_columns(\n",
    "        pl.col(\"topics\").str.replace_all('\\n', ',').map_elements(eval, pl.List(str)))\n",
    "    .with_columns(pl.col('topics').list.first().alias('topics_0'))\n",
    "    .filter(pl.col('topics_0').eq(can_claim_event))\n",
    "    .with_columns(\n",
    "        pl.format('0x{}', pl.col('topics').list.get(1).str.slice(-40)\n",
    "                  ).str.to_lowercase().alias('account'),\n",
    "        pl.col('data').str.replace('0x', '0x0').map_elements(\n",
    "            Utils.parse_amount, pl.Float64).truediv(10**arb_decimals).alias('amount'),\n",
    "        pl.col('block_timestamp').str.to_datetime().alias('timestamp')\n",
    "    )\n",
    "    .sort(by=['block_number', 'transaction_index', 'log_index'], descending=False)\n",
    "    .select([\n",
    "        pl.col(\"block_number\").alias(\"blockNumber\"),\n",
    "        pl.col(\"transaction_hash\").alias(\"transactionHash\"),\n",
    "        pl.col(\"block_hash\").alias(\"blockHash\"),\n",
    "        pl.col('address'),\n",
    "        pl.col(\"transaction_index\").alias(\"transactionIndex\"),\n",
    "        pl.col(\"log_index\").alias(\"logIndex\"),\n",
    "        pl.col(\"account\"),\n",
    "        pl.col(\"amount\"),\n",
    "        pl.col(\"timestamp\"),\n",
    "    ])\n",
    "\n",
    ").collect(new_streaming=True)\n",
    "\n",
    "arbitrum_can_claim_pl.head()"
   ]
  },
  {
   "cell_type": "code",
   "execution_count": 45,
   "metadata": {},
   "outputs": [
    {
     "data": {
      "text/html": [
       "<div><style>\n",
       ".dataframe > thead > tr,\n",
       ".dataframe > tbody > tr {\n",
       "  text-align: right;\n",
       "  white-space: pre-wrap;\n",
       "}\n",
       "</style>\n",
       "<small>shape: (5, 4)</small><table border=\"1\" class=\"dataframe\"><thead><tr><th>topics_0</th><th>count</th><th>percent_count</th><th>event_name</th></tr><tr><td>str</td><td>u32</td><td>f64</td><td>str</td></tr></thead><tbody><tr><td>&quot;0x87aeeb9eda09a064caef63d00f62…</td><td>625143</td><td>5.173799911610330327e1</td><td>&quot;CanClaim&quot;</td></tr><tr><td>&quot;0x8629b200ebe43db58ad688b85131…</td><td>583137</td><td>4.826150431272066754e1</td><td>&quot;HasClaimed&quot;</td></tr><tr><td>&quot;0x8be0079c531659141344cd1fd0a4…</td><td>3</td><td>2.482855880147580860e-4</td><td>&quot;OwnershipTransferred&quot;</td></tr><tr><td>&quot;0xbea8251f76064f657f2a744bf08a…</td><td>2</td><td>1.655237253431720483e-4</td><td>&quot;SweepReceiverSet&quot;</td></tr><tr><td>&quot;0x7f221332ee403570bf4d61630b58…</td><td>1</td><td>8.276186267158602416e-5</td><td>&quot;Swept&quot;</td></tr></tbody></table></div>"
      ],
      "text/plain": [
       "shape: (5, 4)\n",
       "┌─────────────────────────────────┬────────┬─────────────────────────┬──────────────────────┐\n",
       "│ topics_0                        ┆ count  ┆ percent_count           ┆ event_name           │\n",
       "│ ---                             ┆ ---    ┆ ---                     ┆ ---                  │\n",
       "│ str                             ┆ u32    ┆ f64                     ┆ str                  │\n",
       "╞═════════════════════════════════╪════════╪═════════════════════════╪══════════════════════╡\n",
       "│ 0x87aeeb9eda09a064caef63d00f62… ┆ 625143 ┆ 5.173799911610330327e1  ┆ CanClaim             │\n",
       "│ 0x8629b200ebe43db58ad688b85131… ┆ 583137 ┆ 4.826150431272066754e1  ┆ HasClaimed           │\n",
       "│ 0x8be0079c531659141344cd1fd0a4… ┆ 3      ┆ 2.482855880147580860e-4 ┆ OwnershipTransferred │\n",
       "│ 0xbea8251f76064f657f2a744bf08a… ┆ 2      ┆ 1.655237253431720483e-4 ┆ SweepReceiverSet     │\n",
       "│ 0x7f221332ee403570bf4d61630b58… ┆ 1      ┆ 8.276186267158602416e-5 ┆ Swept                │\n",
       "└─────────────────────────────────┴────────┴─────────────────────────┴──────────────────────┘"
      ]
     },
     "execution_count": 45,
     "metadata": {},
     "output_type": "execute_result"
    }
   ],
   "source": [
    "# Distribution of events\n",
    "file_path = os.path.realpath(os.path.join(\n",
    "    path_arbitrum, \"arbitrum_logs.parquet\"))\n",
    "(\n",
    "    pl.scan_parquet(file_path)\n",
    "    .drop_nulls()\n",
    "    .with_columns(\n",
    "        pl.col(\"topics\").str.replace_all('\\n', ',').map_elements(eval, pl.List(str)))\n",
    "    .with_columns(pl.col('topics').list.first().alias('topics_0'))\n",
    "    .with_columns(\n",
    "        pl.format('0x{}', pl.col('topics').list.get(1).str.slice(-40)\n",
    "                  ).str.to_lowercase().alias('account'))\n",
    "    .group_by(\"topics_0\")\n",
    "    .agg([pl.len().alias(\"count\")])\n",
    "    .with_columns((pl.col(\"count\").truediv(pl.sum(\"count\"))).mul(100).alias(\"percent_count\"))\n",
    "    .sort(\"count\", descending=True)\n",
    "    .with_columns(pl.col(\"topics_0\").map_elements(lambda x: events_dict.get(x)['name'], pl.String).alias(\"event_name\"))\n",
    ").collect(new_streaming=True)"
   ]
  },
  {
   "cell_type": "code",
   "execution_count": 46,
   "metadata": {},
   "outputs": [],
   "source": [
    "file_path = os.path.realpath(os.path.join(\n",
    "    path_data, \"arbitrum_transfer.parquet\"))\n",
    "arbitrum_transfer_pl.write_parquet(file_path, compression=\"gzip\")\n",
    "\n",
    "file_path = os.path.realpath(os.path.join(\n",
    "    path_data, \"arbitrum_claim.parquet\"))\n",
    "arbitrum_has_claimed_pl.write_parquet(file_path, compression=\"gzip\")\n",
    "\n",
    "file_path = os.path.realpath(os.path.join(\n",
    "    path_data, \"arbitrum_can_claim.parquet\"))\n",
    "arbitrum_can_claim_pl.write_parquet(file_path, compression=\"gzip\")"
   ]
  },
  {
   "cell_type": "code",
   "execution_count": null,
   "metadata": {},
   "outputs": [],
   "source": [
    "del (arbitrum_transfer_pl)\n",
    "del (arbitrum_has_claimed_pl)\n",
    "del (arbitrum_can_claim_pl)"
   ]
  },
  {
   "cell_type": "markdown",
   "metadata": {},
   "source": [
    "## Optimism\n"
   ]
  },
  {
   "cell_type": "code",
   "execution_count": 9,
   "metadata": {},
   "outputs": [],
   "source": [
    "path_optimism = os.path.realpath(os.path.join(\n",
    "    path_data, \"optimism\"))\n",
    "transfer_event = \"0xddf252ad1be2c89b69c2b068fc378daa952ba7f163c4a11628f55a4df523b3ef\"\n",
    "has_claimed_event = \"0x4ec90e965519d92681267467f775ada5bd214aa92c0dc93d90a5e880ce9ed026\"\n",
    "op_decimals = Utils.load_contract_settings(\n",
    "    chain=\"optimism\")['optimism-token']['decimals']"
   ]
  },
  {
   "cell_type": "code",
   "execution_count": 10,
   "metadata": {},
   "outputs": [],
   "source": [
    "column_order = ['block_number', 'block_hash', 'transaction_hash',\n",
    "                'transaction_index', 'log_index', 'address', 'data', 'topics', 'block_timestamp']\n",
    "schema = {\n",
    "    'block_number': pl.Int64,\n",
    "    'block_hash': pl.String,\n",
    "    'transaction_hash': pl.String,\n",
    "    'transaction_index': pl.Int64,\n",
    "    'log_index': pl.Int64,\n",
    "    'address': pl.String,\n",
    "    'data': pl.String,\n",
    "    'topics': pl.String,\n",
    "    'block_timestamp': pl.String,\n",
    "}"
   ]
  },
  {
   "cell_type": "code",
   "execution_count": 49,
   "metadata": {},
   "outputs": [],
   "source": [
    "filepath = os.path.join(path_optimism, \"csv\", \"transfer\")\n",
    "\n",
    "# Combine dataframes and apply column selection and renaming\n",
    "df = (\n",
    "    pl.scan_csv(os.path.join(filepath, \"op_*_*.csv.gz\"),\n",
    "                schema_overrides=schema)\n",
    "    .select(column_order)\n",
    ").collect()\n",
    "\n",
    "# Write to Parquet with gzip compression\n",
    "output_path = os.path.join(path_optimism, \"optimism_transfer.parquet\")\n",
    "df.write_parquet(output_path, compression='gzip')"
   ]
  },
  {
   "cell_type": "code",
   "execution_count": null,
   "metadata": {},
   "outputs": [],
   "source": [
    "del (df)"
   ]
  },
  {
   "cell_type": "code",
   "execution_count": 51,
   "metadata": {},
   "outputs": [],
   "source": [
    "filepath = os.path.join(path_optimism, \"csv\", \"logs\")\n",
    "\n",
    "# Combine dataframes and apply column selection and renaming\n",
    "df = (\n",
    "    pl.scan_csv(os.path.join(filepath, \"op_logs_*_*.csv.gz\"),\n",
    "                schema_overrides=schema)\n",
    "    .select(column_order)\n",
    ").collect()\n",
    "\n",
    "# # Write to Parquet with gzip compression\n",
    "output_path = os.path.join(path_optimism, \"optimism_logs.parquet\")\n",
    "df.write_parquet(output_path, compression='gzip')"
   ]
  },
  {
   "cell_type": "code",
   "execution_count": null,
   "metadata": {},
   "outputs": [],
   "source": [
    "del (df)"
   ]
  },
  {
   "cell_type": "code",
   "execution_count": 11,
   "metadata": {},
   "outputs": [
    {
     "data": {
      "text/html": [
       "<div><style>\n",
       ".dataframe > thead > tr,\n",
       ".dataframe > tbody > tr {\n",
       "  text-align: right;\n",
       "  white-space: pre-wrap;\n",
       "}\n",
       "</style>\n",
       "<small>shape: (5, 10)</small><table border=\"1\" class=\"dataframe\"><thead><tr><th>blockNumber</th><th>transactionHash</th><th>blockHash</th><th>address</th><th>transactionIndex</th><th>logIndex</th><th>from</th><th>to</th><th>amount</th><th>timestamp</th></tr><tr><td>i64</td><td>str</td><td>str</td><td>str</td><td>i64</td><td>i64</td><td>str</td><td>str</td><td>f64</td><td>datetime[μs]</td></tr></thead><tbody><tr><td>6491116</td><td>&quot;0x28a8a9378512c4dfa2add2f09a59…</td><td>&quot;0x17c152d8fb7d0d328648011ab98b…</td><td>&quot;0x4200000000000000000000000000…</td><td>0</td><td>0</td><td>&quot;0x0000000000000000000000000000…</td><td>&quot;0xab1ef74d2c461e95f4b658ca1f94…</td><td>4.294967296000000000e9</td><td>2022-04-26 13:42:36</td></tr><tr><td>6493501</td><td>&quot;0x06704495a4fdba5e34653c457a73…</td><td>&quot;0x89ce6d9c5ad45bc51b7c5cf75e23…</td><td>&quot;0x4200000000000000000000000000…</td><td>0</td><td>0</td><td>&quot;0xab1ef74d2c461e95f4b658ca1f94…</td><td>&quot;0x2a82ae142b2e62cb7d10b55e323a…</td><td>1.460288880000000238e9</td><td>2022-04-26 14:24:08</td></tr><tr><td>6493505</td><td>&quot;0x6e5d78cb27a0d74e414b1c084712…</td><td>&quot;0x7c37e9b91ea95eea34e2f0ee897c…</td><td>&quot;0x4200000000000000000000000000…</td><td>0</td><td>0</td><td>&quot;0xab1ef74d2c461e95f4b658ca1f94…</td><td>&quot;0x2501c477d0a35545a387aa4a3eee…</td><td>1.288490189000000238e9</td><td>2022-04-26 14:24:08</td></tr><tr><td>6493508</td><td>&quot;0x63c2e58756ffebbee7e2d47dfdf2…</td><td>&quot;0x955bd5180f3520079f0a34754134…</td><td>&quot;0x4200000000000000000000000000…</td><td>0</td><td>0</td><td>&quot;0xab1ef74d2c461e95f4b658ca1f94…</td><td>&quot;0x1ea3e20a3d0f9cb2cc6e4a5ae8e8…</td><td>1.546188227000000238e9</td><td>2022-04-26 14:24:23</td></tr><tr><td>6509766</td><td>&quot;0x83aea77fd50bee86b7f00e4a395a…</td><td>&quot;0x58389db904829bf9ae0f63fa37c2…</td><td>&quot;0x4200000000000000000000000000…</td><td>0</td><td>1</td><td>&quot;0x1ea3e20a3d0f9cb2cc6e4a5ae8e8…</td><td>&quot;0xf348f595366fb381e705c28c3347…</td><td>1.817958000000000000e6</td><td>2022-04-26 18:12:55</td></tr></tbody></table></div>"
      ],
      "text/plain": [
       "shape: (5, 10)\n",
       "┌───────────┬───────────┬───────────┬───────────┬───┬───────────┬───────────┬───────────┬──────────┐\n",
       "│ blockNumb ┆ transacti ┆ blockHash ┆ address   ┆ … ┆ from      ┆ to        ┆ amount    ┆ timestam │\n",
       "│ er        ┆ onHash    ┆ ---       ┆ ---       ┆   ┆ ---       ┆ ---       ┆ ---       ┆ p        │\n",
       "│ ---       ┆ ---       ┆ str       ┆ str       ┆   ┆ str       ┆ str       ┆ f64       ┆ ---      │\n",
       "│ i64       ┆ str       ┆           ┆           ┆   ┆           ┆           ┆           ┆ datetime │\n",
       "│           ┆           ┆           ┆           ┆   ┆           ┆           ┆           ┆ [μs]     │\n",
       "╞═══════════╪═══════════╪═══════════╪═══════════╪═══╪═══════════╪═══════════╪═══════════╪══════════╡\n",
       "│ 6491116   ┆ 0x28a8a93 ┆ 0x17c152d ┆ 0x4200000 ┆ … ┆ 0x0000000 ┆ 0xab1ef74 ┆ 4.2949672 ┆ 2022-04- │\n",
       "│           ┆ 78512c4df ┆ 8fb7d0d32 ┆ 000000000 ┆   ┆ 000000000 ┆ d2c461e95 ┆ 960000000 ┆ 26       │\n",
       "│           ┆ a2add2f09 ┆ 8648011ab ┆ 000000000 ┆   ┆ 000000000 ┆ f4b658ca1 ┆ 00e9      ┆ 13:42:36 │\n",
       "│           ┆ a59…      ┆ 98b…      ┆ 000…      ┆   ┆ 000…      ┆ f94…      ┆           ┆          │\n",
       "│ 6493501   ┆ 0x0670449 ┆ 0x89ce6d9 ┆ 0x4200000 ┆ … ┆ 0xab1ef74 ┆ 0x2a82ae1 ┆ 1.4602888 ┆ 2022-04- │\n",
       "│           ┆ 5a4fdba5e ┆ c5ad45bc5 ┆ 000000000 ┆   ┆ d2c461e95 ┆ 42b2e62cb ┆ 800000002 ┆ 26       │\n",
       "│           ┆ 34653c457 ┆ 1b7c5cf75 ┆ 000000000 ┆   ┆ f4b658ca1 ┆ 7d10b55e3 ┆ 38e9      ┆ 14:24:08 │\n",
       "│           ┆ a73…      ┆ e23…      ┆ 000…      ┆   ┆ f94…      ┆ 23a…      ┆           ┆          │\n",
       "│ 6493505   ┆ 0x6e5d78c ┆ 0x7c37e9b ┆ 0x4200000 ┆ … ┆ 0xab1ef74 ┆ 0x2501c47 ┆ 1.2884901 ┆ 2022-04- │\n",
       "│           ┆ b27a0d74e ┆ 91ea95eea ┆ 000000000 ┆   ┆ d2c461e95 ┆ 7d0a35545 ┆ 890000002 ┆ 26       │\n",
       "│           ┆ 414b1c084 ┆ 34e2f0ee8 ┆ 000000000 ┆   ┆ f4b658ca1 ┆ a387aa4a3 ┆ 38e9      ┆ 14:24:08 │\n",
       "│           ┆ 712…      ┆ 97c…      ┆ 000…      ┆   ┆ f94…      ┆ eee…      ┆           ┆          │\n",
       "│ 6493508   ┆ 0x63c2e58 ┆ 0x955bd51 ┆ 0x4200000 ┆ … ┆ 0xab1ef74 ┆ 0x1ea3e20 ┆ 1.5461882 ┆ 2022-04- │\n",
       "│           ┆ 756ffebbe ┆ 80f352007 ┆ 000000000 ┆   ┆ d2c461e95 ┆ a3d0f9cb2 ┆ 270000002 ┆ 26       │\n",
       "│           ┆ e7e2d47df ┆ 9f0a34754 ┆ 000000000 ┆   ┆ f4b658ca1 ┆ cc6e4a5ae ┆ 38e9      ┆ 14:24:23 │\n",
       "│           ┆ df2…      ┆ 134…      ┆ 000…      ┆   ┆ f94…      ┆ 8e8…      ┆           ┆          │\n",
       "│ 6509766   ┆ 0x83aea77 ┆ 0x58389db ┆ 0x4200000 ┆ … ┆ 0x1ea3e20 ┆ 0xf348f59 ┆ 1.8179580 ┆ 2022-04- │\n",
       "│           ┆ fd50bee86 ┆ 904829bf9 ┆ 000000000 ┆   ┆ a3d0f9cb2 ┆ 5366fb381 ┆ 000000000 ┆ 26       │\n",
       "│           ┆ b7f00e4a3 ┆ ae0f63fa3 ┆ 000000000 ┆   ┆ cc6e4a5ae ┆ e705c28c3 ┆ 00e6      ┆ 18:12:55 │\n",
       "│           ┆ 95a…      ┆ 7c2…      ┆ 000…      ┆   ┆ 8e8…      ┆ 347…      ┆           ┆          │\n",
       "└───────────┴───────────┴───────────┴───────────┴───┴───────────┴───────────┴───────────┴──────────┘"
      ]
     },
     "execution_count": 11,
     "metadata": {},
     "output_type": "execute_result"
    }
   ],
   "source": [
    "# Parse dataframe\n",
    "file_path = os.path.realpath(os.path.join(\n",
    "    path_optimism, \"optimism_transfer.parquet\"))\n",
    "optimism_transfer_pl = (\n",
    "    pl.scan_parquet(file_path)\n",
    "    .with_columns(\n",
    "        pl.col(\"topics\").str.split(\",\"))\n",
    "    .with_columns(pl.col('topics').list.first().alias('topics_0'))\n",
    "    .filter(pl.col('topics_0').eq(transfer_event))\n",
    "    .with_columns(pl.format('0x{}', pl.col('topics').list.get(1).str.slice(-40)\n",
    "                            ).str.to_lowercase().alias('from'),\n",
    "                  pl.format('0x{}', pl.col('topics').list.get(2).str.slice(-40)\n",
    "                            ).str.to_lowercase().alias('to'),\n",
    "                  pl.col('data').str.replace('0x', '0x0').map_elements(\n",
    "        Utils.parse_amount, pl.Float64).truediv(10**op_decimals).alias('amount'),\n",
    "        pl.from_epoch(pl.col(\"block_timestamp\"),\n",
    "                      time_unit=\"s\").alias('timestamp'),\n",
    "    )\n",
    "    .sort(by=['block_number', 'transaction_index', 'log_index'], descending=False)\n",
    "    .select([pl.col(\"block_number\").alias(\"blockNumber\"),\n",
    "             pl.col(\"transaction_hash\").alias(\"transactionHash\"),\n",
    "             pl.col(\"block_hash\").alias(\"blockHash\"),\n",
    "             pl.col('address'),\n",
    "             pl.col(\"transaction_index\").alias(\"transactionIndex\"),\n",
    "             pl.col(\"log_index\").alias(\"logIndex\"),\n",
    "             pl.col(\"from\"), pl.col(\"to\"),\n",
    "             pl.col(\"amount\"),\n",
    "             pl.col(\"timestamp\"),\n",
    "             ])\n",
    "\n",
    ").collect(new_streaming=True)\n",
    "\n",
    "optimism_transfer_pl.head()"
   ]
  },
  {
   "cell_type": "code",
   "execution_count": 12,
   "metadata": {},
   "outputs": [
    {
     "name": "stdout",
     "output_type": "stream",
     "text": [
      "There are 160603 Claim events\n"
     ]
    },
    {
     "data": {
      "text/html": [
       "<div><style>\n",
       ".dataframe > thead > tr,\n",
       ".dataframe > tbody > tr {\n",
       "  text-align: right;\n",
       "  white-space: pre-wrap;\n",
       "}\n",
       "</style>\n",
       "<small>shape: (5, 10)</small><table border=\"1\" class=\"dataframe\"><thead><tr><th>blockNumber</th><th>transactionHash</th><th>blockHash</th><th>address</th><th>transactionIndex</th><th>logIndex</th><th>from</th><th>to</th><th>amount</th><th>timestamp</th></tr><tr><td>i64</td><td>str</td><td>str</td><td>str</td><td>i64</td><td>i64</td><td>str</td><td>str</td><td>f64</td><td>datetime[μs]</td></tr></thead><tbody><tr><td>9401026</td><td>&quot;0x8214c65e61dde4d78b2d7ab75446…</td><td>&quot;0x6e72940ebf84ca8def45f9df4b51…</td><td>&quot;0x4200000000000000000000000000…</td><td>0</td><td>0</td><td>&quot;0xfedfaf1a10335448b7fa0268f56d…</td><td>&quot;0xa902a27a7631d502e3ec17fc5d4c…</td><td>1.190267702142779171e3</td><td>2022-05-31 14:39:05</td></tr><tr><td>9401072</td><td>&quot;0x4e97db80526f12e9574d44e9de8f…</td><td>&quot;0x5619802f3a5090c8807cc6efe377…</td><td>&quot;0x4200000000000000000000000000…</td><td>0</td><td>0</td><td>&quot;0xfedfaf1a10335448b7fa0268f56d…</td><td>&quot;0x69dc97ad2dc7b179bff12a6eadab…</td><td>2.469358092149939239e3</td><td>2022-05-31 14:39:50</td></tr><tr><td>9401125</td><td>&quot;0x8d9c6fc69b82df0e54bb472a2102…</td><td>&quot;0x74c80acdabbf65b4d7134efef22d…</td><td>&quot;0x4200000000000000000000000000…</td><td>0</td><td>0</td><td>&quot;0xfedfaf1a10335448b7fa0268f56d…</td><td>&quot;0x68108902de3a5031197a6eb3b74b…</td><td>2.469358092149939239e3</td><td>2022-05-31 14:40:22</td></tr><tr><td>9401330</td><td>&quot;0x65073aa5512eca6027656aff99f6…</td><td>&quot;0xc28b199d12dd87138cb05441292b…</td><td>&quot;0x4200000000000000000000000000…</td><td>0</td><td>0</td><td>&quot;0xfedfaf1a10335448b7fa0268f56d…</td><td>&quot;0xe56e30a76f08e67a72dd9f360e42…</td><td>2.469358092149939239e3</td><td>2022-05-31 14:42:27</td></tr><tr><td>9401349</td><td>&quot;0xdb52a8c4285ee25f09e77ea78bd3…</td><td>&quot;0xc2f2444b0349a4b5152c4a79badb…</td><td>&quot;0x4200000000000000000000000000…</td><td>0</td><td>0</td><td>&quot;0xfedfaf1a10335448b7fa0268f56d…</td><td>&quot;0x992249d72114aac8ecae64245278…</td><td>9.620726743000000616e-8</td><td>2022-05-31 14:42:42</td></tr></tbody></table></div>"
      ],
      "text/plain": [
       "shape: (5, 10)\n",
       "┌───────────┬───────────┬───────────┬───────────┬───┬───────────┬───────────┬───────────┬──────────┐\n",
       "│ blockNumb ┆ transacti ┆ blockHash ┆ address   ┆ … ┆ from      ┆ to        ┆ amount    ┆ timestam │\n",
       "│ er        ┆ onHash    ┆ ---       ┆ ---       ┆   ┆ ---       ┆ ---       ┆ ---       ┆ p        │\n",
       "│ ---       ┆ ---       ┆ str       ┆ str       ┆   ┆ str       ┆ str       ┆ f64       ┆ ---      │\n",
       "│ i64       ┆ str       ┆           ┆           ┆   ┆           ┆           ┆           ┆ datetime │\n",
       "│           ┆           ┆           ┆           ┆   ┆           ┆           ┆           ┆ [μs]     │\n",
       "╞═══════════╪═══════════╪═══════════╪═══════════╪═══╪═══════════╪═══════════╪═══════════╪══════════╡\n",
       "│ 9401026   ┆ 0x8214c65 ┆ 0x6e72940 ┆ 0x4200000 ┆ … ┆ 0xfedfaf1 ┆ 0xa902a27 ┆ 1.1902677 ┆ 2022-05- │\n",
       "│           ┆ e61dde4d7 ┆ ebf84ca8d ┆ 000000000 ┆   ┆ a10335448 ┆ a7631d502 ┆ 021427791 ┆ 31       │\n",
       "│           ┆ 8b2d7ab75 ┆ ef45f9df4 ┆ 000000000 ┆   ┆ b7fa0268f ┆ e3ec17fc5 ┆ 71e3      ┆ 14:39:05 │\n",
       "│           ┆ 446…      ┆ b51…      ┆ 000…      ┆   ┆ 56d…      ┆ d4c…      ┆           ┆          │\n",
       "│ 9401072   ┆ 0x4e97db8 ┆ 0x5619802 ┆ 0x4200000 ┆ … ┆ 0xfedfaf1 ┆ 0x69dc97a ┆ 2.4693580 ┆ 2022-05- │\n",
       "│           ┆ 0526f12e9 ┆ f3a5090c8 ┆ 000000000 ┆   ┆ a10335448 ┆ d2dc7b179 ┆ 921499392 ┆ 31       │\n",
       "│           ┆ 574d44e9d ┆ 807cc6efe ┆ 000000000 ┆   ┆ b7fa0268f ┆ bff12a6ea ┆ 39e3      ┆ 14:39:50 │\n",
       "│           ┆ e8f…      ┆ 377…      ┆ 000…      ┆   ┆ 56d…      ┆ dab…      ┆           ┆          │\n",
       "│ 9401125   ┆ 0x8d9c6fc ┆ 0x74c80ac ┆ 0x4200000 ┆ … ┆ 0xfedfaf1 ┆ 0x6810890 ┆ 2.4693580 ┆ 2022-05- │\n",
       "│           ┆ 69b82df0e ┆ dabbf65b4 ┆ 000000000 ┆   ┆ a10335448 ┆ 2de3a5031 ┆ 921499392 ┆ 31       │\n",
       "│           ┆ 54bb472a2 ┆ d7134efef ┆ 000000000 ┆   ┆ b7fa0268f ┆ 197a6eb3b ┆ 39e3      ┆ 14:40:22 │\n",
       "│           ┆ 102…      ┆ 22d…      ┆ 000…      ┆   ┆ 56d…      ┆ 74b…      ┆           ┆          │\n",
       "│ 9401330   ┆ 0x65073aa ┆ 0xc28b199 ┆ 0x4200000 ┆ … ┆ 0xfedfaf1 ┆ 0xe56e30a ┆ 2.4693580 ┆ 2022-05- │\n",
       "│           ┆ 5512eca60 ┆ d12dd8713 ┆ 000000000 ┆   ┆ a10335448 ┆ 76f08e67a ┆ 921499392 ┆ 31       │\n",
       "│           ┆ 27656aff9 ┆ 8cb054412 ┆ 000000000 ┆   ┆ b7fa0268f ┆ 72dd9f360 ┆ 39e3      ┆ 14:42:27 │\n",
       "│           ┆ 9f6…      ┆ 92b…      ┆ 000…      ┆   ┆ 56d…      ┆ e42…      ┆           ┆          │\n",
       "│ 9401349   ┆ 0xdb52a8c ┆ 0xc2f2444 ┆ 0x4200000 ┆ … ┆ 0xfedfaf1 ┆ 0x992249d ┆ 9.6207267 ┆ 2022-05- │\n",
       "│           ┆ 4285ee25f ┆ b0349a4b5 ┆ 000000000 ┆   ┆ a10335448 ┆ 72114aac8 ┆ 430000006 ┆ 31       │\n",
       "│           ┆ 09e77ea78 ┆ 152c4a79b ┆ 000000000 ┆   ┆ b7fa0268f ┆ ecae64245 ┆ 16e-8     ┆ 14:42:42 │\n",
       "│           ┆ bd3…      ┆ adb…      ┆ 000…      ┆   ┆ 56d…      ┆ 278…      ┆           ┆          │\n",
       "└───────────┴───────────┴───────────┴───────────┴───┴───────────┴───────────┴───────────┴──────────┘"
      ]
     },
     "execution_count": 12,
     "metadata": {},
     "output_type": "execute_result"
    }
   ],
   "source": [
    "optimism_claiming_address = \"0xfedfaf1a10335448b7fa0268f56d2b44dbd357de\"\n",
    "op_gnosis_safe = \"0x2a82ae142b2e62cb7d10b55e323acb1cab663a26\"\n",
    "optimism_claim_pl = optimism_transfer_pl.filter(\n",
    "    pl.col(\"from\").eq(optimism_claiming_address) & pl.col(\"to\").ne(op_gnosis_safe))\n",
    "print('There are {} Claim events'.format(len(optimism_claim_pl)))\n",
    "optimism_claim_pl.head()"
   ]
  },
  {
   "cell_type": "code",
   "execution_count": 13,
   "metadata": {},
   "outputs": [],
   "source": [
    "file_path = os.path.realpath(os.path.join(\n",
    "    path_data, \"optimism_transfer.parquet\"))\n",
    "optimism_transfer_pl.write_parquet(file_path, compression=\"gzip\")\n",
    "\n",
    "file_path = os.path.realpath(os.path.join(\n",
    "    path_data, \"optimism_claim.parquet\"))\n",
    "optimism_claim_pl.write_parquet(file_path, compression=\"gzip\")"
   ]
  },
  {
   "cell_type": "code",
   "execution_count": null,
   "metadata": {},
   "outputs": [],
   "source": [
    "del (optimism_transfer_pl)\n",
    "del (optimism_claim_pl)"
   ]
  }
 ],
 "metadata": {
  "kernelspec": {
   "display_name": "base",
   "language": "python",
   "name": "python3"
  },
  "language_info": {
   "codemirror_mode": {
    "name": "ipython",
    "version": 3
   },
   "file_extension": ".py",
   "mimetype": "text/x-python",
   "name": "python",
   "nbconvert_exporter": "python",
   "pygments_lexer": "ipython3",
   "version": "3.12.2"
  },
  "orig_nbformat": 4
 },
 "nbformat": 4,
 "nbformat_minor": 2
}

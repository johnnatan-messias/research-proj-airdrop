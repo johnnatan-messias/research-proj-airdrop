{
 "cells": [
  {
   "cell_type": "code",
   "execution_count": 1,
   "metadata": {},
   "outputs": [],
   "source": [
    "# Install the dune-client package if you haven't already\n",
    "# pip install dune-client\n",
    "\n",
    "from dune_client.client import DuneClient\n",
    "\n",
    "import polars as pl\n",
    "from io import StringIO\n",
    "\n",
    "import logging\n",
    "\n",
    "# Set the logging level for the dune_client module to WARNING to suppress INFO logs\n",
    "logging.getLogger('dune_client').setLevel(logging.WARNING)"
   ]
  },
  {
   "cell_type": "code",
   "execution_count": 2,
   "metadata": {},
   "outputs": [],
   "source": [
    "import sys\n",
    "import os\n",
    "code_dir = os.path.realpath(os.path.join(os.getcwd(), \"..\", \"src\"))\n",
    "data_dir = os.path.realpath(os.path.join(os.getcwd(), \"..\", \"data\"))\n",
    "\n",
    "sys.path.append(code_dir)"
   ]
  },
  {
   "cell_type": "code",
   "execution_count": 3,
   "metadata": {},
   "outputs": [],
   "source": [
    "API_KEY = os.environ[\"DUNE_API\"]\n",
    "\n",
    "# Initialize the Dune client\n",
    "dune = DuneClient(API_KEY)"
   ]
  },
  {
   "cell_type": "markdown",
   "metadata": {},
   "source": [
    "## Gathering Centralized Exchange (CEXs) from Mainnet\n",
    "\n",
    "CEX addresses gathered from https://dune.com/queries/5095617\n"
   ]
  },
  {
   "cell_type": "code",
   "execution_count": null,
   "metadata": {},
   "outputs": [
    {
     "data": {
      "text/html": [
       "<div><style>\n",
       ".dataframe > thead > tr,\n",
       ".dataframe > tbody > tr {\n",
       "  text-align: right;\n",
       "  white-space: pre-wrap;\n",
       "}\n",
       "</style>\n",
       "<small>shape: (5, 3)</small><table border=\"1\" class=\"dataframe\"><thead><tr><th>address</th><th>name</th><th>distinct_name</th></tr><tr><td>str</td><td>str</td><td>str</td></tr></thead><tbody><tr><td>&quot;0x777f415324d56e1d54fa832902d8…</td><td>&quot;1xBet&quot;</td><td>&quot;1xBet 1&quot;</td></tr><tr><td>&quot;0xba3801847037ffe8de609ccfdd8e…</td><td>&quot;1xBet&quot;</td><td>&quot;1xBet 2&quot;</td></tr><tr><td>&quot;0x5c89724967d76a4f966b01314035…</td><td>&quot;1xBet&quot;</td><td>&quot;1xBet 3&quot;</td></tr><tr><td>&quot;0x80edadf751946a71a0131a495bb7…</td><td>&quot;AAX&quot;</td><td>&quot;AAX 1&quot;</td></tr><tr><td>&quot;0xc25dc289edce5227cf15d4253982…</td><td>&quot;AAX&quot;</td><td>&quot;AAX 2&quot;</td></tr></tbody></table></div>"
      ],
      "text/plain": [
       "shape: (5, 3)\n",
       "┌─────────────────────────────────┬───────┬───────────────┐\n",
       "│ address                         ┆ name  ┆ distinct_name │\n",
       "│ ---                             ┆ ---   ┆ ---           │\n",
       "│ str                             ┆ str   ┆ str           │\n",
       "╞═════════════════════════════════╪═══════╪═══════════════╡\n",
       "│ 0x777f415324d56e1d54fa832902d8… ┆ 1xBet ┆ 1xBet 1       │\n",
       "│ 0xba3801847037ffe8de609ccfdd8e… ┆ 1xBet ┆ 1xBet 2       │\n",
       "│ 0x5c89724967d76a4f966b01314035… ┆ 1xBet ┆ 1xBet 3       │\n",
       "│ 0x80edadf751946a71a0131a495bb7… ┆ AAX   ┆ AAX 1         │\n",
       "│ 0xc25dc289edce5227cf15d4253982… ┆ AAX   ┆ AAX 2         │\n",
       "└─────────────────────────────────┴───────┴───────────────┘"
      ]
     },
     "execution_count": 4,
     "metadata": {},
     "output_type": "execute_result"
    }
   ],
   "source": [
    "# Define the query ID\n",
    "QUERY_ID = 5095617\n",
    "response = dune.download_csv(QUERY_ID)\n",
    "data = response.data.read().decode()\n",
    "df = pl.read_csv(StringIO(data))\n",
    "\n",
    "df = (df\n",
    "      .with_columns(\n",
    "          pl.col(\"address\").str.to_lowercase())\n",
    "      .sort(by=\"cex_name\")\n",
    "      .drop([\"added_by\", \"added_date\"])\n",
    "      .rename({\"cex_name\": \"name\"})\n",
    "      )\n",
    "\n",
    "file_dir = os.path.join(data_dir, \"cex_addresses.csv\")\n",
    "df.write_csv(file_dir)\n",
    "\n",
    "df.head()"
   ]
  },
  {
   "cell_type": "markdown",
   "metadata": {},
   "source": [
    "## Gathering Decentralized Exchange (DEXs) from Mainnet\n",
    "\n",
    "DEX addresses gathered from https://dune.com/queries/5090128\n"
   ]
  },
  {
   "cell_type": "code",
   "execution_count": 5,
   "metadata": {},
   "outputs": [
    {
     "data": {
      "text/html": [
       "<div><style>\n",
       ".dataframe > thead > tr,\n",
       ".dataframe > tbody > tr {\n",
       "  text-align: right;\n",
       "  white-space: pre-wrap;\n",
       "}\n",
       "</style>\n",
       "<small>shape: (5, 4)</small><table border=\"1\" class=\"dataframe\"><thead><tr><th>blockchain</th><th>address</th><th>name</th><th>distinct_name</th></tr><tr><td>str</td><td>str</td><td>str</td><td>str</td></tr></thead><tbody><tr><td>&quot;arbitrum&quot;</td><td>&quot;0x1111111254eeb25477b68fb85ed9…</td><td>&quot;1inch&quot;</td><td>&quot;AggregationRouterV5&quot;</td></tr><tr><td>&quot;arbitrum&quot;</td><td>&quot;0x11111112542d85b3ef69ae05771c…</td><td>&quot;1inch&quot;</td><td>&quot;AggregationRouterV3&quot;</td></tr><tr><td>&quot;arbitrum&quot;</td><td>&quot;0x1111111254fb6c44bac0bed2854e…</td><td>&quot;1inch&quot;</td><td>&quot;AggregationRouterV4&quot;</td></tr><tr><td>&quot;arbitrum&quot;</td><td>&quot;0x0cae51e1032e8461f4806e26332c…</td><td>&quot;AnySwap&quot;</td><td>&quot;AnyswapV3Router&quot;</td></tr><tr><td>&quot;arbitrum&quot;</td><td>&quot;0x6947a425453d04305520e612f0cb…</td><td>&quot;Arbswap&quot;</td><td>&quot;ArbswapSmartRouter&quot;</td></tr></tbody></table></div>"
      ],
      "text/plain": [
       "shape: (5, 4)\n",
       "┌────────────┬─────────────────────────────────┬─────────┬─────────────────────┐\n",
       "│ blockchain ┆ address                         ┆ name    ┆ distinct_name       │\n",
       "│ ---        ┆ ---                             ┆ ---     ┆ ---                 │\n",
       "│ str        ┆ str                             ┆ str     ┆ str                 │\n",
       "╞════════════╪═════════════════════════════════╪═════════╪═════════════════════╡\n",
       "│ arbitrum   ┆ 0x1111111254eeb25477b68fb85ed9… ┆ 1inch   ┆ AggregationRouterV5 │\n",
       "│ arbitrum   ┆ 0x11111112542d85b3ef69ae05771c… ┆ 1inch   ┆ AggregationRouterV3 │\n",
       "│ arbitrum   ┆ 0x1111111254fb6c44bac0bed2854e… ┆ 1inch   ┆ AggregationRouterV4 │\n",
       "│ arbitrum   ┆ 0x0cae51e1032e8461f4806e26332c… ┆ AnySwap ┆ AnyswapV3Router     │\n",
       "│ arbitrum   ┆ 0x6947a425453d04305520e612f0cb… ┆ Arbswap ┆ ArbswapSmartRouter  │\n",
       "└────────────┴─────────────────────────────────┴─────────┴─────────────────────┘"
      ]
     },
     "execution_count": 5,
     "metadata": {},
     "output_type": "execute_result"
    }
   ],
   "source": [
    "# Define the query ID\n",
    "QUERY_ID = 5090128\n",
    "response = dune.download_csv(QUERY_ID)\n",
    "data = response.data.read().decode()\n",
    "df = pl.read_csv(StringIO(data))\n",
    "\n",
    "df = (df\n",
    "      .with_columns(\n",
    "          pl.col(\"address\").str.to_lowercase())\n",
    "      .sort(by=[\"blockchain\", \"dex_name\"])\n",
    "      .rename({\"dex_name\": \"name\"})\n",
    "      )\n",
    "\n",
    "file_dir = os.path.join(data_dir, \"dex_addresses.csv\")\n",
    "df.write_csv(file_dir)\n",
    "\n",
    "df.head()"
   ]
  }
 ],
 "metadata": {
  "kernelspec": {
   "display_name": "base",
   "language": "python",
   "name": "python3"
  },
  "language_info": {
   "codemirror_mode": {
    "name": "ipython",
    "version": 3
   },
   "file_extension": ".py",
   "mimetype": "text/x-python",
   "name": "python",
   "nbconvert_exporter": "python",
   "pygments_lexer": "ipython3",
   "version": "3.12.2"
  },
  "orig_nbformat": 4
 },
 "nbformat": 4,
 "nbformat_minor": 2
}
